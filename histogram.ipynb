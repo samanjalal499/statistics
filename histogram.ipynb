{
  "nbformat": 4,
  "nbformat_minor": 0,
  "metadata": {
    "colab": {
      "provenance": [],
      "authorship_tag": "ABX9TyPC1NZ7AfgOG+DQqHbjhSi2",
      "include_colab_link": true
    },
    "kernelspec": {
      "name": "python3",
      "display_name": "Python 3"
    },
    "language_info": {
      "name": "python"
    }
  },
  "cells": [
    {
      "cell_type": "markdown",
      "metadata": {
        "id": "view-in-github",
        "colab_type": "text"
      },
      "source": [
        "<a href=\"https://colab.research.google.com/github/samanjalal499/statistics/blob/main/histogram.ipynb\" target=\"_parent\"><img src=\"https://colab.research.google.com/assets/colab-badge.svg\" alt=\"Open In Colab\"/></a>"
      ]
    },
    {
      "cell_type": "code",
      "source": [
        " from google.colab import drive\n",
        "\n",
        "\n"
      ],
      "metadata": {
        "id": "893tVgspHAqw"
      },
      "execution_count": 1,
      "outputs": []
    },
    {
      "cell_type": "code",
      "source": [
        "import numpy as nd\n",
        "import pandas as pd \n",
        "\n",
        "import scipy.stats as st\n",
        "import matplotlib.pyplot as plt\n",
        "import seaborn as sns\n",
        "import statistics"
      ],
      "metadata": {
        "id": "LJIfdosR-g7A"
      },
      "execution_count": 2,
      "outputs": []
    },
    {
      "cell_type": "code",
      "source": [
        "import numpy as nd\n",
        "import scipy.stats as st\n",
        "import matplotlib.pyplot as plt\n",
        "import seaborn as sns"
      ],
      "metadata": {
        "id": "Xm24Xw16nsiu"
      },
      "execution_count": 3,
      "outputs": []
    },
    {
      "cell_type": "code",
      "source": [
        "drive .mount('/content/drive')\n"
      ],
      "metadata": {
        "colab": {
          "base_uri": "https://localhost:8080/"
        },
        "id": "lpcSPEko-XUu",
        "outputId": "6ab91e32-d25a-47db-fc3a-46eda646b548"
      },
      "execution_count": 4,
      "outputs": [
        {
          "output_type": "stream",
          "name": "stdout",
          "text": [
            "Mounted at /content/drive\n"
          ]
        }
      ]
    },
    {
      "cell_type": "code",
      "source": [
        "mydata= pd.read_csv('/content/drive/MyDrive/statis/Deaths only.csv')"
      ],
      "metadata": {
        "id": "XUZIprrZ-xDb"
      },
      "execution_count": 5,
      "outputs": []
    },
    {
      "cell_type": "code",
      "source": [
        "mydata.head()"
      ],
      "metadata": {
        "colab": {
          "base_uri": "https://localhost:8080/",
          "height": 704
        },
        "id": "OrlNl0II_ZBq",
        "outputId": "0bd1d9f0-c33b-408a-befc-bd7e6463ac24"
      },
      "execution_count": 6,
      "outputs": [
        {
          "output_type": "execute_result",
          "data": {
            "text/plain": [
              "                             Report key     Date and time              Type  \\\n",
              "0                                  9488  01/01/2004 03:00  Non-Combat Event   \n",
              "1                                  9507  01/01/2004 09:26  Non-Combat Event   \n",
              "2                                  9543  01/01/2004 12:00    Criminal Event   \n",
              "3                                  9549  01/01/2004 16:30   Friendly Action   \n",
              "4  63A65482-0487-4D2C-93F6-E3AD2637CDA0  01/01/2004 16:30    Criminal Event   \n",
              "\n",
              "   Category                                              Title       Region  \\\n",
              "0  Accident  FATAL VEHICLE ACCIDENT IN BAGHDAD (ZONE 1) - 2...  MND-BAGHDAD   \n",
              "1  Accident  1/1 ID 5-TON TRUCK ACCIDENT S. OF AR RAMADI: 1...        MNF-W   \n",
              "2    Murder                         UNIVERSITY DEAN FOUND DEAD        MND-N   \n",
              "3     Other    GAS STATION SET ON FIRE; 1 X EN KIA, 2 X EN WIA       MND-SE   \n",
              "4     Arson  TF DIMONIUS personnel guarding CIMIC house, re...       MND-SE   \n",
              "\n",
              "  Attack on  Coalition forces wounded  Coalition forces killed  \\\n",
              "0   NEUTRAL                         0                        2   \n",
              "1   NEUTRAL                         6                        1   \n",
              "2     ENEMY                         0                        0   \n",
              "3    FRIEND                         0                        0   \n",
              "4     ENEMY                         0                        0   \n",
              "\n",
              "   Iraq forces wounded  Iraq forces killed  Civilian wia  Civilian kia  \\\n",
              "0                    0                   0             0             0   \n",
              "1                    0                   0             0             0   \n",
              "2                    0                   0             0             1   \n",
              "3                    0                   0             0             0   \n",
              "4                    0                   0             2             1   \n",
              "\n",
              "   Enemy wia  Enemy kia  Enemy detained  Total deaths   Latitude  Longitude  \n",
              "0          0          0               0             2  33.299713  44.390114  \n",
              "1          0          0               0             1  33.181026  43.403477  \n",
              "2          0          0               0             1  36.378567  43.166100  \n",
              "3          2          1               0             1  31.057678  46.187485  \n",
              "4          0          0               0             1  31.057678  46.187485  "
            ],
            "text/html": [
              "\n",
              "  <div id=\"df-e72dd807-6d78-4d30-85c1-bef1f9ed01dd\">\n",
              "    <div class=\"colab-df-container\">\n",
              "      <div>\n",
              "<style scoped>\n",
              "    .dataframe tbody tr th:only-of-type {\n",
              "        vertical-align: middle;\n",
              "    }\n",
              "\n",
              "    .dataframe tbody tr th {\n",
              "        vertical-align: top;\n",
              "    }\n",
              "\n",
              "    .dataframe thead th {\n",
              "        text-align: right;\n",
              "    }\n",
              "</style>\n",
              "<table border=\"1\" class=\"dataframe\">\n",
              "  <thead>\n",
              "    <tr style=\"text-align: right;\">\n",
              "      <th></th>\n",
              "      <th>Report key</th>\n",
              "      <th>Date and time</th>\n",
              "      <th>Type</th>\n",
              "      <th>Category</th>\n",
              "      <th>Title</th>\n",
              "      <th>Region</th>\n",
              "      <th>Attack on</th>\n",
              "      <th>Coalition forces wounded</th>\n",
              "      <th>Coalition forces killed</th>\n",
              "      <th>Iraq forces wounded</th>\n",
              "      <th>Iraq forces killed</th>\n",
              "      <th>Civilian wia</th>\n",
              "      <th>Civilian kia</th>\n",
              "      <th>Enemy wia</th>\n",
              "      <th>Enemy kia</th>\n",
              "      <th>Enemy detained</th>\n",
              "      <th>Total deaths</th>\n",
              "      <th>Latitude</th>\n",
              "      <th>Longitude</th>\n",
              "    </tr>\n",
              "  </thead>\n",
              "  <tbody>\n",
              "    <tr>\n",
              "      <th>0</th>\n",
              "      <td>9488</td>\n",
              "      <td>01/01/2004 03:00</td>\n",
              "      <td>Non-Combat Event</td>\n",
              "      <td>Accident</td>\n",
              "      <td>FATAL VEHICLE ACCIDENT IN BAGHDAD (ZONE 1) - 2...</td>\n",
              "      <td>MND-BAGHDAD</td>\n",
              "      <td>NEUTRAL</td>\n",
              "      <td>0</td>\n",
              "      <td>2</td>\n",
              "      <td>0</td>\n",
              "      <td>0</td>\n",
              "      <td>0</td>\n",
              "      <td>0</td>\n",
              "      <td>0</td>\n",
              "      <td>0</td>\n",
              "      <td>0</td>\n",
              "      <td>2</td>\n",
              "      <td>33.299713</td>\n",
              "      <td>44.390114</td>\n",
              "    </tr>\n",
              "    <tr>\n",
              "      <th>1</th>\n",
              "      <td>9507</td>\n",
              "      <td>01/01/2004 09:26</td>\n",
              "      <td>Non-Combat Event</td>\n",
              "      <td>Accident</td>\n",
              "      <td>1/1 ID 5-TON TRUCK ACCIDENT S. OF AR RAMADI: 1...</td>\n",
              "      <td>MNF-W</td>\n",
              "      <td>NEUTRAL</td>\n",
              "      <td>6</td>\n",
              "      <td>1</td>\n",
              "      <td>0</td>\n",
              "      <td>0</td>\n",
              "      <td>0</td>\n",
              "      <td>0</td>\n",
              "      <td>0</td>\n",
              "      <td>0</td>\n",
              "      <td>0</td>\n",
              "      <td>1</td>\n",
              "      <td>33.181026</td>\n",
              "      <td>43.403477</td>\n",
              "    </tr>\n",
              "    <tr>\n",
              "      <th>2</th>\n",
              "      <td>9543</td>\n",
              "      <td>01/01/2004 12:00</td>\n",
              "      <td>Criminal Event</td>\n",
              "      <td>Murder</td>\n",
              "      <td>UNIVERSITY DEAN FOUND DEAD</td>\n",
              "      <td>MND-N</td>\n",
              "      <td>ENEMY</td>\n",
              "      <td>0</td>\n",
              "      <td>0</td>\n",
              "      <td>0</td>\n",
              "      <td>0</td>\n",
              "      <td>0</td>\n",
              "      <td>1</td>\n",
              "      <td>0</td>\n",
              "      <td>0</td>\n",
              "      <td>0</td>\n",
              "      <td>1</td>\n",
              "      <td>36.378567</td>\n",
              "      <td>43.166100</td>\n",
              "    </tr>\n",
              "    <tr>\n",
              "      <th>3</th>\n",
              "      <td>9549</td>\n",
              "      <td>01/01/2004 16:30</td>\n",
              "      <td>Friendly Action</td>\n",
              "      <td>Other</td>\n",
              "      <td>GAS STATION SET ON FIRE; 1 X EN KIA, 2 X EN WIA</td>\n",
              "      <td>MND-SE</td>\n",
              "      <td>FRIEND</td>\n",
              "      <td>0</td>\n",
              "      <td>0</td>\n",
              "      <td>0</td>\n",
              "      <td>0</td>\n",
              "      <td>0</td>\n",
              "      <td>0</td>\n",
              "      <td>2</td>\n",
              "      <td>1</td>\n",
              "      <td>0</td>\n",
              "      <td>1</td>\n",
              "      <td>31.057678</td>\n",
              "      <td>46.187485</td>\n",
              "    </tr>\n",
              "    <tr>\n",
              "      <th>4</th>\n",
              "      <td>63A65482-0487-4D2C-93F6-E3AD2637CDA0</td>\n",
              "      <td>01/01/2004 16:30</td>\n",
              "      <td>Criminal Event</td>\n",
              "      <td>Arson</td>\n",
              "      <td>TF DIMONIUS personnel guarding CIMIC house, re...</td>\n",
              "      <td>MND-SE</td>\n",
              "      <td>ENEMY</td>\n",
              "      <td>0</td>\n",
              "      <td>0</td>\n",
              "      <td>0</td>\n",
              "      <td>0</td>\n",
              "      <td>2</td>\n",
              "      <td>1</td>\n",
              "      <td>0</td>\n",
              "      <td>0</td>\n",
              "      <td>0</td>\n",
              "      <td>1</td>\n",
              "      <td>31.057678</td>\n",
              "      <td>46.187485</td>\n",
              "    </tr>\n",
              "  </tbody>\n",
              "</table>\n",
              "</div>\n",
              "      <button class=\"colab-df-convert\" onclick=\"convertToInteractive('df-e72dd807-6d78-4d30-85c1-bef1f9ed01dd')\"\n",
              "              title=\"Convert this dataframe to an interactive table.\"\n",
              "              style=\"display:none;\">\n",
              "        \n",
              "  <svg xmlns=\"http://www.w3.org/2000/svg\" height=\"24px\"viewBox=\"0 0 24 24\"\n",
              "       width=\"24px\">\n",
              "    <path d=\"M0 0h24v24H0V0z\" fill=\"none\"/>\n",
              "    <path d=\"M18.56 5.44l.94 2.06.94-2.06 2.06-.94-2.06-.94-.94-2.06-.94 2.06-2.06.94zm-11 1L8.5 8.5l.94-2.06 2.06-.94-2.06-.94L8.5 2.5l-.94 2.06-2.06.94zm10 10l.94 2.06.94-2.06 2.06-.94-2.06-.94-.94-2.06-.94 2.06-2.06.94z\"/><path d=\"M17.41 7.96l-1.37-1.37c-.4-.4-.92-.59-1.43-.59-.52 0-1.04.2-1.43.59L10.3 9.45l-7.72 7.72c-.78.78-.78 2.05 0 2.83L4 21.41c.39.39.9.59 1.41.59.51 0 1.02-.2 1.41-.59l7.78-7.78 2.81-2.81c.8-.78.8-2.07 0-2.86zM5.41 20L4 18.59l7.72-7.72 1.47 1.35L5.41 20z\"/>\n",
              "  </svg>\n",
              "      </button>\n",
              "      \n",
              "  <style>\n",
              "    .colab-df-container {\n",
              "      display:flex;\n",
              "      flex-wrap:wrap;\n",
              "      gap: 12px;\n",
              "    }\n",
              "\n",
              "    .colab-df-convert {\n",
              "      background-color: #E8F0FE;\n",
              "      border: none;\n",
              "      border-radius: 50%;\n",
              "      cursor: pointer;\n",
              "      display: none;\n",
              "      fill: #1967D2;\n",
              "      height: 32px;\n",
              "      padding: 0 0 0 0;\n",
              "      width: 32px;\n",
              "    }\n",
              "\n",
              "    .colab-df-convert:hover {\n",
              "      background-color: #E2EBFA;\n",
              "      box-shadow: 0px 1px 2px rgba(60, 64, 67, 0.3), 0px 1px 3px 1px rgba(60, 64, 67, 0.15);\n",
              "      fill: #174EA6;\n",
              "    }\n",
              "\n",
              "    [theme=dark] .colab-df-convert {\n",
              "      background-color: #3B4455;\n",
              "      fill: #D2E3FC;\n",
              "    }\n",
              "\n",
              "    [theme=dark] .colab-df-convert:hover {\n",
              "      background-color: #434B5C;\n",
              "      box-shadow: 0px 1px 3px 1px rgba(0, 0, 0, 0.15);\n",
              "      filter: drop-shadow(0px 1px 2px rgba(0, 0, 0, 0.3));\n",
              "      fill: #FFFFFF;\n",
              "    }\n",
              "  </style>\n",
              "\n",
              "      <script>\n",
              "        const buttonEl =\n",
              "          document.querySelector('#df-e72dd807-6d78-4d30-85c1-bef1f9ed01dd button.colab-df-convert');\n",
              "        buttonEl.style.display =\n",
              "          google.colab.kernel.accessAllowed ? 'block' : 'none';\n",
              "\n",
              "        async function convertToInteractive(key) {\n",
              "          const element = document.querySelector('#df-e72dd807-6d78-4d30-85c1-bef1f9ed01dd');\n",
              "          const dataTable =\n",
              "            await google.colab.kernel.invokeFunction('convertToInteractive',\n",
              "                                                     [key], {});\n",
              "          if (!dataTable) return;\n",
              "\n",
              "          const docLinkHtml = 'Like what you see? Visit the ' +\n",
              "            '<a target=\"_blank\" href=https://colab.research.google.com/notebooks/data_table.ipynb>data table notebook</a>'\n",
              "            + ' to learn more about interactive tables.';\n",
              "          element.innerHTML = '';\n",
              "          dataTable['output_type'] = 'display_data';\n",
              "          await google.colab.output.renderOutput(dataTable, element);\n",
              "          const docLink = document.createElement('div');\n",
              "          docLink.innerHTML = docLinkHtml;\n",
              "          element.appendChild(docLink);\n",
              "        }\n",
              "      </script>\n",
              "    </div>\n",
              "  </div>\n",
              "  "
            ]
          },
          "metadata": {},
          "execution_count": 6
        }
      ]
    },
    {
      "cell_type": "code",
      "source": [
        "mydata.describe(include=\"all\")"
      ],
      "metadata": {
        "id": "l8_RcY7opnVl",
        "outputId": "11043eb2-e3cf-490c-c504-44f61ed92352",
        "colab": {
          "base_uri": "https://localhost:8080/",
          "height": 510
        }
      },
      "execution_count": 7,
      "outputs": [
        {
          "output_type": "execute_result",
          "data": {
            "text/plain": [
              "       Report key     Date and time            Type Category  Title  \\\n",
              "count       52048             52048           52048    52047  50707   \n",
              "unique      52048             43512              12       85  39014   \n",
              "top          9488  13/06/2006 00:00  Criminal Event   Murder    UNK   \n",
              "freq            1                53           24356    24047   1521   \n",
              "mean          NaN               NaN             NaN      NaN    NaN   \n",
              "std           NaN               NaN             NaN      NaN    NaN   \n",
              "min           NaN               NaN             NaN      NaN    NaN   \n",
              "25%           NaN               NaN             NaN      NaN    NaN   \n",
              "50%           NaN               NaN             NaN      NaN    NaN   \n",
              "75%           NaN               NaN             NaN      NaN    NaN   \n",
              "max           NaN               NaN             NaN      NaN    NaN   \n",
              "\n",
              "             Region Attack on  Coalition forces wounded  \\\n",
              "count         51999     52048              52048.000000   \n",
              "unique            7         3                       NaN   \n",
              "top     MND-BAGHDAD     ENEMY                       NaN   \n",
              "freq          23783     45975                       NaN   \n",
              "mean            NaN       NaN                  0.151725   \n",
              "std             NaN       NaN                  1.308172   \n",
              "min             NaN       NaN                  0.000000   \n",
              "25%             NaN       NaN                  0.000000   \n",
              "50%             NaN       NaN                  0.000000   \n",
              "75%             NaN       NaN                  0.000000   \n",
              "max             NaN       NaN                118.000000   \n",
              "\n",
              "        Coalition forces killed  Iraq forces wounded  Iraq forces killed  \\\n",
              "count              52048.000000         52048.000000        52048.000000   \n",
              "unique                      NaN                  NaN                 NaN   \n",
              "top                         NaN                  NaN                 NaN   \n",
              "freq                        NaN                  NaN                 NaN   \n",
              "mean                   0.072395             0.335748            0.290501   \n",
              "std                    0.441807             1.857530            1.011373   \n",
              "min                    0.000000             0.000000            0.000000   \n",
              "25%                    0.000000             0.000000            0.000000   \n",
              "50%                    0.000000             0.000000            0.000000   \n",
              "75%                    0.000000             0.000000            0.000000   \n",
              "max                   31.000000            97.000000           48.000000   \n",
              "\n",
              "        Civilian wia  Civilian kia     Enemy wia     Enemy kia  \\\n",
              "count   52048.000000  52048.000000  52048.000000  52048.000000   \n",
              "unique           NaN           NaN           NaN           NaN   \n",
              "top              NaN           NaN           NaN           NaN   \n",
              "freq             NaN           NaN           NaN           NaN   \n",
              "mean        1.236877      1.261316      0.065247      0.458365   \n",
              "std         8.653318      4.250393      1.336718      2.640768   \n",
              "min         0.000000      0.000000      0.000000      0.000000   \n",
              "25%         0.000000      0.000000      0.000000      0.000000   \n",
              "50%         0.000000      1.000000      0.000000      0.000000   \n",
              "75%         0.000000      1.000000      0.000000      0.000000   \n",
              "max       641.000000    436.000000    194.000000    262.000000   \n",
              "\n",
              "        Enemy detained  Total deaths      Latitude     Longitude  \n",
              "count     52048.000000  52048.000000  52048.000000  52048.000000  \n",
              "unique             NaN           NaN           NaN           NaN  \n",
              "top                NaN           NaN           NaN           NaN  \n",
              "freq               NaN           NaN           NaN           NaN  \n",
              "mean          0.283181      2.082578     33.664309     44.307966  \n",
              "std           4.904411      5.030827      1.272133      1.027915  \n",
              "min           0.000000      1.000000     29.080568     38.908558  \n",
              "25%           0.000000      1.000000     33.261772     44.070820  \n",
              "50%           0.000000      1.000000     33.365656     44.352551  \n",
              "75%           0.000000      2.000000     33.856053     44.476757  \n",
              "max         560.000000    443.000000     37.886650     48.861084  "
            ],
            "text/html": [
              "\n",
              "  <div id=\"df-ded334c8-51ed-43b7-8198-653180d970e3\">\n",
              "    <div class=\"colab-df-container\">\n",
              "      <div>\n",
              "<style scoped>\n",
              "    .dataframe tbody tr th:only-of-type {\n",
              "        vertical-align: middle;\n",
              "    }\n",
              "\n",
              "    .dataframe tbody tr th {\n",
              "        vertical-align: top;\n",
              "    }\n",
              "\n",
              "    .dataframe thead th {\n",
              "        text-align: right;\n",
              "    }\n",
              "</style>\n",
              "<table border=\"1\" class=\"dataframe\">\n",
              "  <thead>\n",
              "    <tr style=\"text-align: right;\">\n",
              "      <th></th>\n",
              "      <th>Report key</th>\n",
              "      <th>Date and time</th>\n",
              "      <th>Type</th>\n",
              "      <th>Category</th>\n",
              "      <th>Title</th>\n",
              "      <th>Region</th>\n",
              "      <th>Attack on</th>\n",
              "      <th>Coalition forces wounded</th>\n",
              "      <th>Coalition forces killed</th>\n",
              "      <th>Iraq forces wounded</th>\n",
              "      <th>Iraq forces killed</th>\n",
              "      <th>Civilian wia</th>\n",
              "      <th>Civilian kia</th>\n",
              "      <th>Enemy wia</th>\n",
              "      <th>Enemy kia</th>\n",
              "      <th>Enemy detained</th>\n",
              "      <th>Total deaths</th>\n",
              "      <th>Latitude</th>\n",
              "      <th>Longitude</th>\n",
              "    </tr>\n",
              "  </thead>\n",
              "  <tbody>\n",
              "    <tr>\n",
              "      <th>count</th>\n",
              "      <td>52048</td>\n",
              "      <td>52048</td>\n",
              "      <td>52048</td>\n",
              "      <td>52047</td>\n",
              "      <td>50707</td>\n",
              "      <td>51999</td>\n",
              "      <td>52048</td>\n",
              "      <td>52048.000000</td>\n",
              "      <td>52048.000000</td>\n",
              "      <td>52048.000000</td>\n",
              "      <td>52048.000000</td>\n",
              "      <td>52048.000000</td>\n",
              "      <td>52048.000000</td>\n",
              "      <td>52048.000000</td>\n",
              "      <td>52048.000000</td>\n",
              "      <td>52048.000000</td>\n",
              "      <td>52048.000000</td>\n",
              "      <td>52048.000000</td>\n",
              "      <td>52048.000000</td>\n",
              "    </tr>\n",
              "    <tr>\n",
              "      <th>unique</th>\n",
              "      <td>52048</td>\n",
              "      <td>43512</td>\n",
              "      <td>12</td>\n",
              "      <td>85</td>\n",
              "      <td>39014</td>\n",
              "      <td>7</td>\n",
              "      <td>3</td>\n",
              "      <td>NaN</td>\n",
              "      <td>NaN</td>\n",
              "      <td>NaN</td>\n",
              "      <td>NaN</td>\n",
              "      <td>NaN</td>\n",
              "      <td>NaN</td>\n",
              "      <td>NaN</td>\n",
              "      <td>NaN</td>\n",
              "      <td>NaN</td>\n",
              "      <td>NaN</td>\n",
              "      <td>NaN</td>\n",
              "      <td>NaN</td>\n",
              "    </tr>\n",
              "    <tr>\n",
              "      <th>top</th>\n",
              "      <td>9488</td>\n",
              "      <td>13/06/2006 00:00</td>\n",
              "      <td>Criminal Event</td>\n",
              "      <td>Murder</td>\n",
              "      <td>UNK</td>\n",
              "      <td>MND-BAGHDAD</td>\n",
              "      <td>ENEMY</td>\n",
              "      <td>NaN</td>\n",
              "      <td>NaN</td>\n",
              "      <td>NaN</td>\n",
              "      <td>NaN</td>\n",
              "      <td>NaN</td>\n",
              "      <td>NaN</td>\n",
              "      <td>NaN</td>\n",
              "      <td>NaN</td>\n",
              "      <td>NaN</td>\n",
              "      <td>NaN</td>\n",
              "      <td>NaN</td>\n",
              "      <td>NaN</td>\n",
              "    </tr>\n",
              "    <tr>\n",
              "      <th>freq</th>\n",
              "      <td>1</td>\n",
              "      <td>53</td>\n",
              "      <td>24356</td>\n",
              "      <td>24047</td>\n",
              "      <td>1521</td>\n",
              "      <td>23783</td>\n",
              "      <td>45975</td>\n",
              "      <td>NaN</td>\n",
              "      <td>NaN</td>\n",
              "      <td>NaN</td>\n",
              "      <td>NaN</td>\n",
              "      <td>NaN</td>\n",
              "      <td>NaN</td>\n",
              "      <td>NaN</td>\n",
              "      <td>NaN</td>\n",
              "      <td>NaN</td>\n",
              "      <td>NaN</td>\n",
              "      <td>NaN</td>\n",
              "      <td>NaN</td>\n",
              "    </tr>\n",
              "    <tr>\n",
              "      <th>mean</th>\n",
              "      <td>NaN</td>\n",
              "      <td>NaN</td>\n",
              "      <td>NaN</td>\n",
              "      <td>NaN</td>\n",
              "      <td>NaN</td>\n",
              "      <td>NaN</td>\n",
              "      <td>NaN</td>\n",
              "      <td>0.151725</td>\n",
              "      <td>0.072395</td>\n",
              "      <td>0.335748</td>\n",
              "      <td>0.290501</td>\n",
              "      <td>1.236877</td>\n",
              "      <td>1.261316</td>\n",
              "      <td>0.065247</td>\n",
              "      <td>0.458365</td>\n",
              "      <td>0.283181</td>\n",
              "      <td>2.082578</td>\n",
              "      <td>33.664309</td>\n",
              "      <td>44.307966</td>\n",
              "    </tr>\n",
              "    <tr>\n",
              "      <th>std</th>\n",
              "      <td>NaN</td>\n",
              "      <td>NaN</td>\n",
              "      <td>NaN</td>\n",
              "      <td>NaN</td>\n",
              "      <td>NaN</td>\n",
              "      <td>NaN</td>\n",
              "      <td>NaN</td>\n",
              "      <td>1.308172</td>\n",
              "      <td>0.441807</td>\n",
              "      <td>1.857530</td>\n",
              "      <td>1.011373</td>\n",
              "      <td>8.653318</td>\n",
              "      <td>4.250393</td>\n",
              "      <td>1.336718</td>\n",
              "      <td>2.640768</td>\n",
              "      <td>4.904411</td>\n",
              "      <td>5.030827</td>\n",
              "      <td>1.272133</td>\n",
              "      <td>1.027915</td>\n",
              "    </tr>\n",
              "    <tr>\n",
              "      <th>min</th>\n",
              "      <td>NaN</td>\n",
              "      <td>NaN</td>\n",
              "      <td>NaN</td>\n",
              "      <td>NaN</td>\n",
              "      <td>NaN</td>\n",
              "      <td>NaN</td>\n",
              "      <td>NaN</td>\n",
              "      <td>0.000000</td>\n",
              "      <td>0.000000</td>\n",
              "      <td>0.000000</td>\n",
              "      <td>0.000000</td>\n",
              "      <td>0.000000</td>\n",
              "      <td>0.000000</td>\n",
              "      <td>0.000000</td>\n",
              "      <td>0.000000</td>\n",
              "      <td>0.000000</td>\n",
              "      <td>1.000000</td>\n",
              "      <td>29.080568</td>\n",
              "      <td>38.908558</td>\n",
              "    </tr>\n",
              "    <tr>\n",
              "      <th>25%</th>\n",
              "      <td>NaN</td>\n",
              "      <td>NaN</td>\n",
              "      <td>NaN</td>\n",
              "      <td>NaN</td>\n",
              "      <td>NaN</td>\n",
              "      <td>NaN</td>\n",
              "      <td>NaN</td>\n",
              "      <td>0.000000</td>\n",
              "      <td>0.000000</td>\n",
              "      <td>0.000000</td>\n",
              "      <td>0.000000</td>\n",
              "      <td>0.000000</td>\n",
              "      <td>0.000000</td>\n",
              "      <td>0.000000</td>\n",
              "      <td>0.000000</td>\n",
              "      <td>0.000000</td>\n",
              "      <td>1.000000</td>\n",
              "      <td>33.261772</td>\n",
              "      <td>44.070820</td>\n",
              "    </tr>\n",
              "    <tr>\n",
              "      <th>50%</th>\n",
              "      <td>NaN</td>\n",
              "      <td>NaN</td>\n",
              "      <td>NaN</td>\n",
              "      <td>NaN</td>\n",
              "      <td>NaN</td>\n",
              "      <td>NaN</td>\n",
              "      <td>NaN</td>\n",
              "      <td>0.000000</td>\n",
              "      <td>0.000000</td>\n",
              "      <td>0.000000</td>\n",
              "      <td>0.000000</td>\n",
              "      <td>0.000000</td>\n",
              "      <td>1.000000</td>\n",
              "      <td>0.000000</td>\n",
              "      <td>0.000000</td>\n",
              "      <td>0.000000</td>\n",
              "      <td>1.000000</td>\n",
              "      <td>33.365656</td>\n",
              "      <td>44.352551</td>\n",
              "    </tr>\n",
              "    <tr>\n",
              "      <th>75%</th>\n",
              "      <td>NaN</td>\n",
              "      <td>NaN</td>\n",
              "      <td>NaN</td>\n",
              "      <td>NaN</td>\n",
              "      <td>NaN</td>\n",
              "      <td>NaN</td>\n",
              "      <td>NaN</td>\n",
              "      <td>0.000000</td>\n",
              "      <td>0.000000</td>\n",
              "      <td>0.000000</td>\n",
              "      <td>0.000000</td>\n",
              "      <td>0.000000</td>\n",
              "      <td>1.000000</td>\n",
              "      <td>0.000000</td>\n",
              "      <td>0.000000</td>\n",
              "      <td>0.000000</td>\n",
              "      <td>2.000000</td>\n",
              "      <td>33.856053</td>\n",
              "      <td>44.476757</td>\n",
              "    </tr>\n",
              "    <tr>\n",
              "      <th>max</th>\n",
              "      <td>NaN</td>\n",
              "      <td>NaN</td>\n",
              "      <td>NaN</td>\n",
              "      <td>NaN</td>\n",
              "      <td>NaN</td>\n",
              "      <td>NaN</td>\n",
              "      <td>NaN</td>\n",
              "      <td>118.000000</td>\n",
              "      <td>31.000000</td>\n",
              "      <td>97.000000</td>\n",
              "      <td>48.000000</td>\n",
              "      <td>641.000000</td>\n",
              "      <td>436.000000</td>\n",
              "      <td>194.000000</td>\n",
              "      <td>262.000000</td>\n",
              "      <td>560.000000</td>\n",
              "      <td>443.000000</td>\n",
              "      <td>37.886650</td>\n",
              "      <td>48.861084</td>\n",
              "    </tr>\n",
              "  </tbody>\n",
              "</table>\n",
              "</div>\n",
              "      <button class=\"colab-df-convert\" onclick=\"convertToInteractive('df-ded334c8-51ed-43b7-8198-653180d970e3')\"\n",
              "              title=\"Convert this dataframe to an interactive table.\"\n",
              "              style=\"display:none;\">\n",
              "        \n",
              "  <svg xmlns=\"http://www.w3.org/2000/svg\" height=\"24px\"viewBox=\"0 0 24 24\"\n",
              "       width=\"24px\">\n",
              "    <path d=\"M0 0h24v24H0V0z\" fill=\"none\"/>\n",
              "    <path d=\"M18.56 5.44l.94 2.06.94-2.06 2.06-.94-2.06-.94-.94-2.06-.94 2.06-2.06.94zm-11 1L8.5 8.5l.94-2.06 2.06-.94-2.06-.94L8.5 2.5l-.94 2.06-2.06.94zm10 10l.94 2.06.94-2.06 2.06-.94-2.06-.94-.94-2.06-.94 2.06-2.06.94z\"/><path d=\"M17.41 7.96l-1.37-1.37c-.4-.4-.92-.59-1.43-.59-.52 0-1.04.2-1.43.59L10.3 9.45l-7.72 7.72c-.78.78-.78 2.05 0 2.83L4 21.41c.39.39.9.59 1.41.59.51 0 1.02-.2 1.41-.59l7.78-7.78 2.81-2.81c.8-.78.8-2.07 0-2.86zM5.41 20L4 18.59l7.72-7.72 1.47 1.35L5.41 20z\"/>\n",
              "  </svg>\n",
              "      </button>\n",
              "      \n",
              "  <style>\n",
              "    .colab-df-container {\n",
              "      display:flex;\n",
              "      flex-wrap:wrap;\n",
              "      gap: 12px;\n",
              "    }\n",
              "\n",
              "    .colab-df-convert {\n",
              "      background-color: #E8F0FE;\n",
              "      border: none;\n",
              "      border-radius: 50%;\n",
              "      cursor: pointer;\n",
              "      display: none;\n",
              "      fill: #1967D2;\n",
              "      height: 32px;\n",
              "      padding: 0 0 0 0;\n",
              "      width: 32px;\n",
              "    }\n",
              "\n",
              "    .colab-df-convert:hover {\n",
              "      background-color: #E2EBFA;\n",
              "      box-shadow: 0px 1px 2px rgba(60, 64, 67, 0.3), 0px 1px 3px 1px rgba(60, 64, 67, 0.15);\n",
              "      fill: #174EA6;\n",
              "    }\n",
              "\n",
              "    [theme=dark] .colab-df-convert {\n",
              "      background-color: #3B4455;\n",
              "      fill: #D2E3FC;\n",
              "    }\n",
              "\n",
              "    [theme=dark] .colab-df-convert:hover {\n",
              "      background-color: #434B5C;\n",
              "      box-shadow: 0px 1px 3px 1px rgba(0, 0, 0, 0.15);\n",
              "      filter: drop-shadow(0px 1px 2px rgba(0, 0, 0, 0.3));\n",
              "      fill: #FFFFFF;\n",
              "    }\n",
              "  </style>\n",
              "\n",
              "      <script>\n",
              "        const buttonEl =\n",
              "          document.querySelector('#df-ded334c8-51ed-43b7-8198-653180d970e3 button.colab-df-convert');\n",
              "        buttonEl.style.display =\n",
              "          google.colab.kernel.accessAllowed ? 'block' : 'none';\n",
              "\n",
              "        async function convertToInteractive(key) {\n",
              "          const element = document.querySelector('#df-ded334c8-51ed-43b7-8198-653180d970e3');\n",
              "          const dataTable =\n",
              "            await google.colab.kernel.invokeFunction('convertToInteractive',\n",
              "                                                     [key], {});\n",
              "          if (!dataTable) return;\n",
              "\n",
              "          const docLinkHtml = 'Like what you see? Visit the ' +\n",
              "            '<a target=\"_blank\" href=https://colab.research.google.com/notebooks/data_table.ipynb>data table notebook</a>'\n",
              "            + ' to learn more about interactive tables.';\n",
              "          element.innerHTML = '';\n",
              "          dataTable['output_type'] = 'display_data';\n",
              "          await google.colab.output.renderOutput(dataTable, element);\n",
              "          const docLink = document.createElement('div');\n",
              "          docLink.innerHTML = docLinkHtml;\n",
              "          element.appendChild(docLink);\n",
              "        }\n",
              "      </script>\n",
              "    </div>\n",
              "  </div>\n",
              "  "
            ]
          },
          "metadata": {},
          "execution_count": 7
        }
      ]
    },
    {
      "cell_type": "code",
      "source": [
        "mydata.info()"
      ],
      "metadata": {
        "colab": {
          "base_uri": "https://localhost:8080/"
        },
        "id": "1U0hfOWfHwUc",
        "outputId": "c961f99f-3781-48ac-9c64-0a51e4f2528f"
      },
      "execution_count": 8,
      "outputs": [
        {
          "output_type": "stream",
          "name": "stdout",
          "text": [
            "<class 'pandas.core.frame.DataFrame'>\n",
            "RangeIndex: 52048 entries, 0 to 52047\n",
            "Data columns (total 19 columns):\n",
            " #   Column                    Non-Null Count  Dtype  \n",
            "---  ------                    --------------  -----  \n",
            " 0   Report key                52048 non-null  object \n",
            " 1   Date and time             52048 non-null  object \n",
            " 2   Type                      52048 non-null  object \n",
            " 3   Category                  52047 non-null  object \n",
            " 4   Title                     50707 non-null  object \n",
            " 5   Region                    51999 non-null  object \n",
            " 6   Attack on                 52048 non-null  object \n",
            " 7   Coalition forces wounded  52048 non-null  int64  \n",
            " 8   Coalition forces killed   52048 non-null  int64  \n",
            " 9   Iraq forces wounded       52048 non-null  int64  \n",
            " 10  Iraq forces killed        52048 non-null  int64  \n",
            " 11  Civilian wia              52048 non-null  int64  \n",
            " 12  Civilian kia              52048 non-null  int64  \n",
            " 13  Enemy wia                 52048 non-null  int64  \n",
            " 14  Enemy kia                 52048 non-null  int64  \n",
            " 15  Enemy detained            52048 non-null  int64  \n",
            " 16  Total deaths              52048 non-null  int64  \n",
            " 17  Latitude                  52048 non-null  float64\n",
            " 18  Longitude                 52048 non-null  float64\n",
            "dtypes: float64(2), int64(10), object(7)\n",
            "memory usage: 7.5+ MB\n"
          ]
        }
      ]
    },
    {
      "cell_type": "code",
      "source": [
        "import matplotlib.pyplot as plt\n",
        "mydata.hist(figsize=(30,40))"
      ],
      "metadata": {
        "id": "vgsPX8CxIwJS",
        "outputId": "0287a049-e67e-49cd-aad9-7d7f6e228db3",
        "colab": {
          "base_uri": "https://localhost:8080/",
          "height": 1000
        }
      },
      "execution_count": 16,
      "outputs": [
        {
          "output_type": "execute_result",
          "data": {
            "text/plain": [
              "array([[<Axes: title={'center': 'Coalition forces wounded'}>,\n",
              "        <Axes: title={'center': 'Coalition forces killed'}>,\n",
              "        <Axes: title={'center': 'Iraq forces wounded'}>],\n",
              "       [<Axes: title={'center': 'Iraq forces killed'}>,\n",
              "        <Axes: title={'center': 'Civilian wia'}>,\n",
              "        <Axes: title={'center': 'Civilian kia'}>],\n",
              "       [<Axes: title={'center': 'Enemy wia'}>,\n",
              "        <Axes: title={'center': 'Enemy kia'}>,\n",
              "        <Axes: title={'center': 'Enemy detained'}>],\n",
              "       [<Axes: title={'center': 'Total deaths'}>,\n",
              "        <Axes: title={'center': 'Latitude'}>,\n",
              "        <Axes: title={'center': 'Longitude'}>]], dtype=object)"
            ]
          },
          "metadata": {},
          "execution_count": 16
        },
        {
          "output_type": "display_data",
          "data": {
            "text/plain": [
              "<Figure size 3000x4000 with 12 Axes>"
            ],
            "image/png": "[encoded data removed]"
          },
          "metadata": {}
        }
      ]
    },
    {
      "cell_type": "code",
      "source": [
        "mydata.describe()"
      ],
      "metadata": {
        "id": "jJjLGwf2bGCs",
        "outputId": "0828f9b2-7294-4d2d-c8c2-95d82ff5cbe3",
        "colab": {
          "base_uri": "https://localhost:8080/",
          "height": 399
        }
      },
      "execution_count": 11,
      "outputs": [
        {
          "output_type": "execute_result",
          "data": {
            "text/plain": [
              "       Coalition forces wounded  Coalition forces killed  Iraq forces wounded  \\\n",
              "count              52048.000000             52048.000000         52048.000000   \n",
              "mean                   0.151725                 0.072395             0.335748   \n",
              "std                    1.308172                 0.441807             1.857530   \n",
              "min                    0.000000                 0.000000             0.000000   \n",
              "25%                    0.000000                 0.000000             0.000000   \n",
              "50%                    0.000000                 0.000000             0.000000   \n",
              "75%                    0.000000                 0.000000             0.000000   \n",
              "max                  118.000000                31.000000            97.000000   \n",
              "\n",
              "       Iraq forces killed  Civilian wia  Civilian kia     Enemy wia  \\\n",
              "count        52048.000000  52048.000000  52048.000000  52048.000000   \n",
              "mean             0.290501      1.236877      1.261316      0.065247   \n",
              "std              1.011373      8.653318      4.250393      1.336718   \n",
              "min              0.000000      0.000000      0.000000      0.000000   \n",
              "25%              0.000000      0.000000      0.000000      0.000000   \n",
              "50%              0.000000      0.000000      1.000000      0.000000   \n",
              "75%              0.000000      0.000000      1.000000      0.000000   \n",
              "max             48.000000    641.000000    436.000000    194.000000   \n",
              "\n",
              "          Enemy kia  Enemy detained  Total deaths      Latitude     Longitude  \n",
              "count  52048.000000    52048.000000  52048.000000  52048.000000  52048.000000  \n",
              "mean       0.458365        0.283181      2.082578     33.664309     44.307966  \n",
              "std        2.640768        4.904411      5.030827      1.272133      1.027915  \n",
              "min        0.000000        0.000000      1.000000     29.080568     38.908558  \n",
              "25%        0.000000        0.000000      1.000000     33.261772     44.070820  \n",
              "50%        0.000000        0.000000      1.000000     33.365656     44.352551  \n",
              "75%        0.000000        0.000000      2.000000     33.856053     44.476757  \n",
              "max      262.000000      560.000000    443.000000     37.886650     48.861084  "
            ],
            "text/html": [
              "\n",
              "  <div id=\"df-3d35335f-249d-463f-a8ef-5fe14d0fd0d1\">\n",
              "    <div class=\"colab-df-container\">\n",
              "      <div>\n",
              "<style scoped>\n",
              "    .dataframe tbody tr th:only-of-type {\n",
              "        vertical-align: middle;\n",
              "    }\n",
              "\n",
              "    .dataframe tbody tr th {\n",
              "        vertical-align: top;\n",
              "    }\n",
              "\n",
              "    .dataframe thead th {\n",
              "        text-align: right;\n",
              "    }\n",
              "</style>\n",
              "<table border=\"1\" class=\"dataframe\">\n",
              "  <thead>\n",
              "    <tr style=\"text-align: right;\">\n",
              "      <th></th>\n",
              "      <th>Coalition forces wounded</th>\n",
              "      <th>Coalition forces killed</th>\n",
              "      <th>Iraq forces wounded</th>\n",
              "      <th>Iraq forces killed</th>\n",
              "      <th>Civilian wia</th>\n",
              "      <th>Civilian kia</th>\n",
              "      <th>Enemy wia</th>\n",
              "      <th>Enemy kia</th>\n",
              "      <th>Enemy detained</th>\n",
              "      <th>Total deaths</th>\n",
              "      <th>Latitude</th>\n",
              "      <th>Longitude</th>\n",
              "    </tr>\n",
              "  </thead>\n",
              "  <tbody>\n",
              "    <tr>\n",
              "      <th>count</th>\n",
              "      <td>52048.000000</td>\n",
              "      <td>52048.000000</td>\n",
              "      <td>52048.000000</td>\n",
              "      <td>52048.000000</td>\n",
              "      <td>52048.000000</td>\n",
              "      <td>52048.000000</td>\n",
              "      <td>52048.000000</td>\n",
              "      <td>52048.000000</td>\n",
              "      <td>52048.000000</td>\n",
              "      <td>52048.000000</td>\n",
              "      <td>52048.000000</td>\n",
              "      <td>52048.000000</td>\n",
              "    </tr>\n",
              "    <tr>\n",
              "      <th>mean</th>\n",
              "      <td>0.151725</td>\n",
              "      <td>0.072395</td>\n",
              "      <td>0.335748</td>\n",
              "      <td>0.290501</td>\n",
              "      <td>1.236877</td>\n",
              "      <td>1.261316</td>\n",
              "      <td>0.065247</td>\n",
              "      <td>0.458365</td>\n",
              "      <td>0.283181</td>\n",
              "      <td>2.082578</td>\n",
              "      <td>33.664309</td>\n",
              "      <td>44.307966</td>\n",
              "    </tr>\n",
              "    <tr>\n",
              "      <th>std</th>\n",
              "      <td>1.308172</td>\n",
              "      <td>0.441807</td>\n",
              "      <td>1.857530</td>\n",
              "      <td>1.011373</td>\n",
              "      <td>8.653318</td>\n",
              "      <td>4.250393</td>\n",
              "      <td>1.336718</td>\n",
              "      <td>2.640768</td>\n",
              "      <td>4.904411</td>\n",
              "      <td>5.030827</td>\n",
              "      <td>1.272133</td>\n",
              "      <td>1.027915</td>\n",
              "    </tr>\n",
              "    <tr>\n",
              "      <th>min</th>\n",
              "      <td>0.000000</td>\n",
              "      <td>0.000000</td>\n",
              "      <td>0.000000</td>\n",
              "      <td>0.000000</td>\n",
              "      <td>0.000000</td>\n",
              "      <td>0.000000</td>\n",
              "      <td>0.000000</td>\n",
              "      <td>0.000000</td>\n",
              "      <td>0.000000</td>\n",
              "      <td>1.000000</td>\n",
              "      <td>29.080568</td>\n",
              "      <td>38.908558</td>\n",
              "    </tr>\n",
              "    <tr>\n",
              "      <th>25%</th>\n",
              "      <td>0.000000</td>\n",
              "      <td>0.000000</td>\n",
              "      <td>0.000000</td>\n",
              "      <td>0.000000</td>\n",
              "      <td>0.000000</td>\n",
              "      <td>0.000000</td>\n",
              "      <td>0.000000</td>\n",
              "      <td>0.000000</td>\n",
              "      <td>0.000000</td>\n",
              "      <td>1.000000</td>\n",
              "      <td>33.261772</td>\n",
              "      <td>44.070820</td>\n",
              "    </tr>\n",
              "    <tr>\n",
              "      <th>50%</th>\n",
              "      <td>0.000000</td>\n",
              "      <td>0.000000</td>\n",
              "      <td>0.000000</td>\n",
              "      <td>0.000000</td>\n",
              "      <td>0.000000</td>\n",
              "      <td>1.000000</td>\n",
              "      <td>0.000000</td>\n",
              "      <td>0.000000</td>\n",
              "      <td>0.000000</td>\n",
              "      <td>1.000000</td>\n",
              "      <td>33.365656</td>\n",
              "      <td>44.352551</td>\n",
              "    </tr>\n",
              "    <tr>\n",
              "      <th>75%</th>\n",
              "      <td>0.000000</td>\n",
              "      <td>0.000000</td>\n",
              "      <td>0.000000</td>\n",
              "      <td>0.000000</td>\n",
              "      <td>0.000000</td>\n",
              "      <td>1.000000</td>\n",
              "      <td>0.000000</td>\n",
              "      <td>0.000000</td>\n",
              "      <td>0.000000</td>\n",
              "      <td>2.000000</td>\n",
              "      <td>33.856053</td>\n",
              "      <td>44.476757</td>\n",
              "    </tr>\n",
              "    <tr>\n",
              "      <th>max</th>\n",
              "      <td>118.000000</td>\n",
              "      <td>31.000000</td>\n",
              "      <td>97.000000</td>\n",
              "      <td>48.000000</td>\n",
              "      <td>641.000000</td>\n",
              "      <td>436.000000</td>\n",
              "      <td>194.000000</td>\n",
              "      <td>262.000000</td>\n",
              "      <td>560.000000</td>\n",
              "      <td>443.000000</td>\n",
              "      <td>37.886650</td>\n",
              "      <td>48.861084</td>\n",
              "    </tr>\n",
              "  </tbody>\n",
              "</table>\n",
              "</div>\n",
              "      <button class=\"colab-df-convert\" onclick=\"convertToInteractive('df-3d35335f-249d-463f-a8ef-5fe14d0fd0d1')\"\n",
              "              title=\"Convert this dataframe to an interactive table.\"\n",
              "              style=\"display:none;\">\n",
              "        \n",
              "  <svg xmlns=\"http://www.w3.org/2000/svg\" height=\"24px\"viewBox=\"0 0 24 24\"\n",
              "       width=\"24px\">\n",
              "    <path d=\"M0 0h24v24H0V0z\" fill=\"none\"/>\n",
              "    <path d=\"M18.56 5.44l.94 2.06.94-2.06 2.06-.94-2.06-.94-.94-2.06-.94 2.06-2.06.94zm-11 1L8.5 8.5l.94-2.06 2.06-.94-2.06-.94L8.5 2.5l-.94 2.06-2.06.94zm10 10l.94 2.06.94-2.06 2.06-.94-2.06-.94-.94-2.06-.94 2.06-2.06.94z\"/><path d=\"M17.41 7.96l-1.37-1.37c-.4-.4-.92-.59-1.43-.59-.52 0-1.04.2-1.43.59L10.3 9.45l-7.72 7.72c-.78.78-.78 2.05 0 2.83L4 21.41c.39.39.9.59 1.41.59.51 0 1.02-.2 1.41-.59l7.78-7.78 2.81-2.81c.8-.78.8-2.07 0-2.86zM5.41 20L4 18.59l7.72-7.72 1.47 1.35L5.41 20z\"/>\n",
              "  </svg>\n",
              "      </button>\n",
              "      \n",
              "  <style>\n",
              "    .colab-df-container {\n",
              "      display:flex;\n",
              "      flex-wrap:wrap;\n",
              "      gap: 12px;\n",
              "    }\n",
              "\n",
              "    .colab-df-convert {\n",
              "      background-color: #E8F0FE;\n",
              "      border: none;\n",
              "      border-radius: 50%;\n",
              "      cursor: pointer;\n",
              "      display: none;\n",
              "      fill: #1967D2;\n",
              "      height: 32px;\n",
              "      padding: 0 0 0 0;\n",
              "      width: 32px;\n",
              "    }\n",
              "\n",
              "    .colab-df-convert:hover {\n",
              "      background-color: #E2EBFA;\n",
              "      box-shadow: 0px 1px 2px rgba(60, 64, 67, 0.3), 0px 1px 3px 1px rgba(60, 64, 67, 0.15);\n",
              "      fill: #174EA6;\n",
              "    }\n",
              "\n",
              "    [theme=dark] .colab-df-convert {\n",
              "      background-color: #3B4455;\n",
              "      fill: #D2E3FC;\n",
              "    }\n",
              "\n",
              "    [theme=dark] .colab-df-convert:hover {\n",
              "      background-color: #434B5C;\n",
              "      box-shadow: 0px 1px 3px 1px rgba(0, 0, 0, 0.15);\n",
              "      filter: drop-shadow(0px 1px 2px rgba(0, 0, 0, 0.3));\n",
              "      fill: #FFFFFF;\n",
              "    }\n",
              "  </style>\n",
              "\n",
              "      <script>\n",
              "        const buttonEl =\n",
              "          document.querySelector('#df-3d35335f-249d-463f-a8ef-5fe14d0fd0d1 button.colab-df-convert');\n",
              "        buttonEl.style.display =\n",
              "          google.colab.kernel.accessAllowed ? 'block' : 'none';\n",
              "\n",
              "        async function convertToInteractive(key) {\n",
              "          const element = document.querySelector('#df-3d35335f-249d-463f-a8ef-5fe14d0fd0d1');\n",
              "          const dataTable =\n",
              "            await google.colab.kernel.invokeFunction('convertToInteractive',\n",
              "                                                     [key], {});\n",
              "          if (!dataTable) return;\n",
              "\n",
              "          const docLinkHtml = 'Like what you see? Visit the ' +\n",
              "            '<a target=\"_blank\" href=https://colab.research.google.com/notebooks/data_table.ipynb>data table notebook</a>'\n",
              "            + ' to learn more about interactive tables.';\n",
              "          element.innerHTML = '';\n",
              "          dataTable['output_type'] = 'display_data';\n",
              "          await google.colab.output.renderOutput(dataTable, element);\n",
              "          const docLink = document.createElement('div');\n",
              "          docLink.innerHTML = docLinkHtml;\n",
              "          element.appendChild(docLink);\n",
              "        }\n",
              "      </script>\n",
              "    </div>\n",
              "  </div>\n",
              "  "
            ]
          },
          "metadata": {},
          "execution_count": 11
        }
      ]
    },
    {
      "cell_type": "code",
      "source": [
        "pd.pivot_table(mydata, index=['Enemy wia','Enemy kia'],\n",
        "               columns=['Total deaths'],aggfunc=len)\n"
      ],
      "metadata": {
        "id": "pKC-xeC3bl_G",
        "outputId": "3a1290a1-e407-4988-849d-55014d01afca",
        "colab": {
          "base_uri": "https://localhost:8080/",
          "height": 565
        }
      },
      "execution_count": 19,
      "outputs": [
        {
          "output_type": "execute_result",
          "data": {
            "text/plain": [
              "                    Attack on                                               \\\n",
              "Total deaths              1       2       3       4      5      6      7     \n",
              "Enemy wia Enemy kia                                                          \n",
              "0         0           31065.0  6246.0  2134.0  1151.0  560.0  347.0  193.0   \n",
              "          1            3795.0   336.0   153.0   113.0   82.0   63.0   33.0   \n",
              "          2               NaN  1383.0    61.0    34.0   12.0   14.0    9.0   \n",
              "          3               NaN     NaN   580.0    34.0   13.0   11.0    1.0   \n",
              "          4               NaN     NaN     NaN   345.0   16.0    7.0    5.0   \n",
              "...                       ...     ...     ...     ...    ...    ...    ...   \n",
              "60        3               NaN     NaN     1.0     NaN    NaN    NaN    NaN   \n",
              "75        0               NaN     NaN     NaN     NaN    NaN    NaN    NaN   \n",
              "100       20              NaN     NaN     NaN     NaN    NaN    NaN    NaN   \n",
              "110       40              NaN     NaN     NaN     NaN    NaN    NaN    NaN   \n",
              "194       52              NaN     NaN     NaN     NaN    NaN    NaN    NaN   \n",
              "\n",
              "                                         ... Type                          \\\n",
              "Total deaths           8      9     10   ...  135 153  158  166  170  181   \n",
              "Enemy wia Enemy kia                      ...                                \n",
              "0         0          151.0  103.0  93.0  ...  NaN NaN  1.0  1.0  1.0  1.0   \n",
              "          1           32.0   27.0  19.0  ...  NaN NaN  NaN  NaN  NaN  NaN   \n",
              "          2            5.0    4.0   7.0  ...  NaN NaN  NaN  NaN  NaN  NaN   \n",
              "          3            4.0    2.0   NaN  ...  NaN NaN  NaN  NaN  NaN  NaN   \n",
              "          4            7.0    NaN   2.0  ...  NaN NaN  NaN  NaN  NaN  NaN   \n",
              "...                    ...    ...   ...  ...  ...  ..  ...  ...  ...  ...   \n",
              "60        3            NaN    NaN   NaN  ...  NaN NaN  NaN  NaN  NaN  NaN   \n",
              "75        0            NaN    NaN   NaN  ...  NaN NaN  NaN  NaN  NaN  NaN   \n",
              "100       20           NaN    NaN   NaN  ...  NaN NaN  NaN  NaN  NaN  NaN   \n",
              "110       40           NaN    NaN   NaN  ...  NaN NaN  NaN  NaN  NaN  NaN   \n",
              "194       52           NaN    NaN   NaN  ...  NaN NaN  NaN  NaN  NaN  NaN   \n",
              "\n",
              "                                        \n",
              "Total deaths         250 276  299  443  \n",
              "Enemy wia Enemy kia                     \n",
              "0         0          1.0 NaN  1.0  1.0  \n",
              "          1          NaN NaN  NaN  NaN  \n",
              "          2          NaN NaN  NaN  NaN  \n",
              "          3          NaN NaN  NaN  NaN  \n",
              "          4          NaN NaN  NaN  NaN  \n",
              "...                  ...  ..  ...  ...  \n",
              "60        3          NaN NaN  NaN  NaN  \n",
              "75        0          NaN NaN  NaN  NaN  \n",
              "100       20         NaN NaN  NaN  NaN  \n",
              "110       40         NaN NaN  NaN  NaN  \n",
              "194       52         NaN NaN  NaN  NaN  \n",
              "\n",
              "[192 rows x 1456 columns]"
            ],
            "text/html": [
              "\n",
              "  <div id=\"df-f51ef5df-28f7-4b16-84f5-028ebd00e27b\">\n",
              "    <div class=\"colab-df-container\">\n",
              "      <div>\n",
              "<style scoped>\n",
              "    .dataframe tbody tr th:only-of-type {\n",
              "        vertical-align: middle;\n",
              "    }\n",
              "\n",
              "    .dataframe tbody tr th {\n",
              "        vertical-align: top;\n",
              "    }\n",
              "\n",
              "    .dataframe thead tr th {\n",
              "        text-align: left;\n",
              "    }\n",
              "\n",
              "    .dataframe thead tr:last-of-type th {\n",
              "        text-align: right;\n",
              "    }\n",
              "</style>\n",
              "<table border=\"1\" class=\"dataframe\">\n",
              "  <thead>\n",
              "    <tr>\n",
              "      <th></th>\n",
              "      <th></th>\n",
              "      <th colspan=\"10\" halign=\"left\">Attack on</th>\n",
              "      <th>...</th>\n",
              "      <th colspan=\"10\" halign=\"left\">Type</th>\n",
              "    </tr>\n",
              "    <tr>\n",
              "      <th></th>\n",
              "      <th>Total deaths</th>\n",
              "      <th>1</th>\n",
              "      <th>2</th>\n",
              "      <th>3</th>\n",
              "      <th>4</th>\n",
              "      <th>5</th>\n",
              "      <th>6</th>\n",
              "      <th>7</th>\n",
              "      <th>8</th>\n",
              "      <th>9</th>\n",
              "      <th>10</th>\n",
              "      <th>...</th>\n",
              "      <th>135</th>\n",
              "      <th>153</th>\n",
              "      <th>158</th>\n",
              "      <th>166</th>\n",
              "      <th>170</th>\n",
              "      <th>181</th>\n",
              "      <th>250</th>\n",
              "      <th>276</th>\n",
              "      <th>299</th>\n",
              "      <th>443</th>\n",
              "    </tr>\n",
              "    <tr>\n",
              "      <th>Enemy wia</th>\n",
              "      <th>Enemy kia</th>\n",
              "      <th></th>\n",
              "      <th></th>\n",
              "      <th></th>\n",
              "      <th></th>\n",
              "      <th></th>\n",
              "      <th></th>\n",
              "      <th></th>\n",
              "      <th></th>\n",
              "      <th></th>\n",
              "      <th></th>\n",
              "      <th></th>\n",
              "      <th></th>\n",
              "      <th></th>\n",
              "      <th></th>\n",
              "      <th></th>\n",
              "      <th></th>\n",
              "      <th></th>\n",
              "      <th></th>\n",
              "      <th></th>\n",
              "      <th></th>\n",
              "      <th></th>\n",
              "    </tr>\n",
              "  </thead>\n",
              "  <tbody>\n",
              "    <tr>\n",
              "      <th rowspan=\"5\" valign=\"top\">0</th>\n",
              "      <th>0</th>\n",
              "      <td>31065.0</td>\n",
              "      <td>6246.0</td>\n",
              "      <td>2134.0</td>\n",
              "      <td>1151.0</td>\n",
              "      <td>560.0</td>\n",
              "      <td>347.0</td>\n",
              "      <td>193.0</td>\n",
              "      <td>151.0</td>\n",
              "      <td>103.0</td>\n",
              "      <td>93.0</td>\n",
              "      <td>...</td>\n",
              "      <td>NaN</td>\n",
              "      <td>NaN</td>\n",
              "      <td>1.0</td>\n",
              "      <td>1.0</td>\n",
              "      <td>1.0</td>\n",
              "      <td>1.0</td>\n",
              "      <td>1.0</td>\n",
              "      <td>NaN</td>\n",
              "      <td>1.0</td>\n",
              "      <td>1.0</td>\n",
              "    </tr>\n",
              "    <tr>\n",
              "      <th>1</th>\n",
              "      <td>3795.0</td>\n",
              "      <td>336.0</td>\n",
              "      <td>153.0</td>\n",
              "      <td>113.0</td>\n",
              "      <td>82.0</td>\n",
              "      <td>63.0</td>\n",
              "      <td>33.0</td>\n",
              "      <td>32.0</td>\n",
              "      <td>27.0</td>\n",
              "      <td>19.0</td>\n",
              "      <td>...</td>\n",
              "      <td>NaN</td>\n",
              "      <td>NaN</td>\n",
              "      <td>NaN</td>\n",
              "      <td>NaN</td>\n",
              "      <td>NaN</td>\n",
              "      <td>NaN</td>\n",
              "      <td>NaN</td>\n",
              "      <td>NaN</td>\n",
              "      <td>NaN</td>\n",
              "      <td>NaN</td>\n",
              "    </tr>\n",
              "    <tr>\n",
              "      <th>2</th>\n",
              "      <td>NaN</td>\n",
              "      <td>1383.0</td>\n",
              "      <td>61.0</td>\n",
              "      <td>34.0</td>\n",
              "      <td>12.0</td>\n",
              "      <td>14.0</td>\n",
              "      <td>9.0</td>\n",
              "      <td>5.0</td>\n",
              "      <td>4.0</td>\n",
              "      <td>7.0</td>\n",
              "      <td>...</td>\n",
              "      <td>NaN</td>\n",
              "      <td>NaN</td>\n",
              "      <td>NaN</td>\n",
              "      <td>NaN</td>\n",
              "      <td>NaN</td>\n",
              "      <td>NaN</td>\n",
              "      <td>NaN</td>\n",
              "      <td>NaN</td>\n",
              "      <td>NaN</td>\n",
              "      <td>NaN</td>\n",
              "    </tr>\n",
              "    <tr>\n",
              "      <th>3</th>\n",
              "      <td>NaN</td>\n",
              "      <td>NaN</td>\n",
              "      <td>580.0</td>\n",
              "      <td>34.0</td>\n",
              "      <td>13.0</td>\n",
              "      <td>11.0</td>\n",
              "      <td>1.0</td>\n",
              "      <td>4.0</td>\n",
              "      <td>2.0</td>\n",
              "      <td>NaN</td>\n",
              "      <td>...</td>\n",
              "      <td>NaN</td>\n",
              "      <td>NaN</td>\n",
              "      <td>NaN</td>\n",
              "      <td>NaN</td>\n",
              "      <td>NaN</td>\n",
              "      <td>NaN</td>\n",
              "      <td>NaN</td>\n",
              "      <td>NaN</td>\n",
              "      <td>NaN</td>\n",
              "      <td>NaN</td>\n",
              "    </tr>\n",
              "    <tr>\n",
              "      <th>4</th>\n",
              "      <td>NaN</td>\n",
              "      <td>NaN</td>\n",
              "      <td>NaN</td>\n",
              "      <td>345.0</td>\n",
              "      <td>16.0</td>\n",
              "      <td>7.0</td>\n",
              "      <td>5.0</td>\n",
              "      <td>7.0</td>\n",
              "      <td>NaN</td>\n",
              "      <td>2.0</td>\n",
              "      <td>...</td>\n",
              "      <td>NaN</td>\n",
              "      <td>NaN</td>\n",
              "      <td>NaN</td>\n",
              "      <td>NaN</td>\n",
              "      <td>NaN</td>\n",
              "      <td>NaN</td>\n",
              "      <td>NaN</td>\n",
              "      <td>NaN</td>\n",
              "      <td>NaN</td>\n",
              "      <td>NaN</td>\n",
              "    </tr>\n",
              "    <tr>\n",
              "      <th>...</th>\n",
              "      <th>...</th>\n",
              "      <td>...</td>\n",
              "      <td>...</td>\n",
              "      <td>...</td>\n",
              "      <td>...</td>\n",
              "      <td>...</td>\n",
              "      <td>...</td>\n",
              "      <td>...</td>\n",
              "      <td>...</td>\n",
              "      <td>...</td>\n",
              "      <td>...</td>\n",
              "      <td>...</td>\n",
              "      <td>...</td>\n",
              "      <td>...</td>\n",
              "      <td>...</td>\n",
              "      <td>...</td>\n",
              "      <td>...</td>\n",
              "      <td>...</td>\n",
              "      <td>...</td>\n",
              "      <td>...</td>\n",
              "      <td>...</td>\n",
              "      <td>...</td>\n",
              "    </tr>\n",
              "    <tr>\n",
              "      <th>60</th>\n",
              "      <th>3</th>\n",
              "      <td>NaN</td>\n",
              "      <td>NaN</td>\n",
              "      <td>1.0</td>\n",
              "      <td>NaN</td>\n",
              "      <td>NaN</td>\n",
              "      <td>NaN</td>\n",
              "      <td>NaN</td>\n",
              "      <td>NaN</td>\n",
              "      <td>NaN</td>\n",
              "      <td>NaN</td>\n",
              "      <td>...</td>\n",
              "      <td>NaN</td>\n",
              "      <td>NaN</td>\n",
              "      <td>NaN</td>\n",
              "      <td>NaN</td>\n",
              "      <td>NaN</td>\n",
              "      <td>NaN</td>\n",
              "      <td>NaN</td>\n",
              "      <td>NaN</td>\n",
              "      <td>NaN</td>\n",
              "      <td>NaN</td>\n",
              "    </tr>\n",
              "    <tr>\n",
              "      <th>75</th>\n",
              "      <th>0</th>\n",
              "      <td>NaN</td>\n",
              "      <td>NaN</td>\n",
              "      <td>NaN</td>\n",
              "      <td>NaN</td>\n",
              "      <td>NaN</td>\n",
              "      <td>NaN</td>\n",
              "      <td>NaN</td>\n",
              "      <td>NaN</td>\n",
              "      <td>NaN</td>\n",
              "      <td>NaN</td>\n",
              "      <td>...</td>\n",
              "      <td>NaN</td>\n",
              "      <td>NaN</td>\n",
              "      <td>NaN</td>\n",
              "      <td>NaN</td>\n",
              "      <td>NaN</td>\n",
              "      <td>NaN</td>\n",
              "      <td>NaN</td>\n",
              "      <td>NaN</td>\n",
              "      <td>NaN</td>\n",
              "      <td>NaN</td>\n",
              "    </tr>\n",
              "    <tr>\n",
              "      <th>100</th>\n",
              "      <th>20</th>\n",
              "      <td>NaN</td>\n",
              "      <td>NaN</td>\n",
              "      <td>NaN</td>\n",
              "      <td>NaN</td>\n",
              "      <td>NaN</td>\n",
              "      <td>NaN</td>\n",
              "      <td>NaN</td>\n",
              "      <td>NaN</td>\n",
              "      <td>NaN</td>\n",
              "      <td>NaN</td>\n",
              "      <td>...</td>\n",
              "      <td>NaN</td>\n",
              "      <td>NaN</td>\n",
              "      <td>NaN</td>\n",
              "      <td>NaN</td>\n",
              "      <td>NaN</td>\n",
              "      <td>NaN</td>\n",
              "      <td>NaN</td>\n",
              "      <td>NaN</td>\n",
              "      <td>NaN</td>\n",
              "      <td>NaN</td>\n",
              "    </tr>\n",
              "    <tr>\n",
              "      <th>110</th>\n",
              "      <th>40</th>\n",
              "      <td>NaN</td>\n",
              "      <td>NaN</td>\n",
              "      <td>NaN</td>\n",
              "      <td>NaN</td>\n",
              "      <td>NaN</td>\n",
              "      <td>NaN</td>\n",
              "      <td>NaN</td>\n",
              "      <td>NaN</td>\n",
              "      <td>NaN</td>\n",
              "      <td>NaN</td>\n",
              "      <td>...</td>\n",
              "      <td>NaN</td>\n",
              "      <td>NaN</td>\n",
              "      <td>NaN</td>\n",
              "      <td>NaN</td>\n",
              "      <td>NaN</td>\n",
              "      <td>NaN</td>\n",
              "      <td>NaN</td>\n",
              "      <td>NaN</td>\n",
              "      <td>NaN</td>\n",
              "      <td>NaN</td>\n",
              "    </tr>\n",
              "    <tr>\n",
              "      <th>194</th>\n",
              "      <th>52</th>\n",
              "      <td>NaN</td>\n",
              "      <td>NaN</td>\n",
              "      <td>NaN</td>\n",
              "      <td>NaN</td>\n",
              "      <td>NaN</td>\n",
              "      <td>NaN</td>\n",
              "      <td>NaN</td>\n",
              "      <td>NaN</td>\n",
              "      <td>NaN</td>\n",
              "      <td>NaN</td>\n",
              "      <td>...</td>\n",
              "      <td>NaN</td>\n",
              "      <td>NaN</td>\n",
              "      <td>NaN</td>\n",
              "      <td>NaN</td>\n",
              "      <td>NaN</td>\n",
              "      <td>NaN</td>\n",
              "      <td>NaN</td>\n",
              "      <td>NaN</td>\n",
              "      <td>NaN</td>\n",
              "      <td>NaN</td>\n",
              "    </tr>\n",
              "  </tbody>\n",
              "</table>\n",
              "<p>192 rows × 1456 columns</p>\n",
              "</div>\n",
              "      <button class=\"colab-df-convert\" onclick=\"convertToInteractive('df-f51ef5df-28f7-4b16-84f5-028ebd00e27b')\"\n",
              "              title=\"Convert this dataframe to an interactive table.\"\n",
              "              style=\"display:none;\">\n",
              "        \n",
              "  <svg xmlns=\"http://www.w3.org/2000/svg\" height=\"24px\"viewBox=\"0 0 24 24\"\n",
              "       width=\"24px\">\n",
              "    <path d=\"M0 0h24v24H0V0z\" fill=\"none\"/>\n",
              "    <path d=\"M18.56 5.44l.94 2.06.94-2.06 2.06-.94-2.06-.94-.94-2.06-.94 2.06-2.06.94zm-11 1L8.5 8.5l.94-2.06 2.06-.94-2.06-.94L8.5 2.5l-.94 2.06-2.06.94zm10 10l.94 2.06.94-2.06 2.06-.94-2.06-.94-.94-2.06-.94 2.06-2.06.94z\"/><path d=\"M17.41 7.96l-1.37-1.37c-.4-.4-.92-.59-1.43-.59-.52 0-1.04.2-1.43.59L10.3 9.45l-7.72 7.72c-.78.78-.78 2.05 0 2.83L4 21.41c.39.39.9.59 1.41.59.51 0 1.02-.2 1.41-.59l7.78-7.78 2.81-2.81c.8-.78.8-2.07 0-2.86zM5.41 20L4 18.59l7.72-7.72 1.47 1.35L5.41 20z\"/>\n",
              "  </svg>\n",
              "      </button>\n",
              "      \n",
              "  <style>\n",
              "    .colab-df-container {\n",
              "      display:flex;\n",
              "      flex-wrap:wrap;\n",
              "      gap: 12px;\n",
              "    }\n",
              "\n",
              "    .colab-df-convert {\n",
              "      background-color: #E8F0FE;\n",
              "      border: none;\n",
              "      border-radius: 50%;\n",
              "      cursor: pointer;\n",
              "      display: none;\n",
              "      fill: #1967D2;\n",
              "      height: 32px;\n",
              "      padding: 0 0 0 0;\n",
              "      width: 32px;\n",
              "    }\n",
              "\n",
              "    .colab-df-convert:hover {\n",
              "      background-color: #E2EBFA;\n",
              "      box-shadow: 0px 1px 2px rgba(60, 64, 67, 0.3), 0px 1px 3px 1px rgba(60, 64, 67, 0.15);\n",
              "      fill: #174EA6;\n",
              "    }\n",
              "\n",
              "    [theme=dark] .colab-df-convert {\n",
              "      background-color: #3B4455;\n",
              "      fill: #D2E3FC;\n",
              "    }\n",
              "\n",
              "    [theme=dark] .colab-df-convert:hover {\n",
              "      background-color: #434B5C;\n",
              "      box-shadow: 0px 1px 3px 1px rgba(0, 0, 0, 0.15);\n",
              "      filter: drop-shadow(0px 1px 2px rgba(0, 0, 0, 0.3));\n",
              "      fill: #FFFFFF;\n",
              "    }\n",
              "  </style>\n",
              "\n",
              "      <script>\n",
              "        const buttonEl =\n",
              "          document.querySelector('#df-f51ef5df-28f7-4b16-84f5-028ebd00e27b button.colab-df-convert');\n",
              "        buttonEl.style.display =\n",
              "          google.colab.kernel.accessAllowed ? 'block' : 'none';\n",
              "\n",
              "        async function convertToInteractive(key) {\n",
              "          const element = document.querySelector('#df-f51ef5df-28f7-4b16-84f5-028ebd00e27b');\n",
              "          const dataTable =\n",
              "            await google.colab.kernel.invokeFunction('convertToInteractive',\n",
              "                                                     [key], {});\n",
              "          if (!dataTable) return;\n",
              "\n",
              "          const docLinkHtml = 'Like what you see? Visit the ' +\n",
              "            '<a target=\"_blank\" href=https://colab.research.google.com/notebooks/data_table.ipynb>data table notebook</a>'\n",
              "            + ' to learn more about interactive tables.';\n",
              "          element.innerHTML = '';\n",
              "          dataTable['output_type'] = 'display_data';\n",
              "          await google.colab.output.renderOutput(dataTable, element);\n",
              "          const docLink = document.createElement('div');\n",
              "          docLink.innerHTML = docLinkHtml;\n",
              "          element.appendChild(docLink);\n",
              "        }\n",
              "      </script>\n",
              "    </div>\n",
              "  </div>\n",
              "  "
            ]
          },
          "metadata": {},
          "execution_count": 19
        }
      ]
    },
    {
      "cell_type": "code",
      "source": [
        "pd.crosstab(mydata['Attack on'],mydata['Total deaths'])"
      ],
      "metadata": {
        "id": "pze2QXQvcoTi",
        "outputId": "4d7d7181-be40-4521-ec7b-09834ba0f080",
        "colab": {
          "base_uri": "https://localhost:8080/",
          "height": 204
        }
      },
      "execution_count": 18,
      "outputs": [
        {
          "output_type": "execute_result",
          "data": {
            "text/plain": [
              "Total deaths    1     2     3     4    5    6    7    8    9    10   ...  135  \\\n",
              "Attack on                                                            ...        \n",
              "ENEMY         31776  7152  2625  1472  754  522  274  235  155  148  ...    1   \n",
              "FRIEND         2825   946   370   229  118   84   33   43   22   26  ...    0   \n",
              "NEUTRAL         920   160    61    40   24    7    9    5    5    1  ...    0   \n",
              "\n",
              "Total deaths  153  158  166  170  181  250  276  299  443  \n",
              "Attack on                                                  \n",
              "ENEMY           1    1    1    1    1    1    1    1    0  \n",
              "FRIEND          0    0    0    0    0    0    0    0    0  \n",
              "NEUTRAL         0    0    0    0    0    0    0    0    1  \n",
              "\n",
              "[3 rows x 91 columns]"
            ],
            "text/html": [
              "\n",
              "  <div id=\"df-70812829-6e8a-4a9e-b13b-9ba6e8daa724\">\n",
              "    <div class=\"colab-df-container\">\n",
              "      <div>\n",
              "<style scoped>\n",
              "    .dataframe tbody tr th:only-of-type {\n",
              "        vertical-align: middle;\n",
              "    }\n",
              "\n",
              "    .dataframe tbody tr th {\n",
              "        vertical-align: top;\n",
              "    }\n",
              "\n",
              "    .dataframe thead th {\n",
              "        text-align: right;\n",
              "    }\n",
              "</style>\n",
              "<table border=\"1\" class=\"dataframe\">\n",
              "  <thead>\n",
              "    <tr style=\"text-align: right;\">\n",
              "      <th>Total deaths</th>\n",
              "      <th>1</th>\n",
              "      <th>2</th>\n",
              "      <th>3</th>\n",
              "      <th>4</th>\n",
              "      <th>5</th>\n",
              "      <th>6</th>\n",
              "      <th>7</th>\n",
              "      <th>8</th>\n",
              "      <th>9</th>\n",
              "      <th>10</th>\n",
              "      <th>...</th>\n",
              "      <th>135</th>\n",
              "      <th>153</th>\n",
              "      <th>158</th>\n",
              "      <th>166</th>\n",
              "      <th>170</th>\n",
              "      <th>181</th>\n",
              "      <th>250</th>\n",
              "      <th>276</th>\n",
              "      <th>299</th>\n",
              "      <th>443</th>\n",
              "    </tr>\n",
              "    <tr>\n",
              "      <th>Attack on</th>\n",
              "      <th></th>\n",
              "      <th></th>\n",
              "      <th></th>\n",
              "      <th></th>\n",
              "      <th></th>\n",
              "      <th></th>\n",
              "      <th></th>\n",
              "      <th></th>\n",
              "      <th></th>\n",
              "      <th></th>\n",
              "      <th></th>\n",
              "      <th></th>\n",
              "      <th></th>\n",
              "      <th></th>\n",
              "      <th></th>\n",
              "      <th></th>\n",
              "      <th></th>\n",
              "      <th></th>\n",
              "      <th></th>\n",
              "      <th></th>\n",
              "      <th></th>\n",
              "    </tr>\n",
              "  </thead>\n",
              "  <tbody>\n",
              "    <tr>\n",
              "      <th>ENEMY</th>\n",
              "      <td>31776</td>\n",
              "      <td>7152</td>\n",
              "      <td>2625</td>\n",
              "      <td>1472</td>\n",
              "      <td>754</td>\n",
              "      <td>522</td>\n",
              "      <td>274</td>\n",
              "      <td>235</td>\n",
              "      <td>155</td>\n",
              "      <td>148</td>\n",
              "      <td>...</td>\n",
              "      <td>1</td>\n",
              "      <td>1</td>\n",
              "      <td>1</td>\n",
              "      <td>1</td>\n",
              "      <td>1</td>\n",
              "      <td>1</td>\n",
              "      <td>1</td>\n",
              "      <td>1</td>\n",
              "      <td>1</td>\n",
              "      <td>0</td>\n",
              "    </tr>\n",
              "    <tr>\n",
              "      <th>FRIEND</th>\n",
              "      <td>2825</td>\n",
              "      <td>946</td>\n",
              "      <td>370</td>\n",
              "      <td>229</td>\n",
              "      <td>118</td>\n",
              "      <td>84</td>\n",
              "      <td>33</td>\n",
              "      <td>43</td>\n",
              "      <td>22</td>\n",
              "      <td>26</td>\n",
              "      <td>...</td>\n",
              "      <td>0</td>\n",
              "      <td>0</td>\n",
              "      <td>0</td>\n",
              "      <td>0</td>\n",
              "      <td>0</td>\n",
              "      <td>0</td>\n",
              "      <td>0</td>\n",
              "      <td>0</td>\n",
              "      <td>0</td>\n",
              "      <td>0</td>\n",
              "    </tr>\n",
              "    <tr>\n",
              "      <th>NEUTRAL</th>\n",
              "      <td>920</td>\n",
              "      <td>160</td>\n",
              "      <td>61</td>\n",
              "      <td>40</td>\n",
              "      <td>24</td>\n",
              "      <td>7</td>\n",
              "      <td>9</td>\n",
              "      <td>5</td>\n",
              "      <td>5</td>\n",
              "      <td>1</td>\n",
              "      <td>...</td>\n",
              "      <td>0</td>\n",
              "      <td>0</td>\n",
              "      <td>0</td>\n",
              "      <td>0</td>\n",
              "      <td>0</td>\n",
              "      <td>0</td>\n",
              "      <td>0</td>\n",
              "      <td>0</td>\n",
              "      <td>0</td>\n",
              "      <td>1</td>\n",
              "    </tr>\n",
              "  </tbody>\n",
              "</table>\n",
              "<p>3 rows × 91 columns</p>\n",
              "</div>\n",
              "      <button class=\"colab-df-convert\" onclick=\"convertToInteractive('df-70812829-6e8a-4a9e-b13b-9ba6e8daa724')\"\n",
              "              title=\"Convert this dataframe to an interactive table.\"\n",
              "              style=\"display:none;\">\n",
              "        \n",
              "  <svg xmlns=\"http://www.w3.org/2000/svg\" height=\"24px\"viewBox=\"0 0 24 24\"\n",
              "       width=\"24px\">\n",
              "    <path d=\"M0 0h24v24H0V0z\" fill=\"none\"/>\n",
              "    <path d=\"M18.56 5.44l.94 2.06.94-2.06 2.06-.94-2.06-.94-.94-2.06-.94 2.06-2.06.94zm-11 1L8.5 8.5l.94-2.06 2.06-.94-2.06-.94L8.5 2.5l-.94 2.06-2.06.94zm10 10l.94 2.06.94-2.06 2.06-.94-2.06-.94-.94-2.06-.94 2.06-2.06.94z\"/><path d=\"M17.41 7.96l-1.37-1.37c-.4-.4-.92-.59-1.43-.59-.52 0-1.04.2-1.43.59L10.3 9.45l-7.72 7.72c-.78.78-.78 2.05 0 2.83L4 21.41c.39.39.9.59 1.41.59.51 0 1.02-.2 1.41-.59l7.78-7.78 2.81-2.81c.8-.78.8-2.07 0-2.86zM5.41 20L4 18.59l7.72-7.72 1.47 1.35L5.41 20z\"/>\n",
              "  </svg>\n",
              "      </button>\n",
              "      \n",
              "  <style>\n",
              "    .colab-df-container {\n",
              "      display:flex;\n",
              "      flex-wrap:wrap;\n",
              "      gap: 12px;\n",
              "    }\n",
              "\n",
              "    .colab-df-convert {\n",
              "      background-color: #E8F0FE;\n",
              "      border: none;\n",
              "      border-radius: 50%;\n",
              "      cursor: pointer;\n",
              "      display: none;\n",
              "      fill: #1967D2;\n",
              "      height: 32px;\n",
              "      padding: 0 0 0 0;\n",
              "      width: 32px;\n",
              "    }\n",
              "\n",
              "    .colab-df-convert:hover {\n",
              "      background-color: #E2EBFA;\n",
              "      box-shadow: 0px 1px 2px rgba(60, 64, 67, 0.3), 0px 1px 3px 1px rgba(60, 64, 67, 0.15);\n",
              "      fill: #174EA6;\n",
              "    }\n",
              "\n",
              "    [theme=dark] .colab-df-convert {\n",
              "      background-color: #3B4455;\n",
              "      fill: #D2E3FC;\n",
              "    }\n",
              "\n",
              "    [theme=dark] .colab-df-convert:hover {\n",
              "      background-color: #434B5C;\n",
              "      box-shadow: 0px 1px 3px 1px rgba(0, 0, 0, 0.15);\n",
              "      filter: drop-shadow(0px 1px 2px rgba(0, 0, 0, 0.3));\n",
              "      fill: #FFFFFF;\n",
              "    }\n",
              "  </style>\n",
              "\n",
              "      <script>\n",
              "        const buttonEl =\n",
              "          document.querySelector('#df-70812829-6e8a-4a9e-b13b-9ba6e8daa724 button.colab-df-convert');\n",
              "        buttonEl.style.display =\n",
              "          google.colab.kernel.accessAllowed ? 'block' : 'none';\n",
              "\n",
              "        async function convertToInteractive(key) {\n",
              "          const element = document.querySelector('#df-70812829-6e8a-4a9e-b13b-9ba6e8daa724');\n",
              "          const dataTable =\n",
              "            await google.colab.kernel.invokeFunction('convertToInteractive',\n",
              "                                                     [key], {});\n",
              "          if (!dataTable) return;\n",
              "\n",
              "          const docLinkHtml = 'Like what you see? Visit the ' +\n",
              "            '<a target=\"_blank\" href=https://colab.research.google.com/notebooks/data_table.ipynb>data table notebook</a>'\n",
              "            + ' to learn more about interactive tables.';\n",
              "          element.innerHTML = '';\n",
              "          dataTable['output_type'] = 'display_data';\n",
              "          await google.colab.output.renderOutput(dataTable, element);\n",
              "          const docLink = document.createElement('div');\n",
              "          docLink.innerHTML = docLinkHtml;\n",
              "          element.appendChild(docLink);\n",
              "        }\n",
              "      </script>\n",
              "    </div>\n",
              "  </div>\n",
              "  "
            ]
          },
          "metadata": {},
          "execution_count": 18
        }
      ]
    },
    {
      "cell_type": "code",
      "source": [
        "mydata['Iraq forces killed'].std()"
      ],
      "metadata": {
        "id": "T6gHguw2d0JB",
        "outputId": "3eff5b7b-338b-4ced-f1fe-4e6e585b3082",
        "colab": {
          "base_uri": "https://localhost:8080/"
        }
      },
      "execution_count": null,
      "outputs": [
        {
          "output_type": "execute_result",
          "data": {
            "text/plain": [
              "1.0113732910774018"
            ]
          },
          "metadata": {},
          "execution_count": 24
        }
      ]
    },
    {
      "cell_type": "code",
      "source": [
        "mydata['Coalition forces wounded']"
      ],
      "metadata": {
        "id": "1jJsGRAYd-fY",
        "outputId": "ab82856a-65e2-4fbd-f1c6-4d50d04f13ce",
        "colab": {
          "base_uri": "https://localhost:8080/"
        }
      },
      "execution_count": null,
      "outputs": [
        {
          "output_type": "execute_result",
          "data": {
            "text/plain": [
              "0        0\n",
              "1        6\n",
              "2        0\n",
              "3        0\n",
              "4        0\n",
              "        ..\n",
              "52043    0\n",
              "52044    0\n",
              "52045    0\n",
              "52046    0\n",
              "52047    0\n",
              "Name: Coalition forces wounded, Length: 52048, dtype: int64"
            ]
          },
          "metadata": {},
          "execution_count": 25
        }
      ]
    },
    {
      "cell_type": "code",
      "source": [
        "sns.boxenplot(x=\"Attack on\",y=\"Total deaths\",data=mydata)"
      ],
      "metadata": {
        "id": "9C6HnRLYeLTm",
        "outputId": "40254145-7560-4c61-acb4-54f1e8cfd85d",
        "colab": {
          "base_uri": "https://localhost:8080/",
          "height": 467
        }
      },
      "execution_count": 22,
      "outputs": [
        {
          "output_type": "execute_result",
          "data": {
            "text/plain": [
              "<Axes: xlabel='Attack on', ylabel='Total deaths'>"
            ]
          },
          "metadata": {},
          "execution_count": 22
        },
        {
          "output_type": "display_data",
          "data": {
            "text/plain": [
              "<Figure size 640x480 with 1 Axes>"
            ],
            "image/png": "[encoded data removed]"
          },
          "metadata": {}
        }
      ]
    },
    {
      "cell_type": "code",
      "source": [
        "x=st.skewnorm.rvs(10,size=1000)"
      ],
      "metadata": {
        "id": "c64O4No0fXEF"
      },
      "execution_count": null,
      "outputs": []
    },
    {
      "cell_type": "code",
      "source": [
        "x[1:10]"
      ],
      "metadata": {
        "id": "F6OebIgUf4Ko",
        "outputId": "b4a0faf8-2bbd-4c87-99ff-d22253b8c0ed",
        "colab": {
          "base_uri": "https://localhost:8080/"
        }
      },
      "execution_count": null,
      "outputs": [
        {
          "output_type": "execute_result",
          "data": {
            "text/plain": [
              "array([0.21039043, 1.25974065, 0.23948299, 1.72294411, 0.44040558,\n",
              "       1.14537106, 0.07083551, 0.18347045, 1.30682876])"
            ]
          },
          "metadata": {},
          "execution_count": 34
        }
      ]
    },
    {
      "cell_type": "code",
      "source": [
        "ax = plt.subplots()\n",
        "_=plt.hist(x)"
      ],
      "metadata": {
        "id": "wyrQJ7yxf8rU",
        "outputId": "a1db9cad-b54d-436f-b9c7-0c5bba2cff6a",
        "colab": {
          "base_uri": "https://localhost:8080/",
          "height": 430
        }
      },
      "execution_count": null,
      "outputs": [
        {
          "output_type": "display_data",
          "data": {
            "text/plain": [
              "<Figure size 640x480 with 1 Axes>"
            ],
            "image/png": "[encoded data removed]"
          },
          "metadata": {}
        }
      ]
    },
    {
      "cell_type": "code",
      "source": [
        "sns.countplot(x=\"Iraq forces killed\",hue=\"Total deaths\",data=mydata)"
      ],
      "metadata": {
        "colab": {
          "base_uri": "https://localhost:8080/",
          "height": 1000
        },
        "id": "cwTleYNmdzFB",
        "outputId": "efc54919-06cd-43ad-e10b-83bf920be04c"
      },
      "execution_count": 24,
      "outputs": [
        {
          "output_type": "execute_result",
          "data": {
            "text/plain": [
              "<Axes: xlabel='Iraq forces killed', ylabel='count'>"
            ]
          },
          "metadata": {},
          "execution_count": 24
        },
        {
          "output_type": "display_data",
          "data": {
            "text/plain": [
              "<Figure size 640x480 with 1 Axes>"
            ],
            "image/png": "[encoded data removed]"
          },
          "metadata": {}
        }
      ]
    },
    {
      "cell_type": "code",
      "source": [
        "fig, ax = plt.subplots()\n",
        "plt.axvline(x = x.mean(), color='orange')\n",
        "_ = plt.hist(x, color = 'lightgray')"
      ],
      "metadata": {
        "id": "xsAR696qf_nh",
        "outputId": "6753036b-58fd-4778-906e-a5032bd6bd35",
        "colab": {
          "base_uri": "https://localhost:8080/",
          "height": 430
        }
      },
      "execution_count": null,
      "outputs": [
        {
          "output_type": "display_data",
          "data": {
            "text/plain": [
              "<Figure size 640x480 with 1 Axes>"
            ],
            "image/png": "[encoded data removed]"
          },
          "metadata": {}
        }
      ]
    },
    {
      "cell_type": "code",
      "source": [
        "xbar = x.mean()\n",
        "xbar"
      ],
      "metadata": {
        "id": "GrJU01JnhpBF",
        "outputId": "29c67dcc-f317-4edf-d1bd-cec310c1c3a7",
        "colab": {
          "base_uri": "https://localhost:8080/"
        }
      },
      "execution_count": null,
      "outputs": [
        {
          "output_type": "execute_result",
          "data": {
            "text/plain": [
              "0.8109015988409711"
            ]
          },
          "metadata": {},
          "execution_count": 43
        }
      ]
    },
    {
      "cell_type": "code",
      "source": [
        "nd.median(x) "
      ],
      "metadata": {
        "id": "fS6LGxXBhxAM",
        "outputId": "e414ad07-06e5-4e09-84a4-db698f65e140",
        "colab": {
          "base_uri": "https://localhost:8080/"
        }
      },
      "execution_count": null,
      "outputs": [
        {
          "output_type": "execute_result",
          "data": {
            "text/plain": [
              "0.6681175790145896"
            ]
          },
          "metadata": {},
          "execution_count": 45
        }
      ]
    },
    {
      "cell_type": "code",
      "source": [
        "fig, ax = plt.subplots()\n",
        "plt.axvline(x = nd.mean(x), color='orange')\n",
        "plt.axvline(x = nd.median(x), color='green')\n",
        "_ = plt.hist(x, color = 'lightgray')"
      ],
      "metadata": {
        "id": "_7zglZY7iOvi",
        "outputId": "c5ac7e81-8518-4b64-c42d-3d07a9cd4d45",
        "colab": {
          "base_uri": "https://localhost:8080/",
          "height": 430
        }
      },
      "execution_count": null,
      "outputs": [
        {
          "output_type": "display_data",
          "data": {
            "text/plain": [
              "<Figure size 640x480 with 1 Axes>"
            ],
            "image/png": "[encoded data removed]"
          },
          "metadata": {}
        }
      ]
    },
    {
      "cell_type": "code",
      "source": [],
      "metadata": {
        "id": "Aw7wrMdJikXj"
      },
      "execution_count": null,
      "outputs": []
    },
    {
      "cell_type": "code",
      "source": [
        "x.var()"
      ],
      "metadata": {
        "id": "Z31XmoCfiXcZ",
        "outputId": "3b5b4fe0-3a9f-45c1-e0e2-c9ffce483444",
        "colab": {
          "base_uri": "https://localhost:8080/"
        }
      },
      "execution_count": null,
      "outputs": [
        {
          "output_type": "execute_result",
          "data": {
            "text/plain": [
              "0.4204438073563956"
            ]
          },
          "metadata": {},
          "execution_count": 47
        }
      ]
    },
    {
      "cell_type": "code",
      "source": [
        "x.var()**(1/2)"
      ],
      "metadata": {
        "id": "0oNqaqGqimTo",
        "outputId": "f2f7eeaa-f1dd-4ed3-9104-747481cd233c",
        "colab": {
          "base_uri": "https://localhost:8080/"
        }
      },
      "execution_count": null,
      "outputs": [
        {
          "output_type": "execute_result",
          "data": {
            "text/plain": [
              "0.6484163842442567"
            ]
          },
          "metadata": {},
          "execution_count": 48
        }
      ]
    },
    {
      "cell_type": "code",
      "source": [
        "sigma = x.std()\n",
        "sigma"
      ],
      "metadata": {
        "id": "cW7RYxlOit2o",
        "outputId": "89c7e562-1855-4a09-dbee-fda61ca146ee",
        "colab": {
          "base_uri": "https://localhost:8080/"
        }
      },
      "execution_count": null,
      "outputs": [
        {
          "output_type": "execute_result",
          "data": {
            "text/plain": [
              "0.6484163842442567"
            ]
          },
          "metadata": {},
          "execution_count": 49
        }
      ]
    },
    {
      "cell_type": "code",
      "source": [
        "sigma/(x.size)**(1/2)"
      ],
      "metadata": {
        "id": "jD6qNtybi6mb",
        "outputId": "b6f236b8-1511-405b-b367-7e87cef9bff7",
        "colab": {
          "base_uri": "https://localhost:8080/"
        }
      },
      "execution_count": null,
      "outputs": [
        {
          "output_type": "execute_result",
          "data": {
            "text/plain": [
              "0.02050472646382769"
            ]
          },
          "metadata": {},
          "execution_count": 50
        }
      ]
    },
    {
      "cell_type": "code",
      "source": [
        "fig, ax = plt.subplots()\n",
        "plt.axvline(x = xbar, color='orange')\n",
        "plt.axvline(x = xbar+sigma, color='olivedrab')\n",
        "plt.axvline(x = xbar-sigma, color='olivedrab')\n",
        "_ = plt.hist(x, color = 'lightgray')"
      ],
      "metadata": {
        "id": "-zzIgyg-kcA6",
        "outputId": "2f665481-05f6-48ed-e321-896359d8315d",
        "colab": {
          "base_uri": "https://localhost:8080/",
          "height": 430
        }
      },
      "execution_count": null,
      "outputs": [
        {
          "output_type": "display_data",
          "data": {
            "text/plain": [
              "<Figure size 640x480 with 1 Axes>"
            ],
            "image/png": "[encoded data removed]"
          },
          "metadata": {}
        }
      ]
    },
    {
      "cell_type": "code",
      "source": [
        "st.sem(x)"
      ],
      "metadata": {
        "id": "9kRmDE58jDSs",
        "outputId": "648d0f9b-3ce1-42b8-f33f-2e7ef614baad",
        "colab": {
          "base_uri": "https://localhost:8080/"
        }
      },
      "execution_count": null,
      "outputs": [
        {
          "output_type": "execute_result",
          "data": {
            "text/plain": [
              "0.02051498652274537"
            ]
          },
          "metadata": {},
          "execution_count": 51
        }
      ]
    },
    {
      "cell_type": "code",
      "source": [
        "x=nd.random.normal(size=1000)"
      ],
      "metadata": {
        "id": "x7ofL9QUjHl9"
      },
      "execution_count": null,
      "outputs": []
    },
    {
      "cell_type": "code",
      "source": [
        "sns.displot(x, kde=True)"
      ],
      "metadata": {
        "id": "IzwPGnc_jP_i",
        "outputId": "8d07a94d-3b9a-493d-8658-3e87cbd8bac0",
        "colab": {
          "base_uri": "https://localhost:8080/",
          "height": 524
        }
      },
      "execution_count": null,
      "outputs": [
        {
          "output_type": "execute_result",
          "data": {
            "text/plain": [
              "<seaborn.axisgrid.FacetGrid at 0x7fc48d0c9820>"
            ]
          },
          "metadata": {},
          "execution_count": 55
        },
        {
          "output_type": "display_data",
          "data": {
            "text/plain": [
              "<Figure size 500x500 with 1 Axes>"
            ],
            "image/png": "[encoded data removed]"
          },
          "metadata": {}
        }
      ]
    },
    {
      "cell_type": "code",
      "source": [
        "x.std()"
      ],
      "metadata": {
        "id": "S4hmcOXKjkGU",
        "outputId": "1086f729-9060-408e-9d6d-7b26ca1e8353",
        "colab": {
          "base_uri": "https://localhost:8080/"
        }
      },
      "execution_count": null,
      "outputs": [
        {
          "output_type": "execute_result",
          "data": {
            "text/plain": [
              "0.9589682881292968"
            ]
          },
          "metadata": {},
          "execution_count": 56
        }
      ]
    },
    {
      "cell_type": "code",
      "source": [
        "x_sample =nd.random.choice(x, size=11, replace=False)\n",
        "x_sample"
      ],
      "metadata": {
        "id": "ESug0RObjnrF",
        "outputId": "11f8218b-8dfb-4b55-a922-9373cd82e17d",
        "colab": {
          "base_uri": "https://localhost:8080/"
        }
      },
      "execution_count": null,
      "outputs": [
        {
          "output_type": "execute_result",
          "data": {
            "text/plain": [
              "array([ 1.29069901, -0.69406975, -0.34655839,  0.97529755,  1.26155345,\n",
              "        0.0352506 , -0.79281309, -0.67048996,  0.31883373,  0.46893468,\n",
              "       -1.40962654])"
            ]
          },
          "metadata": {},
          "execution_count": 58
        }
      ]
    },
    {
      "cell_type": "code",
      "source": [
        "x_sample.mean()"
      ],
      "metadata": {
        "id": "AsEXVMqNkCqL",
        "outputId": "c4e34c3d-5f94-44c0-c327-413c4a63cdba",
        "colab": {
          "base_uri": "https://localhost:8080/"
        }
      },
      "execution_count": null,
      "outputs": [
        {
          "output_type": "execute_result",
          "data": {
            "text/plain": [
              "0.03972830075274163"
            ]
          },
          "metadata": {},
          "execution_count": 59
        }
      ]
    },
    {
      "cell_type": "code",
      "source": [
        "def sample_mean_calculator(input_dist, sample_size, n_samples):\n",
        "    sample_means = []\n",
        "    for i in range(n_samples):\n",
        "        sample = nd.random.choice(input_dist, size=sample_size, replace=False)\n",
        "        sample_means.append(sample.mean())\n",
        "    return sample_means"
      ],
      "metadata": {
        "id": "SBP0T2B8lDWD"
      },
      "execution_count": null,
      "outputs": []
    },
    {
      "cell_type": "code",
      "source": [
        "xc = sample_mean_calculator(x, 25, 70)"
      ],
      "metadata": {
        "id": "rXxVMl68lHdI"
      },
      "execution_count": null,
      "outputs": []
    },
    {
      "cell_type": "code",
      "source": [
        "xc"
      ],
      "metadata": {
        "id": "l2SDzrrdlLau",
        "outputId": "8997e7f6-19ef-409a-a0bb-b634fa962e42",
        "colab": {
          "base_uri": "https://localhost:8080/"
        }
      },
      "execution_count": null,
      "outputs": [
        {
          "output_type": "execute_result",
          "data": {
            "text/plain": [
              "[-0.022198860670893796,\n",
              " -0.09034711770523625,\n",
              " 0.122304874373777,\n",
              " 0.19913492234115107,\n",
              " 0.28980551193851684,\n",
              " 0.08914661697433003,\n",
              " -0.10828410461222722,\n",
              " -0.008315782780536195,\n",
              " 0.22046573408221906,\n",
              " 0.36307798185686635,\n",
              " -0.3575932134951977,\n",
              " 0.16763376691519263,\n",
              " -0.07647339597810787,\n",
              " 0.14289541007123016,\n",
              " -0.16774040537604,\n",
              " 0.034384327661210475,\n",
              " -0.3760953184498364,\n",
              " -0.2675481401719178,\n",
              " -0.1293962540409253,\n",
              " 0.28519674654959637,\n",
              " -0.11933301435687017,\n",
              " -0.05676459033184674,\n",
              " -0.01340206842048338,\n",
              " -0.16689903859391808,\n",
              " -0.06557155172980396,\n",
              " -0.3995659682518136,\n",
              " -0.3485293401744429,\n",
              " 0.05817988799158272,\n",
              " -0.40066754950198485,\n",
              " -0.27361405474319916,\n",
              " -0.07687279381846762,\n",
              " -0.2550067417850946,\n",
              " -0.46548558615532554,\n",
              " 0.05921530534212773,\n",
              " -0.09421777552316199,\n",
              " -0.07897834383715514,\n",
              " -0.060858616618428465,\n",
              " 0.17967120537959025,\n",
              " 0.24126430609268298,\n",
              " 0.07783851605431169,\n",
              " -0.37219294570485123,\n",
              " 0.10600718328523612,\n",
              " 0.0042159432434900525,\n",
              " -0.12737120890313716,\n",
              " -0.05768210949392185,\n",
              " 0.03451376322337791,\n",
              " 0.09750036773473787,\n",
              " 0.16583400949584767,\n",
              " -0.22636316754023425,\n",
              " 0.18584220964036993,\n",
              " -0.2548310455108881,\n",
              " 0.31105909835650775,\n",
              " -0.0575784157400755,\n",
              " 0.008028695745779534,\n",
              " 0.06323509277436169,\n",
              " -0.14683966651148583,\n",
              " -0.026654885062284153,\n",
              " -0.2893237249496176,\n",
              " 0.01811911309309979,\n",
              " 0.16524095133362274,\n",
              " 0.036626089328308915,\n",
              " 0.1241148835772055,\n",
              " 0.09370324165914855,\n",
              " -0.15001369695825711,\n",
              " -0.01277488500738202,\n",
              " -0.02908053914125306,\n",
              " -0.02991034770508697,\n",
              " -0.04933891163282372,\n",
              " 0.18262393370116262,\n",
              " 0.21724690683130535]"
            ]
          },
          "metadata": {},
          "execution_count": 63
        }
      ]
    },
    {
      "cell_type": "code",
      "source": [
        "sns.displot(sample_mean_calculator(x, 25, 70), color='green', kde=True)\n",
        "_ = plt.xlim(-1.5, 1.5)"
      ],
      "metadata": {
        "id": "t9Za4mv1lQBC",
        "outputId": "b805b998-c44f-4a4a-9f20-f546ca7734e8",
        "colab": {
          "base_uri": "https://localhost:8080/",
          "height": 506
        }
      },
      "execution_count": null,
      "outputs": [
        {
          "output_type": "display_data",
          "data": {
            "text/plain": [
              "<Figure size 500x500 with 1 Axes>"
            ],
            "image/png": "[encoded data removed]"
          },
          "metadata": {}
        }
      ]
    }
  ]
}