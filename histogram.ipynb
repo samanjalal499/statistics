{
  "nbformat": 4,
  "nbformat_minor": 0,
  "metadata": {
    "colab": {
      "provenance": [],
      "authorship_tag": "ABX9TyPdG4TYYuJibLwZmoWU8B9R",
      "include_colab_link": true
    },
    "kernelspec": {
      "name": "python3",
      "display_name": "Python 3"
    },
    "language_info": {
      "name": "python"
    }
  },
  "cells": [
    {
      "cell_type": "markdown",
      "metadata": {
        "id": "view-in-github",
        "colab_type": "text"
      },
      "source": [
        "<a href=\"https://colab.research.google.com/github/samanjalal499/statistics/blob/main/histogram.ipynb\" target=\"_parent\"><img src=\"https://colab.research.google.com/assets/colab-badge.svg\" alt=\"Open In Colab\"/></a>"
      ]
    },
    {
      "cell_type": "code",
      "source": [
        " from google.colab import drive\n",
        "\n",
        "\n"
      ],
      "metadata": {
        "id": "893tVgspHAqw"
      },
      "execution_count": 23,
      "outputs": []
    },
    {
      "cell_type": "code",
      "source": [
        "import numpy as nd\n",
        "import pandas as pd \n",
        "\n",
        "import scipy.stats as st\n",
        "import matplotlib.pyplot as plt\n",
        "import seaborn as sns\n",
        "import statistics"
      ],
      "metadata": {
        "id": "LJIfdosR-g7A"
      },
      "execution_count": 24,
      "outputs": []
    },
    {
      "cell_type": "code",
      "source": [
        "import numpy as nd\n",
        "import scipy.stats as st\n",
        "import matplotlib.pyplot as plt\n",
        "import seaborn as sns"
      ],
      "metadata": {
        "id": "Xm24Xw16nsiu"
      },
      "execution_count": 25,
      "outputs": []
    },
    {
      "cell_type": "code",
      "source": [
        "drive .mount('/content/drive')\n"
      ],
      "metadata": {
        "colab": {
          "base_uri": "https://localhost:8080/"
        },
        "id": "lpcSPEko-XUu",
        "outputId": "bb04a1a5-07a3-419b-8ee0-fb7c027f3ff8"
      },
      "execution_count": 26,
      "outputs": [
        {
          "output_type": "stream",
          "name": "stdout",
          "text": [
            "Drive already mounted at /content/drive; to attempt to forcibly remount, call drive.mount(\"/content/drive\", force_remount=True).\n"
          ]
        }
      ]
    },
    {
      "cell_type": "code",
      "source": [
        "mydata= pd.read_csv('/content/drive/MyDrive/statis/Deaths only.csv')"
      ],
      "metadata": {
        "id": "XUZIprrZ-xDb"
      },
      "execution_count": 27,
      "outputs": []
    },
    {
      "cell_type": "code",
      "source": [
        "df= pd.read_csv('/content/drive/MyDrive/statis/Deaths only.csv')"
      ],
      "metadata": {
        "id": "4DgDa8cQNmh_"
      },
      "execution_count": 28,
      "outputs": []
    },
    {
      "cell_type": "code",
      "source": [
        "mydata.head()"
      ],
      "metadata": {
        "colab": {
          "base_uri": "https://localhost:8080/",
          "height": 704
        },
        "id": "OrlNl0II_ZBq",
        "outputId": "d8bbaefd-88d8-4d7b-e2cb-9ced4368c827"
      },
      "execution_count": 29,
      "outputs": [
        {
          "output_type": "execute_result",
          "data": {
            "text/plain": [
              "                             Report key     Date and time              Type  \\\n",
              "0                                  9488  01/01/2004 03:00  Non-Combat Event   \n",
              "1                                  9507  01/01/2004 09:26  Non-Combat Event   \n",
              "2                                  9543  01/01/2004 12:00    Criminal Event   \n",
              "3                                  9549  01/01/2004 16:30   Friendly Action   \n",
              "4  63A65482-0487-4D2C-93F6-E3AD2637CDA0  01/01/2004 16:30    Criminal Event   \n",
              "\n",
              "   Category                                              Title       Region  \\\n",
              "0  Accident  FATAL VEHICLE ACCIDENT IN BAGHDAD (ZONE 1) - 2...  MND-BAGHDAD   \n",
              "1  Accident  1/1 ID 5-TON TRUCK ACCIDENT S. OF AR RAMADI: 1...        MNF-W   \n",
              "2    Murder                         UNIVERSITY DEAN FOUND DEAD        MND-N   \n",
              "3     Other    GAS STATION SET ON FIRE; 1 X EN KIA, 2 X EN WIA       MND-SE   \n",
              "4     Arson  TF DIMONIUS personnel guarding CIMIC house, re...       MND-SE   \n",
              "\n",
              "  Attack on  Coalition forces wounded  Coalition forces killed  \\\n",
              "0   NEUTRAL                         0                        2   \n",
              "1   NEUTRAL                         6                        1   \n",
              "2     ENEMY                         0                        0   \n",
              "3    FRIEND                         0                        0   \n",
              "4     ENEMY                         0                        0   \n",
              "\n",
              "   Iraq forces wounded  Iraq forces killed  Civilian wia  Civilian kia  \\\n",
              "0                    0                   0             0             0   \n",
              "1                    0                   0             0             0   \n",
              "2                    0                   0             0             1   \n",
              "3                    0                   0             0             0   \n",
              "4                    0                   0             2             1   \n",
              "\n",
              "   Enemy wia  Enemy kia  Enemy detained  Total deaths   Latitude  Longitude  \n",
              "0          0          0               0             2  33.299713  44.390114  \n",
              "1          0          0               0             1  33.181026  43.403477  \n",
              "2          0          0               0             1  36.378567  43.166100  \n",
              "3          2          1               0             1  31.057678  46.187485  \n",
              "4          0          0               0             1  31.057678  46.187485  "
            ],
            "text/html": [
              "\n",
              "  <div id=\"df-c89cd2db-38fb-47d6-895a-92d17e601c67\">\n",
              "    <div class=\"colab-df-container\">\n",
              "      <div>\n",
              "<style scoped>\n",
              "    .dataframe tbody tr th:only-of-type {\n",
              "        vertical-align: middle;\n",
              "    }\n",
              "\n",
              "    .dataframe tbody tr th {\n",
              "        vertical-align: top;\n",
              "    }\n",
              "\n",
              "    .dataframe thead th {\n",
              "        text-align: right;\n",
              "    }\n",
              "</style>\n",
              "<table border=\"1\" class=\"dataframe\">\n",
              "  <thead>\n",
              "    <tr style=\"text-align: right;\">\n",
              "      <th></th>\n",
              "      <th>Report key</th>\n",
              "      <th>Date and time</th>\n",
              "      <th>Type</th>\n",
              "      <th>Category</th>\n",
              "      <th>Title</th>\n",
              "      <th>Region</th>\n",
              "      <th>Attack on</th>\n",
              "      <th>Coalition forces wounded</th>\n",
              "      <th>Coalition forces killed</th>\n",
              "      <th>Iraq forces wounded</th>\n",
              "      <th>Iraq forces killed</th>\n",
              "      <th>Civilian wia</th>\n",
              "      <th>Civilian kia</th>\n",
              "      <th>Enemy wia</th>\n",
              "      <th>Enemy kia</th>\n",
              "      <th>Enemy detained</th>\n",
              "      <th>Total deaths</th>\n",
              "      <th>Latitude</th>\n",
              "      <th>Longitude</th>\n",
              "    </tr>\n",
              "  </thead>\n",
              "  <tbody>\n",
              "    <tr>\n",
              "      <th>0</th>\n",
              "      <td>9488</td>\n",
              "      <td>01/01/2004 03:00</td>\n",
              "      <td>Non-Combat Event</td>\n",
              "      <td>Accident</td>\n",
              "      <td>FATAL VEHICLE ACCIDENT IN BAGHDAD (ZONE 1) - 2...</td>\n",
              "      <td>MND-BAGHDAD</td>\n",
              "      <td>NEUTRAL</td>\n",
              "      <td>0</td>\n",
              "      <td>2</td>\n",
              "      <td>0</td>\n",
              "      <td>0</td>\n",
              "      <td>0</td>\n",
              "      <td>0</td>\n",
              "      <td>0</td>\n",
              "      <td>0</td>\n",
              "      <td>0</td>\n",
              "      <td>2</td>\n",
              "      <td>33.299713</td>\n",
              "      <td>44.390114</td>\n",
              "    </tr>\n",
              "    <tr>\n",
              "      <th>1</th>\n",
              "      <td>9507</td>\n",
              "      <td>01/01/2004 09:26</td>\n",
              "      <td>Non-Combat Event</td>\n",
              "      <td>Accident</td>\n",
              "      <td>1/1 ID 5-TON TRUCK ACCIDENT S. OF AR RAMADI: 1...</td>\n",
              "      <td>MNF-W</td>\n",
              "      <td>NEUTRAL</td>\n",
              "      <td>6</td>\n",
              "      <td>1</td>\n",
              "      <td>0</td>\n",
              "      <td>0</td>\n",
              "      <td>0</td>\n",
              "      <td>0</td>\n",
              "      <td>0</td>\n",
              "      <td>0</td>\n",
              "      <td>0</td>\n",
              "      <td>1</td>\n",
              "      <td>33.181026</td>\n",
              "      <td>43.403477</td>\n",
              "    </tr>\n",
              "    <tr>\n",
              "      <th>2</th>\n",
              "      <td>9543</td>\n",
              "      <td>01/01/2004 12:00</td>\n",
              "      <td>Criminal Event</td>\n",
              "      <td>Murder</td>\n",
              "      <td>UNIVERSITY DEAN FOUND DEAD</td>\n",
              "      <td>MND-N</td>\n",
              "      <td>ENEMY</td>\n",
              "      <td>0</td>\n",
              "      <td>0</td>\n",
              "      <td>0</td>\n",
              "      <td>0</td>\n",
              "      <td>0</td>\n",
              "      <td>1</td>\n",
              "      <td>0</td>\n",
              "      <td>0</td>\n",
              "      <td>0</td>\n",
              "      <td>1</td>\n",
              "      <td>36.378567</td>\n",
              "      <td>43.166100</td>\n",
              "    </tr>\n",
              "    <tr>\n",
              "      <th>3</th>\n",
              "      <td>9549</td>\n",
              "      <td>01/01/2004 16:30</td>\n",
              "      <td>Friendly Action</td>\n",
              "      <td>Other</td>\n",
              "      <td>GAS STATION SET ON FIRE; 1 X EN KIA, 2 X EN WIA</td>\n",
              "      <td>MND-SE</td>\n",
              "      <td>FRIEND</td>\n",
              "      <td>0</td>\n",
              "      <td>0</td>\n",
              "      <td>0</td>\n",
              "      <td>0</td>\n",
              "      <td>0</td>\n",
              "      <td>0</td>\n",
              "      <td>2</td>\n",
              "      <td>1</td>\n",
              "      <td>0</td>\n",
              "      <td>1</td>\n",
              "      <td>31.057678</td>\n",
              "      <td>46.187485</td>\n",
              "    </tr>\n",
              "    <tr>\n",
              "      <th>4</th>\n",
              "      <td>63A65482-0487-4D2C-93F6-E3AD2637CDA0</td>\n",
              "      <td>01/01/2004 16:30</td>\n",
              "      <td>Criminal Event</td>\n",
              "      <td>Arson</td>\n",
              "      <td>TF DIMONIUS personnel guarding CIMIC house, re...</td>\n",
              "      <td>MND-SE</td>\n",
              "      <td>ENEMY</td>\n",
              "      <td>0</td>\n",
              "      <td>0</td>\n",
              "      <td>0</td>\n",
              "      <td>0</td>\n",
              "      <td>2</td>\n",
              "      <td>1</td>\n",
              "      <td>0</td>\n",
              "      <td>0</td>\n",
              "      <td>0</td>\n",
              "      <td>1</td>\n",
              "      <td>31.057678</td>\n",
              "      <td>46.187485</td>\n",
              "    </tr>\n",
              "  </tbody>\n",
              "</table>\n",
              "</div>\n",
              "      <button class=\"colab-df-convert\" onclick=\"convertToInteractive('df-c89cd2db-38fb-47d6-895a-92d17e601c67')\"\n",
              "              title=\"Convert this dataframe to an interactive table.\"\n",
              "              style=\"display:none;\">\n",
              "        \n",
              "  <svg xmlns=\"http://www.w3.org/2000/svg\" height=\"24px\"viewBox=\"0 0 24 24\"\n",
              "       width=\"24px\">\n",
              "    <path d=\"M0 0h24v24H0V0z\" fill=\"none\"/>\n",
              "    <path d=\"M18.56 5.44l.94 2.06.94-2.06 2.06-.94-2.06-.94-.94-2.06-.94 2.06-2.06.94zm-11 1L8.5 8.5l.94-2.06 2.06-.94-2.06-.94L8.5 2.5l-.94 2.06-2.06.94zm10 10l.94 2.06.94-2.06 2.06-.94-2.06-.94-.94-2.06-.94 2.06-2.06.94z\"/><path d=\"M17.41 7.96l-1.37-1.37c-.4-.4-.92-.59-1.43-.59-.52 0-1.04.2-1.43.59L10.3 9.45l-7.72 7.72c-.78.78-.78 2.05 0 2.83L4 21.41c.39.39.9.59 1.41.59.51 0 1.02-.2 1.41-.59l7.78-7.78 2.81-2.81c.8-.78.8-2.07 0-2.86zM5.41 20L4 18.59l7.72-7.72 1.47 1.35L5.41 20z\"/>\n",
              "  </svg>\n",
              "      </button>\n",
              "      \n",
              "  <style>\n",
              "    .colab-df-container {\n",
              "      display:flex;\n",
              "      flex-wrap:wrap;\n",
              "      gap: 12px;\n",
              "    }\n",
              "\n",
              "    .colab-df-convert {\n",
              "      background-color: #E8F0FE;\n",
              "      border: none;\n",
              "      border-radius: 50%;\n",
              "      cursor: pointer;\n",
              "      display: none;\n",
              "      fill: #1967D2;\n",
              "      height: 32px;\n",
              "      padding: 0 0 0 0;\n",
              "      width: 32px;\n",
              "    }\n",
              "\n",
              "    .colab-df-convert:hover {\n",
              "      background-color: #E2EBFA;\n",
              "      box-shadow: 0px 1px 2px rgba(60, 64, 67, 0.3), 0px 1px 3px 1px rgba(60, 64, 67, 0.15);\n",
              "      fill: #174EA6;\n",
              "    }\n",
              "\n",
              "    [theme=dark] .colab-df-convert {\n",
              "      background-color: #3B4455;\n",
              "      fill: #D2E3FC;\n",
              "    }\n",
              "\n",
              "    [theme=dark] .colab-df-convert:hover {\n",
              "      background-color: #434B5C;\n",
              "      box-shadow: 0px 1px 3px 1px rgba(0, 0, 0, 0.15);\n",
              "      filter: drop-shadow(0px 1px 2px rgba(0, 0, 0, 0.3));\n",
              "      fill: #FFFFFF;\n",
              "    }\n",
              "  </style>\n",
              "\n",
              "      <script>\n",
              "        const buttonEl =\n",
              "          document.querySelector('#df-c89cd2db-38fb-47d6-895a-92d17e601c67 button.colab-df-convert');\n",
              "        buttonEl.style.display =\n",
              "          google.colab.kernel.accessAllowed ? 'block' : 'none';\n",
              "\n",
              "        async function convertToInteractive(key) {\n",
              "          const element = document.querySelector('#df-c89cd2db-38fb-47d6-895a-92d17e601c67');\n",
              "          const dataTable =\n",
              "            await google.colab.kernel.invokeFunction('convertToInteractive',\n",
              "                                                     [key], {});\n",
              "          if (!dataTable) return;\n",
              "\n",
              "          const docLinkHtml = 'Like what you see? Visit the ' +\n",
              "            '<a target=\"_blank\" href=https://colab.research.google.com/notebooks/data_table.ipynb>data table notebook</a>'\n",
              "            + ' to learn more about interactive tables.';\n",
              "          element.innerHTML = '';\n",
              "          dataTable['output_type'] = 'display_data';\n",
              "          await google.colab.output.renderOutput(dataTable, element);\n",
              "          const docLink = document.createElement('div');\n",
              "          docLink.innerHTML = docLinkHtml;\n",
              "          element.appendChild(docLink);\n",
              "        }\n",
              "      </script>\n",
              "    </div>\n",
              "  </div>\n",
              "  "
            ]
          },
          "metadata": {},
          "execution_count": 29
        }
      ]
    },
    {
      "cell_type": "code",
      "source": [
        "mydata.describe(include=\"all\")"
      ],
      "metadata": {
        "id": "l8_RcY7opnVl",
        "outputId": "5568baa8-ccac-48b1-e207-100df8afa415",
        "colab": {
          "base_uri": "https://localhost:8080/",
          "height": 510
        }
      },
      "execution_count": 30,
      "outputs": [
        {
          "output_type": "execute_result",
          "data": {
            "text/plain": [
              "       Report key     Date and time            Type Category  Title  \\\n",
              "count       52048             52048           52048    52047  50707   \n",
              "unique      52048             43512              12       85  39014   \n",
              "top          9488  13/06/2006 00:00  Criminal Event   Murder    UNK   \n",
              "freq            1                53           24356    24047   1521   \n",
              "mean          NaN               NaN             NaN      NaN    NaN   \n",
              "std           NaN               NaN             NaN      NaN    NaN   \n",
              "min           NaN               NaN             NaN      NaN    NaN   \n",
              "25%           NaN               NaN             NaN      NaN    NaN   \n",
              "50%           NaN               NaN             NaN      NaN    NaN   \n",
              "75%           NaN               NaN             NaN      NaN    NaN   \n",
              "max           NaN               NaN             NaN      NaN    NaN   \n",
              "\n",
              "             Region Attack on  Coalition forces wounded  \\\n",
              "count         51999     52048              52048.000000   \n",
              "unique            7         3                       NaN   \n",
              "top     MND-BAGHDAD     ENEMY                       NaN   \n",
              "freq          23783     45975                       NaN   \n",
              "mean            NaN       NaN                  0.151725   \n",
              "std             NaN       NaN                  1.308172   \n",
              "min             NaN       NaN                  0.000000   \n",
              "25%             NaN       NaN                  0.000000   \n",
              "50%             NaN       NaN                  0.000000   \n",
              "75%             NaN       NaN                  0.000000   \n",
              "max             NaN       NaN                118.000000   \n",
              "\n",
              "        Coalition forces killed  Iraq forces wounded  Iraq forces killed  \\\n",
              "count              52048.000000         52048.000000        52048.000000   \n",
              "unique                      NaN                  NaN                 NaN   \n",
              "top                         NaN                  NaN                 NaN   \n",
              "freq                        NaN                  NaN                 NaN   \n",
              "mean                   0.072395             0.335748            0.290501   \n",
              "std                    0.441807             1.857530            1.011373   \n",
              "min                    0.000000             0.000000            0.000000   \n",
              "25%                    0.000000             0.000000            0.000000   \n",
              "50%                    0.000000             0.000000            0.000000   \n",
              "75%                    0.000000             0.000000            0.000000   \n",
              "max                   31.000000            97.000000           48.000000   \n",
              "\n",
              "        Civilian wia  Civilian kia     Enemy wia     Enemy kia  \\\n",
              "count   52048.000000  52048.000000  52048.000000  52048.000000   \n",
              "unique           NaN           NaN           NaN           NaN   \n",
              "top              NaN           NaN           NaN           NaN   \n",
              "freq             NaN           NaN           NaN           NaN   \n",
              "mean        1.236877      1.261316      0.065247      0.458365   \n",
              "std         8.653318      4.250393      1.336718      2.640768   \n",
              "min         0.000000      0.000000      0.000000      0.000000   \n",
              "25%         0.000000      0.000000      0.000000      0.000000   \n",
              "50%         0.000000      1.000000      0.000000      0.000000   \n",
              "75%         0.000000      1.000000      0.000000      0.000000   \n",
              "max       641.000000    436.000000    194.000000    262.000000   \n",
              "\n",
              "        Enemy detained  Total deaths      Latitude     Longitude  \n",
              "count     52048.000000  52048.000000  52048.000000  52048.000000  \n",
              "unique             NaN           NaN           NaN           NaN  \n",
              "top                NaN           NaN           NaN           NaN  \n",
              "freq               NaN           NaN           NaN           NaN  \n",
              "mean          0.283181      2.082578     33.664309     44.307966  \n",
              "std           4.904411      5.030827      1.272133      1.027915  \n",
              "min           0.000000      1.000000     29.080568     38.908558  \n",
              "25%           0.000000      1.000000     33.261772     44.070820  \n",
              "50%           0.000000      1.000000     33.365656     44.352551  \n",
              "75%           0.000000      2.000000     33.856053     44.476757  \n",
              "max         560.000000    443.000000     37.886650     48.861084  "
            ],
            "text/html": [
              "\n",
              "  <div id=\"df-e00a606a-9680-4a7c-9c9e-7f24cc3c6144\">\n",
              "    <div class=\"colab-df-container\">\n",
              "      <div>\n",
              "<style scoped>\n",
              "    .dataframe tbody tr th:only-of-type {\n",
              "        vertical-align: middle;\n",
              "    }\n",
              "\n",
              "    .dataframe tbody tr th {\n",
              "        vertical-align: top;\n",
              "    }\n",
              "\n",
              "    .dataframe thead th {\n",
              "        text-align: right;\n",
              "    }\n",
              "</style>\n",
              "<table border=\"1\" class=\"dataframe\">\n",
              "  <thead>\n",
              "    <tr style=\"text-align: right;\">\n",
              "      <th></th>\n",
              "      <th>Report key</th>\n",
              "      <th>Date and time</th>\n",
              "      <th>Type</th>\n",
              "      <th>Category</th>\n",
              "      <th>Title</th>\n",
              "      <th>Region</th>\n",
              "      <th>Attack on</th>\n",
              "      <th>Coalition forces wounded</th>\n",
              "      <th>Coalition forces killed</th>\n",
              "      <th>Iraq forces wounded</th>\n",
              "      <th>Iraq forces killed</th>\n",
              "      <th>Civilian wia</th>\n",
              "      <th>Civilian kia</th>\n",
              "      <th>Enemy wia</th>\n",
              "      <th>Enemy kia</th>\n",
              "      <th>Enemy detained</th>\n",
              "      <th>Total deaths</th>\n",
              "      <th>Latitude</th>\n",
              "      <th>Longitude</th>\n",
              "    </tr>\n",
              "  </thead>\n",
              "  <tbody>\n",
              "    <tr>\n",
              "      <th>count</th>\n",
              "      <td>52048</td>\n",
              "      <td>52048</td>\n",
              "      <td>52048</td>\n",
              "      <td>52047</td>\n",
              "      <td>50707</td>\n",
              "      <td>51999</td>\n",
              "      <td>52048</td>\n",
              "      <td>52048.000000</td>\n",
              "      <td>52048.000000</td>\n",
              "      <td>52048.000000</td>\n",
              "      <td>52048.000000</td>\n",
              "      <td>52048.000000</td>\n",
              "      <td>52048.000000</td>\n",
              "      <td>52048.000000</td>\n",
              "      <td>52048.000000</td>\n",
              "      <td>52048.000000</td>\n",
              "      <td>52048.000000</td>\n",
              "      <td>52048.000000</td>\n",
              "      <td>52048.000000</td>\n",
              "    </tr>\n",
              "    <tr>\n",
              "      <th>unique</th>\n",
              "      <td>52048</td>\n",
              "      <td>43512</td>\n",
              "      <td>12</td>\n",
              "      <td>85</td>\n",
              "      <td>39014</td>\n",
              "      <td>7</td>\n",
              "      <td>3</td>\n",
              "      <td>NaN</td>\n",
              "      <td>NaN</td>\n",
              "      <td>NaN</td>\n",
              "      <td>NaN</td>\n",
              "      <td>NaN</td>\n",
              "      <td>NaN</td>\n",
              "      <td>NaN</td>\n",
              "      <td>NaN</td>\n",
              "      <td>NaN</td>\n",
              "      <td>NaN</td>\n",
              "      <td>NaN</td>\n",
              "      <td>NaN</td>\n",
              "    </tr>\n",
              "    <tr>\n",
              "      <th>top</th>\n",
              "      <td>9488</td>\n",
              "      <td>13/06/2006 00:00</td>\n",
              "      <td>Criminal Event</td>\n",
              "      <td>Murder</td>\n",
              "      <td>UNK</td>\n",
              "      <td>MND-BAGHDAD</td>\n",
              "      <td>ENEMY</td>\n",
              "      <td>NaN</td>\n",
              "      <td>NaN</td>\n",
              "      <td>NaN</td>\n",
              "      <td>NaN</td>\n",
              "      <td>NaN</td>\n",
              "      <td>NaN</td>\n",
              "      <td>NaN</td>\n",
              "      <td>NaN</td>\n",
              "      <td>NaN</td>\n",
              "      <td>NaN</td>\n",
              "      <td>NaN</td>\n",
              "      <td>NaN</td>\n",
              "    </tr>\n",
              "    <tr>\n",
              "      <th>freq</th>\n",
              "      <td>1</td>\n",
              "      <td>53</td>\n",
              "      <td>24356</td>\n",
              "      <td>24047</td>\n",
              "      <td>1521</td>\n",
              "      <td>23783</td>\n",
              "      <td>45975</td>\n",
              "      <td>NaN</td>\n",
              "      <td>NaN</td>\n",
              "      <td>NaN</td>\n",
              "      <td>NaN</td>\n",
              "      <td>NaN</td>\n",
              "      <td>NaN</td>\n",
              "      <td>NaN</td>\n",
              "      <td>NaN</td>\n",
              "      <td>NaN</td>\n",
              "      <td>NaN</td>\n",
              "      <td>NaN</td>\n",
              "      <td>NaN</td>\n",
              "    </tr>\n",
              "    <tr>\n",
              "      <th>mean</th>\n",
              "      <td>NaN</td>\n",
              "      <td>NaN</td>\n",
              "      <td>NaN</td>\n",
              "      <td>NaN</td>\n",
              "      <td>NaN</td>\n",
              "      <td>NaN</td>\n",
              "      <td>NaN</td>\n",
              "      <td>0.151725</td>\n",
              "      <td>0.072395</td>\n",
              "      <td>0.335748</td>\n",
              "      <td>0.290501</td>\n",
              "      <td>1.236877</td>\n",
              "      <td>1.261316</td>\n",
              "      <td>0.065247</td>\n",
              "      <td>0.458365</td>\n",
              "      <td>0.283181</td>\n",
              "      <td>2.082578</td>\n",
              "      <td>33.664309</td>\n",
              "      <td>44.307966</td>\n",
              "    </tr>\n",
              "    <tr>\n",
              "      <th>std</th>\n",
              "      <td>NaN</td>\n",
              "      <td>NaN</td>\n",
              "      <td>NaN</td>\n",
              "      <td>NaN</td>\n",
              "      <td>NaN</td>\n",
              "      <td>NaN</td>\n",
              "      <td>NaN</td>\n",
              "      <td>1.308172</td>\n",
              "      <td>0.441807</td>\n",
              "      <td>1.857530</td>\n",
              "      <td>1.011373</td>\n",
              "      <td>8.653318</td>\n",
              "      <td>4.250393</td>\n",
              "      <td>1.336718</td>\n",
              "      <td>2.640768</td>\n",
              "      <td>4.904411</td>\n",
              "      <td>5.030827</td>\n",
              "      <td>1.272133</td>\n",
              "      <td>1.027915</td>\n",
              "    </tr>\n",
              "    <tr>\n",
              "      <th>min</th>\n",
              "      <td>NaN</td>\n",
              "      <td>NaN</td>\n",
              "      <td>NaN</td>\n",
              "      <td>NaN</td>\n",
              "      <td>NaN</td>\n",
              "      <td>NaN</td>\n",
              "      <td>NaN</td>\n",
              "      <td>0.000000</td>\n",
              "      <td>0.000000</td>\n",
              "      <td>0.000000</td>\n",
              "      <td>0.000000</td>\n",
              "      <td>0.000000</td>\n",
              "      <td>0.000000</td>\n",
              "      <td>0.000000</td>\n",
              "      <td>0.000000</td>\n",
              "      <td>0.000000</td>\n",
              "      <td>1.000000</td>\n",
              "      <td>29.080568</td>\n",
              "      <td>38.908558</td>\n",
              "    </tr>\n",
              "    <tr>\n",
              "      <th>25%</th>\n",
              "      <td>NaN</td>\n",
              "      <td>NaN</td>\n",
              "      <td>NaN</td>\n",
              "      <td>NaN</td>\n",
              "      <td>NaN</td>\n",
              "      <td>NaN</td>\n",
              "      <td>NaN</td>\n",
              "      <td>0.000000</td>\n",
              "      <td>0.000000</td>\n",
              "      <td>0.000000</td>\n",
              "      <td>0.000000</td>\n",
              "      <td>0.000000</td>\n",
              "      <td>0.000000</td>\n",
              "      <td>0.000000</td>\n",
              "      <td>0.000000</td>\n",
              "      <td>0.000000</td>\n",
              "      <td>1.000000</td>\n",
              "      <td>33.261772</td>\n",
              "      <td>44.070820</td>\n",
              "    </tr>\n",
              "    <tr>\n",
              "      <th>50%</th>\n",
              "      <td>NaN</td>\n",
              "      <td>NaN</td>\n",
              "      <td>NaN</td>\n",
              "      <td>NaN</td>\n",
              "      <td>NaN</td>\n",
              "      <td>NaN</td>\n",
              "      <td>NaN</td>\n",
              "      <td>0.000000</td>\n",
              "      <td>0.000000</td>\n",
              "      <td>0.000000</td>\n",
              "      <td>0.000000</td>\n",
              "      <td>0.000000</td>\n",
              "      <td>1.000000</td>\n",
              "      <td>0.000000</td>\n",
              "      <td>0.000000</td>\n",
              "      <td>0.000000</td>\n",
              "      <td>1.000000</td>\n",
              "      <td>33.365656</td>\n",
              "      <td>44.352551</td>\n",
              "    </tr>\n",
              "    <tr>\n",
              "      <th>75%</th>\n",
              "      <td>NaN</td>\n",
              "      <td>NaN</td>\n",
              "      <td>NaN</td>\n",
              "      <td>NaN</td>\n",
              "      <td>NaN</td>\n",
              "      <td>NaN</td>\n",
              "      <td>NaN</td>\n",
              "      <td>0.000000</td>\n",
              "      <td>0.000000</td>\n",
              "      <td>0.000000</td>\n",
              "      <td>0.000000</td>\n",
              "      <td>0.000000</td>\n",
              "      <td>1.000000</td>\n",
              "      <td>0.000000</td>\n",
              "      <td>0.000000</td>\n",
              "      <td>0.000000</td>\n",
              "      <td>2.000000</td>\n",
              "      <td>33.856053</td>\n",
              "      <td>44.476757</td>\n",
              "    </tr>\n",
              "    <tr>\n",
              "      <th>max</th>\n",
              "      <td>NaN</td>\n",
              "      <td>NaN</td>\n",
              "      <td>NaN</td>\n",
              "      <td>NaN</td>\n",
              "      <td>NaN</td>\n",
              "      <td>NaN</td>\n",
              "      <td>NaN</td>\n",
              "      <td>118.000000</td>\n",
              "      <td>31.000000</td>\n",
              "      <td>97.000000</td>\n",
              "      <td>48.000000</td>\n",
              "      <td>641.000000</td>\n",
              "      <td>436.000000</td>\n",
              "      <td>194.000000</td>\n",
              "      <td>262.000000</td>\n",
              "      <td>560.000000</td>\n",
              "      <td>443.000000</td>\n",
              "      <td>37.886650</td>\n",
              "      <td>48.861084</td>\n",
              "    </tr>\n",
              "  </tbody>\n",
              "</table>\n",
              "</div>\n",
              "      <button class=\"colab-df-convert\" onclick=\"convertToInteractive('df-e00a606a-9680-4a7c-9c9e-7f24cc3c6144')\"\n",
              "              title=\"Convert this dataframe to an interactive table.\"\n",
              "              style=\"display:none;\">\n",
              "        \n",
              "  <svg xmlns=\"http://www.w3.org/2000/svg\" height=\"24px\"viewBox=\"0 0 24 24\"\n",
              "       width=\"24px\">\n",
              "    <path d=\"M0 0h24v24H0V0z\" fill=\"none\"/>\n",
              "    <path d=\"M18.56 5.44l.94 2.06.94-2.06 2.06-.94-2.06-.94-.94-2.06-.94 2.06-2.06.94zm-11 1L8.5 8.5l.94-2.06 2.06-.94-2.06-.94L8.5 2.5l-.94 2.06-2.06.94zm10 10l.94 2.06.94-2.06 2.06-.94-2.06-.94-.94-2.06-.94 2.06-2.06.94z\"/><path d=\"M17.41 7.96l-1.37-1.37c-.4-.4-.92-.59-1.43-.59-.52 0-1.04.2-1.43.59L10.3 9.45l-7.72 7.72c-.78.78-.78 2.05 0 2.83L4 21.41c.39.39.9.59 1.41.59.51 0 1.02-.2 1.41-.59l7.78-7.78 2.81-2.81c.8-.78.8-2.07 0-2.86zM5.41 20L4 18.59l7.72-7.72 1.47 1.35L5.41 20z\"/>\n",
              "  </svg>\n",
              "      </button>\n",
              "      \n",
              "  <style>\n",
              "    .colab-df-container {\n",
              "      display:flex;\n",
              "      flex-wrap:wrap;\n",
              "      gap: 12px;\n",
              "    }\n",
              "\n",
              "    .colab-df-convert {\n",
              "      background-color: #E8F0FE;\n",
              "      border: none;\n",
              "      border-radius: 50%;\n",
              "      cursor: pointer;\n",
              "      display: none;\n",
              "      fill: #1967D2;\n",
              "      height: 32px;\n",
              "      padding: 0 0 0 0;\n",
              "      width: 32px;\n",
              "    }\n",
              "\n",
              "    .colab-df-convert:hover {\n",
              "      background-color: #E2EBFA;\n",
              "      box-shadow: 0px 1px 2px rgba(60, 64, 67, 0.3), 0px 1px 3px 1px rgba(60, 64, 67, 0.15);\n",
              "      fill: #174EA6;\n",
              "    }\n",
              "\n",
              "    [theme=dark] .colab-df-convert {\n",
              "      background-color: #3B4455;\n",
              "      fill: #D2E3FC;\n",
              "    }\n",
              "\n",
              "    [theme=dark] .colab-df-convert:hover {\n",
              "      background-color: #434B5C;\n",
              "      box-shadow: 0px 1px 3px 1px rgba(0, 0, 0, 0.15);\n",
              "      filter: drop-shadow(0px 1px 2px rgba(0, 0, 0, 0.3));\n",
              "      fill: #FFFFFF;\n",
              "    }\n",
              "  </style>\n",
              "\n",
              "      <script>\n",
              "        const buttonEl =\n",
              "          document.querySelector('#df-e00a606a-9680-4a7c-9c9e-7f24cc3c6144 button.colab-df-convert');\n",
              "        buttonEl.style.display =\n",
              "          google.colab.kernel.accessAllowed ? 'block' : 'none';\n",
              "\n",
              "        async function convertToInteractive(key) {\n",
              "          const element = document.querySelector('#df-e00a606a-9680-4a7c-9c9e-7f24cc3c6144');\n",
              "          const dataTable =\n",
              "            await google.colab.kernel.invokeFunction('convertToInteractive',\n",
              "                                                     [key], {});\n",
              "          if (!dataTable) return;\n",
              "\n",
              "          const docLinkHtml = 'Like what you see? Visit the ' +\n",
              "            '<a target=\"_blank\" href=https://colab.research.google.com/notebooks/data_table.ipynb>data table notebook</a>'\n",
              "            + ' to learn more about interactive tables.';\n",
              "          element.innerHTML = '';\n",
              "          dataTable['output_type'] = 'display_data';\n",
              "          await google.colab.output.renderOutput(dataTable, element);\n",
              "          const docLink = document.createElement('div');\n",
              "          docLink.innerHTML = docLinkHtml;\n",
              "          element.appendChild(docLink);\n",
              "        }\n",
              "      </script>\n",
              "    </div>\n",
              "  </div>\n",
              "  "
            ]
          },
          "metadata": {},
          "execution_count": 30
        }
      ]
    },
    {
      "cell_type": "code",
      "source": [
        "mydata.info()"
      ],
      "metadata": {
        "colab": {
          "base_uri": "https://localhost:8080/"
        },
        "id": "1U0hfOWfHwUc",
        "outputId": "31f7b919-f16c-4c81-ca42-a173f472a48d"
      },
      "execution_count": 31,
      "outputs": [
        {
          "output_type": "stream",
          "name": "stdout",
          "text": [
            "<class 'pandas.core.frame.DataFrame'>\n",
            "RangeIndex: 52048 entries, 0 to 52047\n",
            "Data columns (total 19 columns):\n",
            " #   Column                    Non-Null Count  Dtype  \n",
            "---  ------                    --------------  -----  \n",
            " 0   Report key                52048 non-null  object \n",
            " 1   Date and time             52048 non-null  object \n",
            " 2   Type                      52048 non-null  object \n",
            " 3   Category                  52047 non-null  object \n",
            " 4   Title                     50707 non-null  object \n",
            " 5   Region                    51999 non-null  object \n",
            " 6   Attack on                 52048 non-null  object \n",
            " 7   Coalition forces wounded  52048 non-null  int64  \n",
            " 8   Coalition forces killed   52048 non-null  int64  \n",
            " 9   Iraq forces wounded       52048 non-null  int64  \n",
            " 10  Iraq forces killed        52048 non-null  int64  \n",
            " 11  Civilian wia              52048 non-null  int64  \n",
            " 12  Civilian kia              52048 non-null  int64  \n",
            " 13  Enemy wia                 52048 non-null  int64  \n",
            " 14  Enemy kia                 52048 non-null  int64  \n",
            " 15  Enemy detained            52048 non-null  int64  \n",
            " 16  Total deaths              52048 non-null  int64  \n",
            " 17  Latitude                  52048 non-null  float64\n",
            " 18  Longitude                 52048 non-null  float64\n",
            "dtypes: float64(2), int64(10), object(7)\n",
            "memory usage: 7.5+ MB\n"
          ]
        }
      ]
    },
    {
      "cell_type": "code",
      "source": [
        "import matplotlib.pyplot as plt\n",
        "mydata.hist(figsize=(30,40))"
      ],
      "metadata": {
        "id": "vgsPX8CxIwJS",
        "outputId": "9da1a886-bd5a-4304-9f67-e24174b3687b",
        "colab": {
          "base_uri": "https://localhost:8080/",
          "height": 1000
        }
      },
      "execution_count": 32,
      "outputs": [
        {
          "output_type": "execute_result",
          "data": {
            "text/plain": [
              "array([[<Axes: title={'center': 'Coalition forces wounded'}>,\n",
              "        <Axes: title={'center': 'Coalition forces killed'}>,\n",
              "        <Axes: title={'center': 'Iraq forces wounded'}>],\n",
              "       [<Axes: title={'center': 'Iraq forces killed'}>,\n",
              "        <Axes: title={'center': 'Civilian wia'}>,\n",
              "        <Axes: title={'center': 'Civilian kia'}>],\n",
              "       [<Axes: title={'center': 'Enemy wia'}>,\n",
              "        <Axes: title={'center': 'Enemy kia'}>,\n",
              "        <Axes: title={'center': 'Enemy detained'}>],\n",
              "       [<Axes: title={'center': 'Total deaths'}>,\n",
              "        <Axes: title={'center': 'Latitude'}>,\n",
              "        <Axes: title={'center': 'Longitude'}>]], dtype=object)"
            ]
          },
          "metadata": {},
          "execution_count": 32
        },
        {
          "output_type": "display_data",
          "data": {
            "text/plain": [
              "<Figure size 3000x4000 with 12 Axes>"
            ],
            "image/png": "[encoded data removed]"
          },
          "metadata": {}
        }
      ]
    },
    {
      "cell_type": "code",
      "source": [
        "mydata.describe()"
      ],
      "metadata": {
        "id": "jJjLGwf2bGCs",
        "outputId": "54f56a97-be1f-4197-ed3e-c87421548fde",
        "colab": {
          "base_uri": "https://localhost:8080/",
          "height": 399
        }
      },
      "execution_count": 33,
      "outputs": [
        {
          "output_type": "execute_result",
          "data": {
            "text/plain": [
              "       Coalition forces wounded  Coalition forces killed  Iraq forces wounded  \\\n",
              "count              52048.000000             52048.000000         52048.000000   \n",
              "mean                   0.151725                 0.072395             0.335748   \n",
              "std                    1.308172                 0.441807             1.857530   \n",
              "min                    0.000000                 0.000000             0.000000   \n",
              "25%                    0.000000                 0.000000             0.000000   \n",
              "50%                    0.000000                 0.000000             0.000000   \n",
              "75%                    0.000000                 0.000000             0.000000   \n",
              "max                  118.000000                31.000000            97.000000   \n",
              "\n",
              "       Iraq forces killed  Civilian wia  Civilian kia     Enemy wia  \\\n",
              "count        52048.000000  52048.000000  52048.000000  52048.000000   \n",
              "mean             0.290501      1.236877      1.261316      0.065247   \n",
              "std              1.011373      8.653318      4.250393      1.336718   \n",
              "min              0.000000      0.000000      0.000000      0.000000   \n",
              "25%              0.000000      0.000000      0.000000      0.000000   \n",
              "50%              0.000000      0.000000      1.000000      0.000000   \n",
              "75%              0.000000      0.000000      1.000000      0.000000   \n",
              "max             48.000000    641.000000    436.000000    194.000000   \n",
              "\n",
              "          Enemy kia  Enemy detained  Total deaths      Latitude     Longitude  \n",
              "count  52048.000000    52048.000000  52048.000000  52048.000000  52048.000000  \n",
              "mean       0.458365        0.283181      2.082578     33.664309     44.307966  \n",
              "std        2.640768        4.904411      5.030827      1.272133      1.027915  \n",
              "min        0.000000        0.000000      1.000000     29.080568     38.908558  \n",
              "25%        0.000000        0.000000      1.000000     33.261772     44.070820  \n",
              "50%        0.000000        0.000000      1.000000     33.365656     44.352551  \n",
              "75%        0.000000        0.000000      2.000000     33.856053     44.476757  \n",
              "max      262.000000      560.000000    443.000000     37.886650     48.861084  "
            ],
            "text/html": [
              "\n",
              "  <div id=\"df-de272c37-0fc0-49fe-a691-d2a5d5f4017a\">\n",
              "    <div class=\"colab-df-container\">\n",
              "      <div>\n",
              "<style scoped>\n",
              "    .dataframe tbody tr th:only-of-type {\n",
              "        vertical-align: middle;\n",
              "    }\n",
              "\n",
              "    .dataframe tbody tr th {\n",
              "        vertical-align: top;\n",
              "    }\n",
              "\n",
              "    .dataframe thead th {\n",
              "        text-align: right;\n",
              "    }\n",
              "</style>\n",
              "<table border=\"1\" class=\"dataframe\">\n",
              "  <thead>\n",
              "    <tr style=\"text-align: right;\">\n",
              "      <th></th>\n",
              "      <th>Coalition forces wounded</th>\n",
              "      <th>Coalition forces killed</th>\n",
              "      <th>Iraq forces wounded</th>\n",
              "      <th>Iraq forces killed</th>\n",
              "      <th>Civilian wia</th>\n",
              "      <th>Civilian kia</th>\n",
              "      <th>Enemy wia</th>\n",
              "      <th>Enemy kia</th>\n",
              "      <th>Enemy detained</th>\n",
              "      <th>Total deaths</th>\n",
              "      <th>Latitude</th>\n",
              "      <th>Longitude</th>\n",
              "    </tr>\n",
              "  </thead>\n",
              "  <tbody>\n",
              "    <tr>\n",
              "      <th>count</th>\n",
              "      <td>52048.000000</td>\n",
              "      <td>52048.000000</td>\n",
              "      <td>52048.000000</td>\n",
              "      <td>52048.000000</td>\n",
              "      <td>52048.000000</td>\n",
              "      <td>52048.000000</td>\n",
              "      <td>52048.000000</td>\n",
              "      <td>52048.000000</td>\n",
              "      <td>52048.000000</td>\n",
              "      <td>52048.000000</td>\n",
              "      <td>52048.000000</td>\n",
              "      <td>52048.000000</td>\n",
              "    </tr>\n",
              "    <tr>\n",
              "      <th>mean</th>\n",
              "      <td>0.151725</td>\n",
              "      <td>0.072395</td>\n",
              "      <td>0.335748</td>\n",
              "      <td>0.290501</td>\n",
              "      <td>1.236877</td>\n",
              "      <td>1.261316</td>\n",
              "      <td>0.065247</td>\n",
              "      <td>0.458365</td>\n",
              "      <td>0.283181</td>\n",
              "      <td>2.082578</td>\n",
              "      <td>33.664309</td>\n",
              "      <td>44.307966</td>\n",
              "    </tr>\n",
              "    <tr>\n",
              "      <th>std</th>\n",
              "      <td>1.308172</td>\n",
              "      <td>0.441807</td>\n",
              "      <td>1.857530</td>\n",
              "      <td>1.011373</td>\n",
              "      <td>8.653318</td>\n",
              "      <td>4.250393</td>\n",
              "      <td>1.336718</td>\n",
              "      <td>2.640768</td>\n",
              "      <td>4.904411</td>\n",
              "      <td>5.030827</td>\n",
              "      <td>1.272133</td>\n",
              "      <td>1.027915</td>\n",
              "    </tr>\n",
              "    <tr>\n",
              "      <th>min</th>\n",
              "      <td>0.000000</td>\n",
              "      <td>0.000000</td>\n",
              "      <td>0.000000</td>\n",
              "      <td>0.000000</td>\n",
              "      <td>0.000000</td>\n",
              "      <td>0.000000</td>\n",
              "      <td>0.000000</td>\n",
              "      <td>0.000000</td>\n",
              "      <td>0.000000</td>\n",
              "      <td>1.000000</td>\n",
              "      <td>29.080568</td>\n",
              "      <td>38.908558</td>\n",
              "    </tr>\n",
              "    <tr>\n",
              "      <th>25%</th>\n",
              "      <td>0.000000</td>\n",
              "      <td>0.000000</td>\n",
              "      <td>0.000000</td>\n",
              "      <td>0.000000</td>\n",
              "      <td>0.000000</td>\n",
              "      <td>0.000000</td>\n",
              "      <td>0.000000</td>\n",
              "      <td>0.000000</td>\n",
              "      <td>0.000000</td>\n",
              "      <td>1.000000</td>\n",
              "      <td>33.261772</td>\n",
              "      <td>44.070820</td>\n",
              "    </tr>\n",
              "    <tr>\n",
              "      <th>50%</th>\n",
              "      <td>0.000000</td>\n",
              "      <td>0.000000</td>\n",
              "      <td>0.000000</td>\n",
              "      <td>0.000000</td>\n",
              "      <td>0.000000</td>\n",
              "      <td>1.000000</td>\n",
              "      <td>0.000000</td>\n",
              "      <td>0.000000</td>\n",
              "      <td>0.000000</td>\n",
              "      <td>1.000000</td>\n",
              "      <td>33.365656</td>\n",
              "      <td>44.352551</td>\n",
              "    </tr>\n",
              "    <tr>\n",
              "      <th>75%</th>\n",
              "      <td>0.000000</td>\n",
              "      <td>0.000000</td>\n",
              "      <td>0.000000</td>\n",
              "      <td>0.000000</td>\n",
              "      <td>0.000000</td>\n",
              "      <td>1.000000</td>\n",
              "      <td>0.000000</td>\n",
              "      <td>0.000000</td>\n",
              "      <td>0.000000</td>\n",
              "      <td>2.000000</td>\n",
              "      <td>33.856053</td>\n",
              "      <td>44.476757</td>\n",
              "    </tr>\n",
              "    <tr>\n",
              "      <th>max</th>\n",
              "      <td>118.000000</td>\n",
              "      <td>31.000000</td>\n",
              "      <td>97.000000</td>\n",
              "      <td>48.000000</td>\n",
              "      <td>641.000000</td>\n",
              "      <td>436.000000</td>\n",
              "      <td>194.000000</td>\n",
              "      <td>262.000000</td>\n",
              "      <td>560.000000</td>\n",
              "      <td>443.000000</td>\n",
              "      <td>37.886650</td>\n",
              "      <td>48.861084</td>\n",
              "    </tr>\n",
              "  </tbody>\n",
              "</table>\n",
              "</div>\n",
              "      <button class=\"colab-df-convert\" onclick=\"convertToInteractive('df-de272c37-0fc0-49fe-a691-d2a5d5f4017a')\"\n",
              "              title=\"Convert this dataframe to an interactive table.\"\n",
              "              style=\"display:none;\">\n",
              "        \n",
              "  <svg xmlns=\"http://www.w3.org/2000/svg\" height=\"24px\"viewBox=\"0 0 24 24\"\n",
              "       width=\"24px\">\n",
              "    <path d=\"M0 0h24v24H0V0z\" fill=\"none\"/>\n",
              "    <path d=\"M18.56 5.44l.94 2.06.94-2.06 2.06-.94-2.06-.94-.94-2.06-.94 2.06-2.06.94zm-11 1L8.5 8.5l.94-2.06 2.06-.94-2.06-.94L8.5 2.5l-.94 2.06-2.06.94zm10 10l.94 2.06.94-2.06 2.06-.94-2.06-.94-.94-2.06-.94 2.06-2.06.94z\"/><path d=\"M17.41 7.96l-1.37-1.37c-.4-.4-.92-.59-1.43-.59-.52 0-1.04.2-1.43.59L10.3 9.45l-7.72 7.72c-.78.78-.78 2.05 0 2.83L4 21.41c.39.39.9.59 1.41.59.51 0 1.02-.2 1.41-.59l7.78-7.78 2.81-2.81c.8-.78.8-2.07 0-2.86zM5.41 20L4 18.59l7.72-7.72 1.47 1.35L5.41 20z\"/>\n",
              "  </svg>\n",
              "      </button>\n",
              "      \n",
              "  <style>\n",
              "    .colab-df-container {\n",
              "      display:flex;\n",
              "      flex-wrap:wrap;\n",
              "      gap: 12px;\n",
              "    }\n",
              "\n",
              "    .colab-df-convert {\n",
              "      background-color: #E8F0FE;\n",
              "      border: none;\n",
              "      border-radius: 50%;\n",
              "      cursor: pointer;\n",
              "      display: none;\n",
              "      fill: #1967D2;\n",
              "      height: 32px;\n",
              "      padding: 0 0 0 0;\n",
              "      width: 32px;\n",
              "    }\n",
              "\n",
              "    .colab-df-convert:hover {\n",
              "      background-color: #E2EBFA;\n",
              "      box-shadow: 0px 1px 2px rgba(60, 64, 67, 0.3), 0px 1px 3px 1px rgba(60, 64, 67, 0.15);\n",
              "      fill: #174EA6;\n",
              "    }\n",
              "\n",
              "    [theme=dark] .colab-df-convert {\n",
              "      background-color: #3B4455;\n",
              "      fill: #D2E3FC;\n",
              "    }\n",
              "\n",
              "    [theme=dark] .colab-df-convert:hover {\n",
              "      background-color: #434B5C;\n",
              "      box-shadow: 0px 1px 3px 1px rgba(0, 0, 0, 0.15);\n",
              "      filter: drop-shadow(0px 1px 2px rgba(0, 0, 0, 0.3));\n",
              "      fill: #FFFFFF;\n",
              "    }\n",
              "  </style>\n",
              "\n",
              "      <script>\n",
              "        const buttonEl =\n",
              "          document.querySelector('#df-de272c37-0fc0-49fe-a691-d2a5d5f4017a button.colab-df-convert');\n",
              "        buttonEl.style.display =\n",
              "          google.colab.kernel.accessAllowed ? 'block' : 'none';\n",
              "\n",
              "        async function convertToInteractive(key) {\n",
              "          const element = document.querySelector('#df-de272c37-0fc0-49fe-a691-d2a5d5f4017a');\n",
              "          const dataTable =\n",
              "            await google.colab.kernel.invokeFunction('convertToInteractive',\n",
              "                                                     [key], {});\n",
              "          if (!dataTable) return;\n",
              "\n",
              "          const docLinkHtml = 'Like what you see? Visit the ' +\n",
              "            '<a target=\"_blank\" href=https://colab.research.google.com/notebooks/data_table.ipynb>data table notebook</a>'\n",
              "            + ' to learn more about interactive tables.';\n",
              "          element.innerHTML = '';\n",
              "          dataTable['output_type'] = 'display_data';\n",
              "          await google.colab.output.renderOutput(dataTable, element);\n",
              "          const docLink = document.createElement('div');\n",
              "          docLink.innerHTML = docLinkHtml;\n",
              "          element.appendChild(docLink);\n",
              "        }\n",
              "      </script>\n",
              "    </div>\n",
              "  </div>\n",
              "  "
            ]
          },
          "metadata": {},
          "execution_count": 33
        }
      ]
    },
    {
      "cell_type": "code",
      "source": [
        "pd.pivot_table(mydata, index=['Enemy wia','Enemy kia'],\n",
        "               columns=['Total deaths'],aggfunc=len)\n"
      ],
      "metadata": {
        "id": "pKC-xeC3bl_G",
        "outputId": "69b34577-464d-4e6c-c122-3b05c3f67c6f",
        "colab": {
          "base_uri": "https://localhost:8080/",
          "height": 565
        }
      },
      "execution_count": 34,
      "outputs": [
        {
          "output_type": "execute_result",
          "data": {
            "text/plain": [
              "                    Attack on                                               \\\n",
              "Total deaths              1       2       3       4      5      6      7     \n",
              "Enemy wia Enemy kia                                                          \n",
              "0         0           31065.0  6246.0  2134.0  1151.0  560.0  347.0  193.0   \n",
              "          1            3795.0   336.0   153.0   113.0   82.0   63.0   33.0   \n",
              "          2               NaN  1383.0    61.0    34.0   12.0   14.0    9.0   \n",
              "          3               NaN     NaN   580.0    34.0   13.0   11.0    1.0   \n",
              "          4               NaN     NaN     NaN   345.0   16.0    7.0    5.0   \n",
              "...                       ...     ...     ...     ...    ...    ...    ...   \n",
              "60        3               NaN     NaN     1.0     NaN    NaN    NaN    NaN   \n",
              "75        0               NaN     NaN     NaN     NaN    NaN    NaN    NaN   \n",
              "100       20              NaN     NaN     NaN     NaN    NaN    NaN    NaN   \n",
              "110       40              NaN     NaN     NaN     NaN    NaN    NaN    NaN   \n",
              "194       52              NaN     NaN     NaN     NaN    NaN    NaN    NaN   \n",
              "\n",
              "                                         ... Type                          \\\n",
              "Total deaths           8      9     10   ...  135 153  158  166  170  181   \n",
              "Enemy wia Enemy kia                      ...                                \n",
              "0         0          151.0  103.0  93.0  ...  NaN NaN  1.0  1.0  1.0  1.0   \n",
              "          1           32.0   27.0  19.0  ...  NaN NaN  NaN  NaN  NaN  NaN   \n",
              "          2            5.0    4.0   7.0  ...  NaN NaN  NaN  NaN  NaN  NaN   \n",
              "          3            4.0    2.0   NaN  ...  NaN NaN  NaN  NaN  NaN  NaN   \n",
              "          4            7.0    NaN   2.0  ...  NaN NaN  NaN  NaN  NaN  NaN   \n",
              "...                    ...    ...   ...  ...  ...  ..  ...  ...  ...  ...   \n",
              "60        3            NaN    NaN   NaN  ...  NaN NaN  NaN  NaN  NaN  NaN   \n",
              "75        0            NaN    NaN   NaN  ...  NaN NaN  NaN  NaN  NaN  NaN   \n",
              "100       20           NaN    NaN   NaN  ...  NaN NaN  NaN  NaN  NaN  NaN   \n",
              "110       40           NaN    NaN   NaN  ...  NaN NaN  NaN  NaN  NaN  NaN   \n",
              "194       52           NaN    NaN   NaN  ...  NaN NaN  NaN  NaN  NaN  NaN   \n",
              "\n",
              "                                        \n",
              "Total deaths         250 276  299  443  \n",
              "Enemy wia Enemy kia                     \n",
              "0         0          1.0 NaN  1.0  1.0  \n",
              "          1          NaN NaN  NaN  NaN  \n",
              "          2          NaN NaN  NaN  NaN  \n",
              "          3          NaN NaN  NaN  NaN  \n",
              "          4          NaN NaN  NaN  NaN  \n",
              "...                  ...  ..  ...  ...  \n",
              "60        3          NaN NaN  NaN  NaN  \n",
              "75        0          NaN NaN  NaN  NaN  \n",
              "100       20         NaN NaN  NaN  NaN  \n",
              "110       40         NaN NaN  NaN  NaN  \n",
              "194       52         NaN NaN  NaN  NaN  \n",
              "\n",
              "[192 rows x 1456 columns]"
            ],
            "text/html": [
              "\n",
              "  <div id=\"df-12e13905-7988-484a-b2da-09d8d95dcc67\">\n",
              "    <div class=\"colab-df-container\">\n",
              "      <div>\n",
              "<style scoped>\n",
              "    .dataframe tbody tr th:only-of-type {\n",
              "        vertical-align: middle;\n",
              "    }\n",
              "\n",
              "    .dataframe tbody tr th {\n",
              "        vertical-align: top;\n",
              "    }\n",
              "\n",
              "    .dataframe thead tr th {\n",
              "        text-align: left;\n",
              "    }\n",
              "\n",
              "    .dataframe thead tr:last-of-type th {\n",
              "        text-align: right;\n",
              "    }\n",
              "</style>\n",
              "<table border=\"1\" class=\"dataframe\">\n",
              "  <thead>\n",
              "    <tr>\n",
              "      <th></th>\n",
              "      <th></th>\n",
              "      <th colspan=\"10\" halign=\"left\">Attack on</th>\n",
              "      <th>...</th>\n",
              "      <th colspan=\"10\" halign=\"left\">Type</th>\n",
              "    </tr>\n",
              "    <tr>\n",
              "      <th></th>\n",
              "      <th>Total deaths</th>\n",
              "      <th>1</th>\n",
              "      <th>2</th>\n",
              "      <th>3</th>\n",
              "      <th>4</th>\n",
              "      <th>5</th>\n",
              "      <th>6</th>\n",
              "      <th>7</th>\n",
              "      <th>8</th>\n",
              "      <th>9</th>\n",
              "      <th>10</th>\n",
              "      <th>...</th>\n",
              "      <th>135</th>\n",
              "      <th>153</th>\n",
              "      <th>158</th>\n",
              "      <th>166</th>\n",
              "      <th>170</th>\n",
              "      <th>181</th>\n",
              "      <th>250</th>\n",
              "      <th>276</th>\n",
              "      <th>299</th>\n",
              "      <th>443</th>\n",
              "    </tr>\n",
              "    <tr>\n",
              "      <th>Enemy wia</th>\n",
              "      <th>Enemy kia</th>\n",
              "      <th></th>\n",
              "      <th></th>\n",
              "      <th></th>\n",
              "      <th></th>\n",
              "      <th></th>\n",
              "      <th></th>\n",
              "      <th></th>\n",
              "      <th></th>\n",
              "      <th></th>\n",
              "      <th></th>\n",
              "      <th></th>\n",
              "      <th></th>\n",
              "      <th></th>\n",
              "      <th></th>\n",
              "      <th></th>\n",
              "      <th></th>\n",
              "      <th></th>\n",
              "      <th></th>\n",
              "      <th></th>\n",
              "      <th></th>\n",
              "      <th></th>\n",
              "    </tr>\n",
              "  </thead>\n",
              "  <tbody>\n",
              "    <tr>\n",
              "      <th rowspan=\"5\" valign=\"top\">0</th>\n",
              "      <th>0</th>\n",
              "      <td>31065.0</td>\n",
              "      <td>6246.0</td>\n",
              "      <td>2134.0</td>\n",
              "      <td>1151.0</td>\n",
              "      <td>560.0</td>\n",
              "      <td>347.0</td>\n",
              "      <td>193.0</td>\n",
              "      <td>151.0</td>\n",
              "      <td>103.0</td>\n",
              "      <td>93.0</td>\n",
              "      <td>...</td>\n",
              "      <td>NaN</td>\n",
              "      <td>NaN</td>\n",
              "      <td>1.0</td>\n",
              "      <td>1.0</td>\n",
              "      <td>1.0</td>\n",
              "      <td>1.0</td>\n",
              "      <td>1.0</td>\n",
              "      <td>NaN</td>\n",
              "      <td>1.0</td>\n",
              "      <td>1.0</td>\n",
              "    </tr>\n",
              "    <tr>\n",
              "      <th>1</th>\n",
              "      <td>3795.0</td>\n",
              "      <td>336.0</td>\n",
              "      <td>153.0</td>\n",
              "      <td>113.0</td>\n",
              "      <td>82.0</td>\n",
              "      <td>63.0</td>\n",
              "      <td>33.0</td>\n",
              "      <td>32.0</td>\n",
              "      <td>27.0</td>\n",
              "      <td>19.0</td>\n",
              "      <td>...</td>\n",
              "      <td>NaN</td>\n",
              "      <td>NaN</td>\n",
              "      <td>NaN</td>\n",
              "      <td>NaN</td>\n",
              "      <td>NaN</td>\n",
              "      <td>NaN</td>\n",
              "      <td>NaN</td>\n",
              "      <td>NaN</td>\n",
              "      <td>NaN</td>\n",
              "      <td>NaN</td>\n",
              "    </tr>\n",
              "    <tr>\n",
              "      <th>2</th>\n",
              "      <td>NaN</td>\n",
              "      <td>1383.0</td>\n",
              "      <td>61.0</td>\n",
              "      <td>34.0</td>\n",
              "      <td>12.0</td>\n",
              "      <td>14.0</td>\n",
              "      <td>9.0</td>\n",
              "      <td>5.0</td>\n",
              "      <td>4.0</td>\n",
              "      <td>7.0</td>\n",
              "      <td>...</td>\n",
              "      <td>NaN</td>\n",
              "      <td>NaN</td>\n",
              "      <td>NaN</td>\n",
              "      <td>NaN</td>\n",
              "      <td>NaN</td>\n",
              "      <td>NaN</td>\n",
              "      <td>NaN</td>\n",
              "      <td>NaN</td>\n",
              "      <td>NaN</td>\n",
              "      <td>NaN</td>\n",
              "    </tr>\n",
              "    <tr>\n",
              "      <th>3</th>\n",
              "      <td>NaN</td>\n",
              "      <td>NaN</td>\n",
              "      <td>580.0</td>\n",
              "      <td>34.0</td>\n",
              "      <td>13.0</td>\n",
              "      <td>11.0</td>\n",
              "      <td>1.0</td>\n",
              "      <td>4.0</td>\n",
              "      <td>2.0</td>\n",
              "      <td>NaN</td>\n",
              "      <td>...</td>\n",
              "      <td>NaN</td>\n",
              "      <td>NaN</td>\n",
              "      <td>NaN</td>\n",
              "      <td>NaN</td>\n",
              "      <td>NaN</td>\n",
              "      <td>NaN</td>\n",
              "      <td>NaN</td>\n",
              "      <td>NaN</td>\n",
              "      <td>NaN</td>\n",
              "      <td>NaN</td>\n",
              "    </tr>\n",
              "    <tr>\n",
              "      <th>4</th>\n",
              "      <td>NaN</td>\n",
              "      <td>NaN</td>\n",
              "      <td>NaN</td>\n",
              "      <td>345.0</td>\n",
              "      <td>16.0</td>\n",
              "      <td>7.0</td>\n",
              "      <td>5.0</td>\n",
              "      <td>7.0</td>\n",
              "      <td>NaN</td>\n",
              "      <td>2.0</td>\n",
              "      <td>...</td>\n",
              "      <td>NaN</td>\n",
              "      <td>NaN</td>\n",
              "      <td>NaN</td>\n",
              "      <td>NaN</td>\n",
              "      <td>NaN</td>\n",
              "      <td>NaN</td>\n",
              "      <td>NaN</td>\n",
              "      <td>NaN</td>\n",
              "      <td>NaN</td>\n",
              "      <td>NaN</td>\n",
              "    </tr>\n",
              "    <tr>\n",
              "      <th>...</th>\n",
              "      <th>...</th>\n",
              "      <td>...</td>\n",
              "      <td>...</td>\n",
              "      <td>...</td>\n",
              "      <td>...</td>\n",
              "      <td>...</td>\n",
              "      <td>...</td>\n",
              "      <td>...</td>\n",
              "      <td>...</td>\n",
              "      <td>...</td>\n",
              "      <td>...</td>\n",
              "      <td>...</td>\n",
              "      <td>...</td>\n",
              "      <td>...</td>\n",
              "      <td>...</td>\n",
              "      <td>...</td>\n",
              "      <td>...</td>\n",
              "      <td>...</td>\n",
              "      <td>...</td>\n",
              "      <td>...</td>\n",
              "      <td>...</td>\n",
              "      <td>...</td>\n",
              "    </tr>\n",
              "    <tr>\n",
              "      <th>60</th>\n",
              "      <th>3</th>\n",
              "      <td>NaN</td>\n",
              "      <td>NaN</td>\n",
              "      <td>1.0</td>\n",
              "      <td>NaN</td>\n",
              "      <td>NaN</td>\n",
              "      <td>NaN</td>\n",
              "      <td>NaN</td>\n",
              "      <td>NaN</td>\n",
              "      <td>NaN</td>\n",
              "      <td>NaN</td>\n",
              "      <td>...</td>\n",
              "      <td>NaN</td>\n",
              "      <td>NaN</td>\n",
              "      <td>NaN</td>\n",
              "      <td>NaN</td>\n",
              "      <td>NaN</td>\n",
              "      <td>NaN</td>\n",
              "      <td>NaN</td>\n",
              "      <td>NaN</td>\n",
              "      <td>NaN</td>\n",
              "      <td>NaN</td>\n",
              "    </tr>\n",
              "    <tr>\n",
              "      <th>75</th>\n",
              "      <th>0</th>\n",
              "      <td>NaN</td>\n",
              "      <td>NaN</td>\n",
              "      <td>NaN</td>\n",
              "      <td>NaN</td>\n",
              "      <td>NaN</td>\n",
              "      <td>NaN</td>\n",
              "      <td>NaN</td>\n",
              "      <td>NaN</td>\n",
              "      <td>NaN</td>\n",
              "      <td>NaN</td>\n",
              "      <td>...</td>\n",
              "      <td>NaN</td>\n",
              "      <td>NaN</td>\n",
              "      <td>NaN</td>\n",
              "      <td>NaN</td>\n",
              "      <td>NaN</td>\n",
              "      <td>NaN</td>\n",
              "      <td>NaN</td>\n",
              "      <td>NaN</td>\n",
              "      <td>NaN</td>\n",
              "      <td>NaN</td>\n",
              "    </tr>\n",
              "    <tr>\n",
              "      <th>100</th>\n",
              "      <th>20</th>\n",
              "      <td>NaN</td>\n",
              "      <td>NaN</td>\n",
              "      <td>NaN</td>\n",
              "      <td>NaN</td>\n",
              "      <td>NaN</td>\n",
              "      <td>NaN</td>\n",
              "      <td>NaN</td>\n",
              "      <td>NaN</td>\n",
              "      <td>NaN</td>\n",
              "      <td>NaN</td>\n",
              "      <td>...</td>\n",
              "      <td>NaN</td>\n",
              "      <td>NaN</td>\n",
              "      <td>NaN</td>\n",
              "      <td>NaN</td>\n",
              "      <td>NaN</td>\n",
              "      <td>NaN</td>\n",
              "      <td>NaN</td>\n",
              "      <td>NaN</td>\n",
              "      <td>NaN</td>\n",
              "      <td>NaN</td>\n",
              "    </tr>\n",
              "    <tr>\n",
              "      <th>110</th>\n",
              "      <th>40</th>\n",
              "      <td>NaN</td>\n",
              "      <td>NaN</td>\n",
              "      <td>NaN</td>\n",
              "      <td>NaN</td>\n",
              "      <td>NaN</td>\n",
              "      <td>NaN</td>\n",
              "      <td>NaN</td>\n",
              "      <td>NaN</td>\n",
              "      <td>NaN</td>\n",
              "      <td>NaN</td>\n",
              "      <td>...</td>\n",
              "      <td>NaN</td>\n",
              "      <td>NaN</td>\n",
              "      <td>NaN</td>\n",
              "      <td>NaN</td>\n",
              "      <td>NaN</td>\n",
              "      <td>NaN</td>\n",
              "      <td>NaN</td>\n",
              "      <td>NaN</td>\n",
              "      <td>NaN</td>\n",
              "      <td>NaN</td>\n",
              "    </tr>\n",
              "    <tr>\n",
              "      <th>194</th>\n",
              "      <th>52</th>\n",
              "      <td>NaN</td>\n",
              "      <td>NaN</td>\n",
              "      <td>NaN</td>\n",
              "      <td>NaN</td>\n",
              "      <td>NaN</td>\n",
              "      <td>NaN</td>\n",
              "      <td>NaN</td>\n",
              "      <td>NaN</td>\n",
              "      <td>NaN</td>\n",
              "      <td>NaN</td>\n",
              "      <td>...</td>\n",
              "      <td>NaN</td>\n",
              "      <td>NaN</td>\n",
              "      <td>NaN</td>\n",
              "      <td>NaN</td>\n",
              "      <td>NaN</td>\n",
              "      <td>NaN</td>\n",
              "      <td>NaN</td>\n",
              "      <td>NaN</td>\n",
              "      <td>NaN</td>\n",
              "      <td>NaN</td>\n",
              "    </tr>\n",
              "  </tbody>\n",
              "</table>\n",
              "<p>192 rows × 1456 columns</p>\n",
              "</div>\n",
              "      <button class=\"colab-df-convert\" onclick=\"convertToInteractive('df-12e13905-7988-484a-b2da-09d8d95dcc67')\"\n",
              "              title=\"Convert this dataframe to an interactive table.\"\n",
              "              style=\"display:none;\">\n",
              "        \n",
              "  <svg xmlns=\"http://www.w3.org/2000/svg\" height=\"24px\"viewBox=\"0 0 24 24\"\n",
              "       width=\"24px\">\n",
              "    <path d=\"M0 0h24v24H0V0z\" fill=\"none\"/>\n",
              "    <path d=\"M18.56 5.44l.94 2.06.94-2.06 2.06-.94-2.06-.94-.94-2.06-.94 2.06-2.06.94zm-11 1L8.5 8.5l.94-2.06 2.06-.94-2.06-.94L8.5 2.5l-.94 2.06-2.06.94zm10 10l.94 2.06.94-2.06 2.06-.94-2.06-.94-.94-2.06-.94 2.06-2.06.94z\"/><path d=\"M17.41 7.96l-1.37-1.37c-.4-.4-.92-.59-1.43-.59-.52 0-1.04.2-1.43.59L10.3 9.45l-7.72 7.72c-.78.78-.78 2.05 0 2.83L4 21.41c.39.39.9.59 1.41.59.51 0 1.02-.2 1.41-.59l7.78-7.78 2.81-2.81c.8-.78.8-2.07 0-2.86zM5.41 20L4 18.59l7.72-7.72 1.47 1.35L5.41 20z\"/>\n",
              "  </svg>\n",
              "      </button>\n",
              "      \n",
              "  <style>\n",
              "    .colab-df-container {\n",
              "      display:flex;\n",
              "      flex-wrap:wrap;\n",
              "      gap: 12px;\n",
              "    }\n",
              "\n",
              "    .colab-df-convert {\n",
              "      background-color: #E8F0FE;\n",
              "      border: none;\n",
              "      border-radius: 50%;\n",
              "      cursor: pointer;\n",
              "      display: none;\n",
              "      fill: #1967D2;\n",
              "      height: 32px;\n",
              "      padding: 0 0 0 0;\n",
              "      width: 32px;\n",
              "    }\n",
              "\n",
              "    .colab-df-convert:hover {\n",
              "      background-color: #E2EBFA;\n",
              "      box-shadow: 0px 1px 2px rgba(60, 64, 67, 0.3), 0px 1px 3px 1px rgba(60, 64, 67, 0.15);\n",
              "      fill: #174EA6;\n",
              "    }\n",
              "\n",
              "    [theme=dark] .colab-df-convert {\n",
              "      background-color: #3B4455;\n",
              "      fill: #D2E3FC;\n",
              "    }\n",
              "\n",
              "    [theme=dark] .colab-df-convert:hover {\n",
              "      background-color: #434B5C;\n",
              "      box-shadow: 0px 1px 3px 1px rgba(0, 0, 0, 0.15);\n",
              "      filter: drop-shadow(0px 1px 2px rgba(0, 0, 0, 0.3));\n",
              "      fill: #FFFFFF;\n",
              "    }\n",
              "  </style>\n",
              "\n",
              "      <script>\n",
              "        const buttonEl =\n",
              "          document.querySelector('#df-12e13905-7988-484a-b2da-09d8d95dcc67 button.colab-df-convert');\n",
              "        buttonEl.style.display =\n",
              "          google.colab.kernel.accessAllowed ? 'block' : 'none';\n",
              "\n",
              "        async function convertToInteractive(key) {\n",
              "          const element = document.querySelector('#df-12e13905-7988-484a-b2da-09d8d95dcc67');\n",
              "          const dataTable =\n",
              "            await google.colab.kernel.invokeFunction('convertToInteractive',\n",
              "                                                     [key], {});\n",
              "          if (!dataTable) return;\n",
              "\n",
              "          const docLinkHtml = 'Like what you see? Visit the ' +\n",
              "            '<a target=\"_blank\" href=https://colab.research.google.com/notebooks/data_table.ipynb>data table notebook</a>'\n",
              "            + ' to learn more about interactive tables.';\n",
              "          element.innerHTML = '';\n",
              "          dataTable['output_type'] = 'display_data';\n",
              "          await google.colab.output.renderOutput(dataTable, element);\n",
              "          const docLink = document.createElement('div');\n",
              "          docLink.innerHTML = docLinkHtml;\n",
              "          element.appendChild(docLink);\n",
              "        }\n",
              "      </script>\n",
              "    </div>\n",
              "  </div>\n",
              "  "
            ]
          },
          "metadata": {},
          "execution_count": 34
        }
      ]
    },
    {
      "cell_type": "code",
      "source": [
        "pd.crosstab(mydata['Attack on'],mydata['Total deaths'])"
      ],
      "metadata": {
        "id": "pze2QXQvcoTi",
        "outputId": "819ef6a7-0bdd-4bdf-aa76-a9ca45f960c2",
        "colab": {
          "base_uri": "https://localhost:8080/",
          "height": 204
        }
      },
      "execution_count": 35,
      "outputs": [
        {
          "output_type": "execute_result",
          "data": {
            "text/plain": [
              "Total deaths    1     2     3     4    5    6    7    8    9    10   ...  135  \\\n",
              "Attack on                                                            ...        \n",
              "ENEMY         31776  7152  2625  1472  754  522  274  235  155  148  ...    1   \n",
              "FRIEND         2825   946   370   229  118   84   33   43   22   26  ...    0   \n",
              "NEUTRAL         920   160    61    40   24    7    9    5    5    1  ...    0   \n",
              "\n",
              "Total deaths  153  158  166  170  181  250  276  299  443  \n",
              "Attack on                                                  \n",
              "ENEMY           1    1    1    1    1    1    1    1    0  \n",
              "FRIEND          0    0    0    0    0    0    0    0    0  \n",
              "NEUTRAL         0    0    0    0    0    0    0    0    1  \n",
              "\n",
              "[3 rows x 91 columns]"
            ],
            "text/html": [
              "\n",
              "  <div id=\"df-534ba258-52ae-471a-af5b-71eb684a757a\">\n",
              "    <div class=\"colab-df-container\">\n",
              "      <div>\n",
              "<style scoped>\n",
              "    .dataframe tbody tr th:only-of-type {\n",
              "        vertical-align: middle;\n",
              "    }\n",
              "\n",
              "    .dataframe tbody tr th {\n",
              "        vertical-align: top;\n",
              "    }\n",
              "\n",
              "    .dataframe thead th {\n",
              "        text-align: right;\n",
              "    }\n",
              "</style>\n",
              "<table border=\"1\" class=\"dataframe\">\n",
              "  <thead>\n",
              "    <tr style=\"text-align: right;\">\n",
              "      <th>Total deaths</th>\n",
              "      <th>1</th>\n",
              "      <th>2</th>\n",
              "      <th>3</th>\n",
              "      <th>4</th>\n",
              "      <th>5</th>\n",
              "      <th>6</th>\n",
              "      <th>7</th>\n",
              "      <th>8</th>\n",
              "      <th>9</th>\n",
              "      <th>10</th>\n",
              "      <th>...</th>\n",
              "      <th>135</th>\n",
              "      <th>153</th>\n",
              "      <th>158</th>\n",
              "      <th>166</th>\n",
              "      <th>170</th>\n",
              "      <th>181</th>\n",
              "      <th>250</th>\n",
              "      <th>276</th>\n",
              "      <th>299</th>\n",
              "      <th>443</th>\n",
              "    </tr>\n",
              "    <tr>\n",
              "      <th>Attack on</th>\n",
              "      <th></th>\n",
              "      <th></th>\n",
              "      <th></th>\n",
              "      <th></th>\n",
              "      <th></th>\n",
              "      <th></th>\n",
              "      <th></th>\n",
              "      <th></th>\n",
              "      <th></th>\n",
              "      <th></th>\n",
              "      <th></th>\n",
              "      <th></th>\n",
              "      <th></th>\n",
              "      <th></th>\n",
              "      <th></th>\n",
              "      <th></th>\n",
              "      <th></th>\n",
              "      <th></th>\n",
              "      <th></th>\n",
              "      <th></th>\n",
              "      <th></th>\n",
              "    </tr>\n",
              "  </thead>\n",
              "  <tbody>\n",
              "    <tr>\n",
              "      <th>ENEMY</th>\n",
              "      <td>31776</td>\n",
              "      <td>7152</td>\n",
              "      <td>2625</td>\n",
              "      <td>1472</td>\n",
              "      <td>754</td>\n",
              "      <td>522</td>\n",
              "      <td>274</td>\n",
              "      <td>235</td>\n",
              "      <td>155</td>\n",
              "      <td>148</td>\n",
              "      <td>...</td>\n",
              "      <td>1</td>\n",
              "      <td>1</td>\n",
              "      <td>1</td>\n",
              "      <td>1</td>\n",
              "      <td>1</td>\n",
              "      <td>1</td>\n",
              "      <td>1</td>\n",
              "      <td>1</td>\n",
              "      <td>1</td>\n",
              "      <td>0</td>\n",
              "    </tr>\n",
              "    <tr>\n",
              "      <th>FRIEND</th>\n",
              "      <td>2825</td>\n",
              "      <td>946</td>\n",
              "      <td>370</td>\n",
              "      <td>229</td>\n",
              "      <td>118</td>\n",
              "      <td>84</td>\n",
              "      <td>33</td>\n",
              "      <td>43</td>\n",
              "      <td>22</td>\n",
              "      <td>26</td>\n",
              "      <td>...</td>\n",
              "      <td>0</td>\n",
              "      <td>0</td>\n",
              "      <td>0</td>\n",
              "      <td>0</td>\n",
              "      <td>0</td>\n",
              "      <td>0</td>\n",
              "      <td>0</td>\n",
              "      <td>0</td>\n",
              "      <td>0</td>\n",
              "      <td>0</td>\n",
              "    </tr>\n",
              "    <tr>\n",
              "      <th>NEUTRAL</th>\n",
              "      <td>920</td>\n",
              "      <td>160</td>\n",
              "      <td>61</td>\n",
              "      <td>40</td>\n",
              "      <td>24</td>\n",
              "      <td>7</td>\n",
              "      <td>9</td>\n",
              "      <td>5</td>\n",
              "      <td>5</td>\n",
              "      <td>1</td>\n",
              "      <td>...</td>\n",
              "      <td>0</td>\n",
              "      <td>0</td>\n",
              "      <td>0</td>\n",
              "      <td>0</td>\n",
              "      <td>0</td>\n",
              "      <td>0</td>\n",
              "      <td>0</td>\n",
              "      <td>0</td>\n",
              "      <td>0</td>\n",
              "      <td>1</td>\n",
              "    </tr>\n",
              "  </tbody>\n",
              "</table>\n",
              "<p>3 rows × 91 columns</p>\n",
              "</div>\n",
              "      <button class=\"colab-df-convert\" onclick=\"convertToInteractive('df-534ba258-52ae-471a-af5b-71eb684a757a')\"\n",
              "              title=\"Convert this dataframe to an interactive table.\"\n",
              "              style=\"display:none;\">\n",
              "        \n",
              "  <svg xmlns=\"http://www.w3.org/2000/svg\" height=\"24px\"viewBox=\"0 0 24 24\"\n",
              "       width=\"24px\">\n",
              "    <path d=\"M0 0h24v24H0V0z\" fill=\"none\"/>\n",
              "    <path d=\"M18.56 5.44l.94 2.06.94-2.06 2.06-.94-2.06-.94-.94-2.06-.94 2.06-2.06.94zm-11 1L8.5 8.5l.94-2.06 2.06-.94-2.06-.94L8.5 2.5l-.94 2.06-2.06.94zm10 10l.94 2.06.94-2.06 2.06-.94-2.06-.94-.94-2.06-.94 2.06-2.06.94z\"/><path d=\"M17.41 7.96l-1.37-1.37c-.4-.4-.92-.59-1.43-.59-.52 0-1.04.2-1.43.59L10.3 9.45l-7.72 7.72c-.78.78-.78 2.05 0 2.83L4 21.41c.39.39.9.59 1.41.59.51 0 1.02-.2 1.41-.59l7.78-7.78 2.81-2.81c.8-.78.8-2.07 0-2.86zM5.41 20L4 18.59l7.72-7.72 1.47 1.35L5.41 20z\"/>\n",
              "  </svg>\n",
              "      </button>\n",
              "      \n",
              "  <style>\n",
              "    .colab-df-container {\n",
              "      display:flex;\n",
              "      flex-wrap:wrap;\n",
              "      gap: 12px;\n",
              "    }\n",
              "\n",
              "    .colab-df-convert {\n",
              "      background-color: #E8F0FE;\n",
              "      border: none;\n",
              "      border-radius: 50%;\n",
              "      cursor: pointer;\n",
              "      display: none;\n",
              "      fill: #1967D2;\n",
              "      height: 32px;\n",
              "      padding: 0 0 0 0;\n",
              "      width: 32px;\n",
              "    }\n",
              "\n",
              "    .colab-df-convert:hover {\n",
              "      background-color: #E2EBFA;\n",
              "      box-shadow: 0px 1px 2px rgba(60, 64, 67, 0.3), 0px 1px 3px 1px rgba(60, 64, 67, 0.15);\n",
              "      fill: #174EA6;\n",
              "    }\n",
              "\n",
              "    [theme=dark] .colab-df-convert {\n",
              "      background-color: #3B4455;\n",
              "      fill: #D2E3FC;\n",
              "    }\n",
              "\n",
              "    [theme=dark] .colab-df-convert:hover {\n",
              "      background-color: #434B5C;\n",
              "      box-shadow: 0px 1px 3px 1px rgba(0, 0, 0, 0.15);\n",
              "      filter: drop-shadow(0px 1px 2px rgba(0, 0, 0, 0.3));\n",
              "      fill: #FFFFFF;\n",
              "    }\n",
              "  </style>\n",
              "\n",
              "      <script>\n",
              "        const buttonEl =\n",
              "          document.querySelector('#df-534ba258-52ae-471a-af5b-71eb684a757a button.colab-df-convert');\n",
              "        buttonEl.style.display =\n",
              "          google.colab.kernel.accessAllowed ? 'block' : 'none';\n",
              "\n",
              "        async function convertToInteractive(key) {\n",
              "          const element = document.querySelector('#df-534ba258-52ae-471a-af5b-71eb684a757a');\n",
              "          const dataTable =\n",
              "            await google.colab.kernel.invokeFunction('convertToInteractive',\n",
              "                                                     [key], {});\n",
              "          if (!dataTable) return;\n",
              "\n",
              "          const docLinkHtml = 'Like what you see? Visit the ' +\n",
              "            '<a target=\"_blank\" href=https://colab.research.google.com/notebooks/data_table.ipynb>data table notebook</a>'\n",
              "            + ' to learn more about interactive tables.';\n",
              "          element.innerHTML = '';\n",
              "          dataTable['output_type'] = 'display_data';\n",
              "          await google.colab.output.renderOutput(dataTable, element);\n",
              "          const docLink = document.createElement('div');\n",
              "          docLink.innerHTML = docLinkHtml;\n",
              "          element.appendChild(docLink);\n",
              "        }\n",
              "      </script>\n",
              "    </div>\n",
              "  </div>\n",
              "  "
            ]
          },
          "metadata": {},
          "execution_count": 35
        }
      ]
    },
    {
      "cell_type": "code",
      "source": [
        "mydata['Iraq forces killed'].std()"
      ],
      "metadata": {
        "id": "T6gHguw2d0JB",
        "outputId": "fd068431-336e-4e71-9b8c-fef3a09add88",
        "colab": {
          "base_uri": "https://localhost:8080/"
        }
      },
      "execution_count": 36,
      "outputs": [
        {
          "output_type": "execute_result",
          "data": {
            "text/plain": [
              "1.0113732910774018"
            ]
          },
          "metadata": {},
          "execution_count": 36
        }
      ]
    },
    {
      "cell_type": "code",
      "source": [
        "mydata['Coalition forces wounded']"
      ],
      "metadata": {
        "id": "1jJsGRAYd-fY",
        "outputId": "b7930215-f822-4b74-b543-ef522e28d501",
        "colab": {
          "base_uri": "https://localhost:8080/"
        }
      },
      "execution_count": 37,
      "outputs": [
        {
          "output_type": "execute_result",
          "data": {
            "text/plain": [
              "0        0\n",
              "1        6\n",
              "2        0\n",
              "3        0\n",
              "4        0\n",
              "        ..\n",
              "52043    0\n",
              "52044    0\n",
              "52045    0\n",
              "52046    0\n",
              "52047    0\n",
              "Name: Coalition forces wounded, Length: 52048, dtype: int64"
            ]
          },
          "metadata": {},
          "execution_count": 37
        }
      ]
    },
    {
      "cell_type": "code",
      "source": [
        "mydata.shape"
      ],
      "metadata": {
        "id": "9C6HnRLYeLTm",
        "outputId": "4a08927b-d7e4-46ac-a697-2e34eaaf396c",
        "colab": {
          "base_uri": "https://localhost:8080/"
        }
      },
      "execution_count": 38,
      "outputs": [
        {
          "output_type": "execute_result",
          "data": {
            "text/plain": [
              "(52048, 19)"
            ]
          },
          "metadata": {},
          "execution_count": 38
        }
      ]
    },
    {
      "cell_type": "code",
      "source": [
        "x=st.skewnorm.rvs(10,size=1000)"
      ],
      "metadata": {
        "id": "c64O4No0fXEF"
      },
      "execution_count": 39,
      "outputs": []
    },
    {
      "cell_type": "code",
      "source": [
        "x[1:10]"
      ],
      "metadata": {
        "id": "F6OebIgUf4Ko",
        "outputId": "9992822a-cdc0-4ccd-ffd7-75176a970814",
        "colab": {
          "base_uri": "https://localhost:8080/"
        }
      },
      "execution_count": 40,
      "outputs": [
        {
          "output_type": "execute_result",
          "data": {
            "text/plain": [
              "array([1.74909625, 0.92966878, 0.44305383, 0.19704737, 0.780335  ,\n",
              "       0.24471569, 0.82789145, 1.32175654, 0.48410525])"
            ]
          },
          "metadata": {},
          "execution_count": 40
        }
      ]
    },
    {
      "cell_type": "code",
      "source": [
        "ax = plt.subplots()\n",
        "_=plt.hist(x)"
      ],
      "metadata": {
        "id": "wyrQJ7yxf8rU",
        "outputId": "e06282bc-8bfc-4292-ccb1-0cdd3f49c11e",
        "colab": {
          "base_uri": "https://localhost:8080/",
          "height": 430
        }
      },
      "execution_count": 41,
      "outputs": [
        {
          "output_type": "display_data",
          "data": {
            "text/plain": [
              "<Figure size 640x480 with 1 Axes>"
            ],
            "image/png": "[encoded data removed]"
          },
          "metadata": {}
        }
      ]
    },
    {
      "cell_type": "code",
      "source": [
        "# Create a histogram of the number of incidents by category\n",
        "mydata['Attack on'].value_counts().plot(kind='bar', title='Number of Incidents by Category')\n",
        "\n",
        "# Find the category with the most incidents\n",
        "most_common_category = mydata['Attack on'].mode()[0]\n",
        "print('The category with the most incidents is:', most_common_category)"
      ],
      "metadata": {
        "colab": {
          "base_uri": "https://localhost:8080/",
          "height": 520
        },
        "id": "cwTleYNmdzFB",
        "outputId": "0fad404d-fac1-4891-bd99-7d2ee1c3a405"
      },
      "execution_count": 42,
      "outputs": [
        {
          "output_type": "stream",
          "name": "stdout",
          "text": [
            "The category with the most incidents is: ENEMY\n"
          ]
        },
        {
          "output_type": "display_data",
          "data": {
            "text/plain": [
              "<Figure size 640x480 with 1 Axes>"
            ],
            "image/png": "[encoded data removed]"
          },
          "metadata": {}
        }
      ]
    },
    {
      "cell_type": "code",
      "source": [
        "fig, ax = plt.subplots()\n",
        "plt.axvline(x = x.mean(), color='orange')\n",
        "_ = plt.hist(x, color = 'lightgray')"
      ],
      "metadata": {
        "id": "xsAR696qf_nh",
        "outputId": "f95fa8f5-773a-4598-c647-cf80485528e5",
        "colab": {
          "base_uri": "https://localhost:8080/",
          "height": 430
        }
      },
      "execution_count": 43,
      "outputs": [
        {
          "output_type": "display_data",
          "data": {
            "text/plain": [
              "<Figure size 640x480 with 1 Axes>"
            ],
            "image/png": "[encoded data removed]"
          },
          "metadata": {}
        }
      ]
    },
    {
      "cell_type": "code",
      "source": [
        "xbar = x.mean()\n",
        "xbar"
      ],
      "metadata": {
        "id": "GrJU01JnhpBF",
        "outputId": "50097c13-f414-40ee-bc23-6ba98e70bce7",
        "colab": {
          "base_uri": "https://localhost:8080/"
        }
      },
      "execution_count": 44,
      "outputs": [
        {
          "output_type": "execute_result",
          "data": {
            "text/plain": [
              "0.786258910910544"
            ]
          },
          "metadata": {},
          "execution_count": 44
        }
      ]
    },
    {
      "cell_type": "code",
      "source": [
        "nd.median(x) "
      ],
      "metadata": {
        "id": "fS6LGxXBhxAM",
        "outputId": "a69e014c-8a72-4cf9-ce8d-195aa5d6dbea",
        "colab": {
          "base_uri": "https://localhost:8080/"
        }
      },
      "execution_count": 45,
      "outputs": [
        {
          "output_type": "execute_result",
          "data": {
            "text/plain": [
              "0.6838026377964086"
            ]
          },
          "metadata": {},
          "execution_count": 45
        }
      ]
    },
    {
      "cell_type": "code",
      "source": [
        "fig, ax = plt.subplots()\n",
        "plt.axvline(x = nd.mean(x), color='orange')\n",
        "plt.axvline(x = nd.median(x), color='green')\n",
        "_ = plt.hist(x, color = 'lightgray')"
      ],
      "metadata": {
        "id": "_7zglZY7iOvi",
        "outputId": "99db3400-a4c5-4410-c802-4dae9634fd06",
        "colab": {
          "base_uri": "https://localhost:8080/",
          "height": 430
        }
      },
      "execution_count": 46,
      "outputs": [
        {
          "output_type": "display_data",
          "data": {
            "text/plain": [
              "<Figure size 640x480 with 1 Axes>"
            ],
            "image/png": "[encoded data removed]"
          },
          "metadata": {}
        }
      ]
    },
    {
      "cell_type": "code",
      "source": [
        "# Calculate the number of incidents by type\n",
        "incident_types = df['Type'].value_counts()\n",
        "\n",
        "# Create a pie chart that shows the proportion of incidents by type\n",
        "plt.pie(incident_types.values, labels=incident_types.index, autopct='%1.1f%%')\n",
        "plt.title('Proportion of Incidents by Type')\n",
        "\n",
        "# Display the chart\n",
        "plt.show()"
      ],
      "metadata": {
        "id": "Aw7wrMdJikXj",
        "outputId": "345d1240-9c6d-4075-8d2e-aeed6aadf7ce",
        "colab": {
          "base_uri": "https://localhost:8080/",
          "height": 428
        }
      },
      "execution_count": 71,
      "outputs": [
        {
          "output_type": "display_data",
          "data": {
            "text/plain": [
              "<Figure size 640x480 with 1 Axes>"
            ],
            "image/png": "[encoded data removed]"
          },
          "metadata": {}
        }
      ]
    },
    {
      "cell_type": "code",
      "source": [
        "x.var()"
      ],
      "metadata": {
        "id": "Z31XmoCfiXcZ",
        "outputId": "8a782872-a8c7-4cc5-cde9-e132a4ba0512",
        "colab": {
          "base_uri": "https://localhost:8080/"
        }
      },
      "execution_count": 47,
      "outputs": [
        {
          "output_type": "execute_result",
          "data": {
            "text/plain": [
              "0.33697338461501897"
            ]
          },
          "metadata": {},
          "execution_count": 47
        }
      ]
    },
    {
      "cell_type": "code",
      "source": [
        "x.var()**(1/2)"
      ],
      "metadata": {
        "id": "0oNqaqGqimTo",
        "outputId": "b5360543-ce95-483e-cdce-da4923bbe2f7",
        "colab": {
          "base_uri": "https://localhost:8080/"
        }
      },
      "execution_count": 48,
      "outputs": [
        {
          "output_type": "execute_result",
          "data": {
            "text/plain": [
              "0.5804940866322575"
            ]
          },
          "metadata": {},
          "execution_count": 48
        }
      ]
    },
    {
      "cell_type": "code",
      "source": [
        "sigma = x.std()\n",
        "sigma"
      ],
      "metadata": {
        "id": "cW7RYxlOit2o",
        "outputId": "cb33b8f6-7e3f-4291-a70a-b70f3e0b0328",
        "colab": {
          "base_uri": "https://localhost:8080/"
        }
      },
      "execution_count": 49,
      "outputs": [
        {
          "output_type": "execute_result",
          "data": {
            "text/plain": [
              "0.5804940866322575"
            ]
          },
          "metadata": {},
          "execution_count": 49
        }
      ]
    },
    {
      "cell_type": "code",
      "source": [
        "sigma/(x.size)**(1/2)"
      ],
      "metadata": {
        "id": "jD6qNtybi6mb",
        "outputId": "880c2063-8154-483a-a7c5-8237a71b6c83",
        "colab": {
          "base_uri": "https://localhost:8080/"
        }
      },
      "execution_count": 50,
      "outputs": [
        {
          "output_type": "execute_result",
          "data": {
            "text/plain": [
              "0.018356834820170358"
            ]
          },
          "metadata": {},
          "execution_count": 50
        }
      ]
    },
    {
      "cell_type": "code",
      "source": [
        "fig, ax = plt.subplots()\n",
        "plt.axvline(x = xbar, color='orange')\n",
        "plt.axvline(x = xbar+sigma, color='olivedrab')\n",
        "plt.axvline(x = xbar-sigma, color='olivedrab')\n",
        "_ = plt.hist(x, color = 'lightgray')"
      ],
      "metadata": {
        "id": "-zzIgyg-kcA6",
        "outputId": "dcc85221-eab8-48a4-fba0-c4828aa724a7",
        "colab": {
          "base_uri": "https://localhost:8080/",
          "height": 430
        }
      },
      "execution_count": 51,
      "outputs": [
        {
          "output_type": "display_data",
          "data": {
            "text/plain": [
              "<Figure size 640x480 with 1 Axes>"
            ],
            "image/png": "[encoded data removed]"
          },
          "metadata": {}
        }
      ]
    },
    {
      "cell_type": "code",
      "source": [
        "st.sem(x)"
      ],
      "metadata": {
        "id": "9kRmDE58jDSs",
        "outputId": "7ea391bc-6689-4779-d0e4-ec8d64286b44",
        "colab": {
          "base_uri": "https://localhost:8080/"
        }
      },
      "execution_count": 52,
      "outputs": [
        {
          "output_type": "execute_result",
          "data": {
            "text/plain": [
              "0.01836602012713504"
            ]
          },
          "metadata": {},
          "execution_count": 52
        }
      ]
    },
    {
      "cell_type": "code",
      "source": [
        "x=nd.random.normal(size=1000)"
      ],
      "metadata": {
        "id": "x7ofL9QUjHl9"
      },
      "execution_count": 53,
      "outputs": []
    },
    {
      "cell_type": "code",
      "source": [
        "sns.displot( data=mydata,x='Region', kde=True)"
      ],
      "metadata": {
        "id": "IzwPGnc_jP_i",
        "outputId": "5ade70b9-5d6e-4ea9-ec57-ecfe625ddf56",
        "colab": {
          "base_uri": "https://localhost:8080/",
          "height": 524
        }
      },
      "execution_count": 70,
      "outputs": [
        {
          "output_type": "execute_result",
          "data": {
            "text/plain": [
              "<seaborn.axisgrid.FacetGrid at 0x7fba07c899c0>"
            ]
          },
          "metadata": {},
          "execution_count": 70
        },
        {
          "output_type": "display_data",
          "data": {
            "text/plain": [
              "<Figure size 500x500 with 1 Axes>"
            ],
            "image/png": "[encoded data removed]"
          },
          "metadata": {}
        }
      ]
    },
    {
      "cell_type": "code",
      "source": [
        "x.std()"
      ],
      "metadata": {
        "id": "S4hmcOXKjkGU",
        "outputId": "dfb3b9eb-f1ee-4bba-984f-cdf2955c7cd3",
        "colab": {
          "base_uri": "https://localhost:8080/"
        }
      },
      "execution_count": 55,
      "outputs": [
        {
          "output_type": "execute_result",
          "data": {
            "text/plain": [
              "0.9950548460599099"
            ]
          },
          "metadata": {},
          "execution_count": 55
        }
      ]
    },
    {
      "cell_type": "code",
      "source": [
        "x_sample =nd.random.choice(x, size=11, replace=False)\n",
        "x_sample"
      ],
      "metadata": {
        "id": "ESug0RObjnrF",
        "outputId": "ca8c0535-1326-48a5-f457-efbc60beb8d1",
        "colab": {
          "base_uri": "https://localhost:8080/"
        }
      },
      "execution_count": 56,
      "outputs": [
        {
          "output_type": "execute_result",
          "data": {
            "text/plain": [
              "array([ 0.02333697, -1.09168959, -0.39571456, -0.43843756,  0.93070657,\n",
              "       -0.5240511 ,  0.65285068, -0.51868369,  3.14596285,  0.7179286 ,\n",
              "       -0.3838911 ])"
            ]
          },
          "metadata": {},
          "execution_count": 56
        }
      ]
    },
    {
      "cell_type": "code",
      "source": [
        "x_sample.mean()"
      ],
      "metadata": {
        "id": "AsEXVMqNkCqL",
        "outputId": "e3741ce9-a239-46f7-a35e-aab0a4b23e02",
        "colab": {
          "base_uri": "https://localhost:8080/"
        }
      },
      "execution_count": 57,
      "outputs": [
        {
          "output_type": "execute_result",
          "data": {
            "text/plain": [
              "0.1925743716360525"
            ]
          },
          "metadata": {},
          "execution_count": 57
        }
      ]
    },
    {
      "cell_type": "code",
      "source": [
        "def sample_mean_calculator(input_dist, sample_size, n_samples):\n",
        "    sample_means = []\n",
        "    for i in range(n_samples):\n",
        "        sample = nd.random.choice(input_dist, size=sample_size, replace=False)\n",
        "        sample_means.append(sample.mean())\n",
        "    return sample_means"
      ],
      "metadata": {
        "id": "SBP0T2B8lDWD"
      },
      "execution_count": 78,
      "outputs": []
    },
    {
      "cell_type": "code",
      "source": [
        "# Count the number of incidents by region\n",
        "region_counts = df['Region'].value_counts()\n",
        "\n",
        "# Create a bar chart of the region counts\n",
        "plt.bar(region_counts.index, region_counts.values)\n",
        "\n",
        "# Set the chart title and axis labels\n",
        "plt.title('Number of incidents by region')\n",
        "plt.xlabel('Region')\n",
        "plt.ylabel('Number of incidents')\n",
        "\n",
        "# Show the chart\n",
        "plt.show()"
      ],
      "metadata": {
        "id": "Nhz1s1A0SiQy",
        "outputId": "5d47812c-a432-4e03-f39d-7d0606bd167e",
        "colab": {
          "base_uri": "https://localhost:8080/",
          "height": 472
        }
      },
      "execution_count": 79,
      "outputs": [
        {
          "output_type": "display_data",
          "data": {
            "text/plain": [
              "<Figure size 640x480 with 1 Axes>"
            ],
            "image/png": "[encoded data removed]"
          },
          "metadata": {}
        }
      ]
    },
    {
      "cell_type": "code",
      "source": [
        "xc = sample_mean_calculator(x, 25, 70)"
      ],
      "metadata": {
        "id": "rXxVMl68lHdI"
      },
      "execution_count": 59,
      "outputs": []
    },
    {
      "cell_type": "code",
      "source": [
        "xc"
      ],
      "metadata": {
        "id": "l2SDzrrdlLau",
        "outputId": "7749f128-5e1d-4b05-cf5d-d0ee0377959b",
        "colab": {
          "base_uri": "https://localhost:8080/"
        }
      },
      "execution_count": 60,
      "outputs": [
        {
          "output_type": "execute_result",
          "data": {
            "text/plain": [
              "[0.13183664907928805,\n",
              " 0.05234262805918048,\n",
              " -0.2679595447542058,\n",
              " -0.4115376742271094,\n",
              " 0.2935790295000186,\n",
              " -0.2692414221289711,\n",
              " -0.21523683422302034,\n",
              " 0.031918260378931966,\n",
              " -0.1745111420790521,\n",
              " 0.15834102720628468,\n",
              " 0.12279847635270938,\n",
              " -0.05570903301389246,\n",
              " 0.05370554292331969,\n",
              " -0.09755532849776333,\n",
              " -0.0026882543441615336,\n",
              " 0.008149792218824342,\n",
              " -0.15579493183405588,\n",
              " 0.15702181496330153,\n",
              " -0.0465583197925611,\n",
              " 0.13437850529071013,\n",
              " 0.11324494890681681,\n",
              " 0.08881669534142704,\n",
              " 0.41901205987121753,\n",
              " 0.2682412179004176,\n",
              " 0.1968265626826117,\n",
              " -0.07738748875154801,\n",
              " -0.18972565145223647,\n",
              " 0.3486826685991213,\n",
              " -0.029322272089376614,\n",
              " 0.5871034572047104,\n",
              " 0.008022529899911379,\n",
              " -0.36594606957145115,\n",
              " -0.03298437952971534,\n",
              " 0.08547024778618376,\n",
              " 0.15731033996428073,\n",
              " 0.5894798806092051,\n",
              " 0.11058218047006091,\n",
              " -0.14530273149752726,\n",
              " 0.09269182755422273,\n",
              " 0.15201137173547813,\n",
              " 0.030877082242156254,\n",
              " 0.25050909974438496,\n",
              " 0.021354025702014036,\n",
              " 0.1567639330033367,\n",
              " -0.04096653985777232,\n",
              " 0.11335835958536394,\n",
              " 0.7007619651740806,\n",
              " -0.06254292248792488,\n",
              " -0.07183209105834291,\n",
              " 0.10789371279979756,\n",
              " -0.22765750907705012,\n",
              " -0.030084815707802654,\n",
              " 0.17714114798075578,\n",
              " 0.11152249379921496,\n",
              " 0.13384982832599765,\n",
              " 0.11199205657924345,\n",
              " 0.18693904749647175,\n",
              " 0.07308667266939516,\n",
              " 0.2758829058963389,\n",
              " 0.02858218908040806,\n",
              " 0.03578349596589101,\n",
              " -0.0010072585519983646,\n",
              " 0.446297879911828,\n",
              " -0.0498466058073371,\n",
              " 0.17828363794181945,\n",
              " -0.06911804506494372,\n",
              " 0.11929582930769399,\n",
              " 0.08586376087811043,\n",
              " 0.425058753491064,\n",
              " -0.1927158191247789]"
            ]
          },
          "metadata": {},
          "execution_count": 60
        }
      ]
    },
    {
      "cell_type": "code",
      "source": [],
      "metadata": {
        "id": "t9Za4mv1lQBC",
        "outputId": "129aedc6-7119-4cfb-9b7c-c774537390f0",
        "colab": {
          "base_uri": "https://localhost:8080/",
          "height": 506
        }
      },
      "execution_count": 61,
      "outputs": [
        {
          "output_type": "display_data",
          "data": {
            "text/plain": [
              "<Figure size 500x500 with 1 Axes>"
            ],
            "image/png": "[encoded data removed]"
          },
          "metadata": {}
        }
      ]
    },
    {
      "cell_type": "code",
      "source": [
        "# Create a scatter plot of the incidents based on their latitude and longitude coordinates\n",
        "plt.scatter(df['Longitude'], df['Latitude'], s=10, alpha=0.5)\n",
        "\n",
        "# Set the title and labels of the plot\n",
        "plt.title('Incident Locations')\n",
        "plt.xlabel('Longitude')\n",
        "plt.ylabel('Latitude')\n",
        "\n",
        "# Display the plot\n",
        "plt.show()"
      ],
      "metadata": {
        "id": "J_0LA9p4NdeH",
        "outputId": "b540f362-0c63-4771-f7f1-c7a9e2e28f54",
        "colab": {
          "base_uri": "https://localhost:8080/",
          "height": 472
        }
      },
      "execution_count": 73,
      "outputs": [
        {
          "output_type": "display_data",
          "data": {
            "text/plain": [
              "<Figure size 640x480 with 1 Axes>"
            ],
            "image/png": "[encoded data removed]"
          },
          "metadata": {}
        }
      ]
    },
    {
      "cell_type": "code",
      "source": [
        "# Find the incident with the highest number of total deaths\n",
        "max_deaths = df['Total deaths'].max()\n",
        "max_deaths_incident = df.loc[df['Total deaths'] == max_deaths]\n",
        "\n",
        "# Print the type, category, and attack on information of the incident with the highest number of total deaths\n",
        "print('The incident with the highest number of total deaths is:')\n",
        "print('Type:', max_deaths_incident['Type'].values[0])\n",
        "print('Category:', max_deaths_incident['Category'].values[0])\n",
        "print('Attack on:', max_deaths_incident['Attack on'].values[0])\n",
        "print('Total deaths:', max_deaths_incident['Total deaths'].values[0])"
      ],
      "metadata": {
        "id": "duH6qsvdRMUC",
        "outputId": "ee60c883-89c8-4235-89bf-51f9545b6e7e",
        "colab": {
          "base_uri": "https://localhost:8080/"
        }
      },
      "execution_count": 75,
      "outputs": [
        {
          "output_type": "stream",
          "name": "stdout",
          "text": [
            "The incident with the highest number of total deaths is:\n",
            "Type: Non-Combat Event\n",
            "Category: Demonstration\n",
            "Attack on: NEUTRAL\n",
            "Total deaths: 443\n"
          ]
        }
      ]
    },
    {
      "cell_type": "code",
      "source": [
        "min_deaths = df['Total deaths'].min()\n",
        "max_deaths = df['Total deaths'].max()\n",
        "mode_deaths = df['Total deaths'].mode()[0]\n",
        "median_deaths = df['Total deaths'].median()\n",
        "\n",
        "# Print the results\n",
        "print('Minimum Total deaths:', min_deaths)\n",
        "print('Maximum Total deaths:', max_deaths)\n",
        "print('Mode of Total deaths:', mode_deaths)\n",
        "print('Mode of Total deaths:', median_deaths)"
      ],
      "metadata": {
        "id": "RSk4tLgRRj2n",
        "outputId": "a2a4f1bc-f053-4424-915d-7bb084addff5",
        "colab": {
          "base_uri": "https://localhost:8080/"
        }
      },
      "execution_count": 77,
      "outputs": [
        {
          "output_type": "stream",
          "name": "stdout",
          "text": [
            "Minimum Total deaths: 1\n",
            "Maximum Total deaths: 443\n",
            "Mode of Total deaths: 1\n",
            "Mode of Total deaths: 1.0\n"
          ]
        }
      ]
    }
  ]
}